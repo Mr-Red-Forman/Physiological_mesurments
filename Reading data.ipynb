{
 "cells": [
  {
   "cell_type": "code",
   "execution_count": 1,
   "metadata": {},
   "outputs": [
    {
     "name": "stderr",
     "output_type": "stream",
     "text": [
      "C:\\Users\\bradf\\Anaconda3\\lib\\site-packages\\statsmodels\\tools\\_testing.py:19: FutureWarning: pandas.util.testing is deprecated. Use the functions in the public API at pandas.testing instead.\n",
      "  import pandas.util.testing as tm\n",
      "C:\\Users\\bradf\\Anaconda3\\lib\\site-packages\\outdated\\utils.py:18: OutdatedPackageWarning: The package pingouin is out of date. Your version is 0.3.12, the latest is 0.5.0.\n",
      "Set the environment variable OUTDATED_IGNORE=1 to disable these warnings.\n",
      "  **kwargs\n"
     ]
    }
   ],
   "source": [
    "import os\n",
    "import pandas as pd\n",
    "import re\n",
    "from openpyxl import load_workbook\n",
    "import numpy as np\n",
    "from  datetime import datetime\n",
    "import plotly.graph_objects as go\n",
    "import pingouin as pg\n",
    "from openpyxl.drawing.image import Image\n",
    "import seaborn as sns\n",
    "import re\n",
    "import plotly.express as px\n",
    "from sklearn.decomposition import PCA\n",
    "import dataframe_image as dfi\n",
    "from datetime import datetime as dt"
   ]
  },
  {
   "cell_type": "code",
   "execution_count": 56,
   "metadata": {},
   "outputs": [],
   "source": [
    "path=r'C:\\Users\\bradf\\Dropbox\\Yarden\\yarden\\winter 20-21\\drought\\part 1' #put the location\n",
    "dates='Weight' #date of samples \n",
    "ind_file='\\index-drought part 1.xlsx'\n",
    "os.chdir(path)"
   ]
  },
  {
   "cell_type": "code",
   "execution_count": 57,
   "metadata": {},
   "outputs": [],
   "source": [
    "if not os.path.isdir('input'):\n",
    "    os.makedirs('input')\n",
    "if not os.path.isdir('plots'):\n",
    "    os.makedirs('plots')\n",
    "if not os.path.isdir('output'):\n",
    "    os.makedirs('output')\n",
    "if not os.path.isdir('image'):\n",
    "    os.makedirs('image')\n",
    "if not os.path.isdir('image//line'):\n",
    "    os.makedirs('image//line')\n",
    "if not os.path.isdir('image//box'):\n",
    "    os.makedirs('image//box')\n",
    "if not os.path.isdir('tables'):\n",
    "    os.makedirs('tables')\n",
    "\n",
    "\n",
    "#reading the index file/\n",
    "index_day=pd.read_excel(path+ind_file,sheet_name=dates, index_col='Plant number')\n",
    "index_day.dropna(axis=1,how='all',inplace=True)\n",
    "index_day.index=index_day.index.astype(str)\n",
    "index_day['Plant_Name']=index_day.index\n",
    "index_day.insert(2, 'Plant_Name', index_day.index, True) \n",
    "\n",
    "\n",
    "clear_index=pd.read_excel(path+ind_file,sheet_name='Clear', index_col='Plant number')\n",
    "clear_index.index=clear_index.index.astype(str)\n",
    "#clear_index['Plant_Name']=clear_index.index\n",
    "clear_index.insert(2, 'Plant_Name', clear_index.index, True) \n"
   ]
  },
  {
   "cell_type": "code",
   "execution_count": 58,
   "metadata": {},
   "outputs": [],
   "source": [
    "def outliers_modified_z_score(ys,threshold=2.5):\n",
    "    median_y = ys.median()\n",
    "    median_absolute_deviation_y = np.median([np.abs(y - median_y) for y in ys])\n",
    "    modified_z_scores = [0.6745 * (y - median_y) / median_absolute_deviation_y\n",
    "                         for y in ys]\n",
    "        \n",
    "    return (np.abs(modified_z_scores) > threshold)\n",
    "\n",
    "def outliers_remover(df,col):\n",
    "    gro=df.groupby(['Treatment','Line'])[col]\n",
    "    for name, group in gro:\n",
    "        group=group.dropna()\n",
    "        if len(group)<4 & len(group)>0 :\n",
    "            print (f'{name} group is very small ({len(group)})!!!')\n",
    "        else:\n",
    "            n=outliers_modified_z_score(group)\n",
    "            if any(n)== True:\n",
    "                #print (f'Delete Plants in group:{name}')\n",
    "                for p in range (len(n)):\n",
    "                    if n[p]==True:\n",
    "                        #print (gro.get_group((i[0],i[1])).index[p])\n",
    "                        #print (group.index[p])\n",
    "                        df.drop(axis=0, index=group.index[p], inplace=True)\n",
    "            if len(group)<4:\n",
    "                print (f'in {col} {name} , is small the 4')\n",
    "    return (df)\n",
    "\n",
    "#creating the box plots\n",
    "def box_plots (df2, col='sheet_name',satistics='',dates='00/00/00'):\n",
    "    fig = px.box(df2, x='Line', y=col, color=\"Treatment\",points=\"all\",hover_name=df2.index,\n",
    "                title=(f'{satistics} {dates}'))\n",
    "   # fig.update_traces(quartilemethod=\"exclusive\") # or \"inclusive\", or \"linear\"  exclusive by default\n",
    "    if not os.path.isdir(path+'//image//box//'+dates):\n",
    "        os.makedirs(path+'//image//box//'+dates)\n",
    "    fig.write_image(path+f'//image//box//{dates}//{col}_{satistics}.jpeg')\n",
    "    #fig.show()\n",
    "    "
   ]
  },
  {
   "cell_type": "code",
   "execution_count": 59,
   "metadata": {},
   "outputs": [],
   "source": [
    "def check_groups(first, second,df):\n",
    "#יבדוק בין קבוצות האם הם דומים בקבוצות השונות שלהם\n",
    "    if first in df.index:\n",
    "        A=list(df[df.index==first]['B'])\n",
    "        B=list(df[df.index==second]['B'])\n",
    "    else:\n",
    "        A=list(df[df['B']==first].index)\n",
    "        B=list(df[df['B']==second].index)\n",
    "    return A==B\n",
    "\n",
    "def reading_CSV(p):\n",
    "#readinbg CSV file and adjust them the the formant\n",
    "    df=pd.read_csv(p,index_col='Timestamp')\n",
    "    col=df.columns.to_list()\n",
    "    for n in range(len(col)):\n",
    "        parameter=(re.search('\\-(.*?)\\(', col[n]).group(1).lstrip(' '))#\n",
    "        col[n]= re.search('\\(([^)]+)', col[n]).group(1) #reading only the numbers in the breckets\n",
    "    df.columns=col\n",
    "    df.index=pd.to_datetime(df.index)\n",
    "    df.dropna(axis=1, how='all', inplace=True)\n",
    "    df=df.T\n",
    "    if parameter in ['Weather station PARLight ', 'Weather Station VPD ']:\n",
    "        df.rename(index={df.index[0]:parameter},inplace=True)\n",
    "        #df.index[0]=\n",
    "    return (df)\n",
    "\n",
    "def number_check(n):\n",
    "#jump from Z to a and pass the simbles between.\n",
    "    if n== 91:\n",
    "        n= 97\n",
    "    return (n)\n",
    "\n",
    "def lable_to_groups(limited):\n",
    "#מקבל טבלה לי רמת פי ווליו ומחזיר את אות כל קבוצה לפי סקניפקטיות\n",
    "    significants={}#label dictnery \n",
    "    letter_order=65 #the number of the letter A\n",
    "    Li=list(np.unique(limited.index)) #get list of the uniqe groups in columns A\n",
    "    LB=list(np.unique(limited['B'])) #get list of the uniqe groups in columns B \n",
    "    for index, row in limited.iterrows(): #loop to run over the row\n",
    "        if letter_order== 65: #checking if it in the first character If yes it will give character to the groups in line one\n",
    "            significants[index]=(chr(letter_order))\n",
    "            letter_order+= 1\n",
    "            letter_order=number_check(letter_order)\n",
    "            significants[row['B']]=(chr(letter_order))\n",
    "        elif index not in significants.keys():\n",
    "        #if it not the first row it will check it \n",
    "            for n in Li[:Li.index(index)]: #& index not in significants.keys():\n",
    "                if index not in significants.keys():\n",
    "                    if check_groups(index,n,limited):\n",
    "                        significants[index]=(significants[n])\n",
    "                    else:\n",
    "                        letter_order+= 1\n",
    "                        letter_order=number_check(letter_order)\n",
    "                        significants[index]=(chr(letter_order))\n",
    "        if row['B'] not in significants.keys():\n",
    "            for n in LB[:LB.index(row['B'])]: #& index not in significants.keys():\n",
    "                if n not in significants.keys():\n",
    "                    if check_groups(row['B'],n,limited):\n",
    "                        significants[row['B']]=(significants[n])\n",
    "                    else:\n",
    "                        letter_order+= 1\n",
    "                        letter_order=number_check(letter_order)\n",
    "                        significants[row['B']]=(chr(letter_order))\n",
    "    return (significants)\n",
    "    \n",
    "    \n",
    "\n",
    "def lable_adding (lite, s,lable):\n",
    "#recived df will all the unsignificant p-value between groups  \n",
    "    for n in range (len(lite)): #loop on the df\n",
    "        #add the lable to columns B from the columns A\n",
    "        if lite.index[n] in s.keys(): #cheking it got singficent lable\n",
    "            if lite.iloc[n,0] not in lable.keys(): #if B have key in in the dictionery \n",
    "                lable[lite.iloc[n,0]]=s[lite.index[n]] #add to dictionery if not and give him the lable of columns A\n",
    "            if s[lite.index[n]][0] not in lable[lite.iloc[n,0]]: \n",
    "                lable[lite.iloc[n,0]]=lable[lite.iloc[n,0]]+s[lite.index[n]] #add the lable from column A to B \n",
    "\n",
    "\n",
    "        #add the lable to columns A from the columns B\n",
    "        if lite.iloc[n,0] in s.keys():\n",
    "            if lite.index[n] not in lable.keys():\n",
    "                lable[lite.index[n]]=s[lite.iloc[n,0]]\n",
    "            if s[lite.iloc[n,0]][0] not in lable[lite.index[n]]:\n",
    "                lable[lite.index[n]]=lable[lite.index[n]]+s[lite.iloc[n,0]]\n",
    "\n",
    "    for r in lable.keys():\n",
    "    #sorting the lable by alpah-betic \n",
    "        lable[r]=''.join((sorted(lable[r])))\n",
    "    return lable\n",
    "\n",
    "\n",
    "def group_signification_lable (df, col):\n",
    "    #it wll resive DF with Treatment and line columns and the columns name\n",
    "    #retuen df with columns that have compact letter display (cld)\n",
    "    #df['Group']=df['Treatment']+' '+df['Line']\n",
    "    lable={}\n",
    "    o=pg.pairwise_tukey(data=df, dv=col, between='Group')\n",
    "    o.set_index('A',inplace=True) #set the index\n",
    "    if not o[o['p-tukey']<0.05].empty:\n",
    "        l= o[o['p-tukey']<0.05] #gathering all the signficatnt calls\n",
    "        s=lable_to_groups(l)\n",
    "        for k in s.keys():\n",
    "            lable[k]=s[k]\n",
    "        lable=lable_adding(o[o['p-tukey']>=0.05],s,lable)\n",
    "    else:\n",
    "        for G in df.Group.unique():\n",
    "            lable[G]='A'\n",
    "    return (lable)\n",
    "\n",
    "def box_writer(df,lb,col,satistics='',dates='00/00/00'):\n",
    "#creating the box plots\n",
    "    fig = go.Figure()\n",
    "    for g in df.Group.unique():\n",
    "        fig.add_trace(go.Box(\n",
    "            y=df[df['Group']==g][col],\n",
    "            name=g+', '+ lb[g]+'\\n ('+str(df[df['Group']==g][col].count())+\")\",\n",
    "            boxpoints='all'))\n",
    "        fig.update_traces(hovertext=df.index, selector=dict(type='box'))\n",
    "    fig.update_layout(title_text=(f'{col} {satistics} {dates}'))\n",
    "    fig.update_layout(width=2000, height=1200)\n",
    "    fig.update_layout(font_size=24)\n",
    "    if not os.path.isdir(path+'//image//box//'+dates):\n",
    "        os.makedirs(path+'//image//box//'+dates)\n",
    "    fig.write_image(path+f'//image//box//{dates}//{col}_{satistics}.jpeg')\n",
    "    #fig.show()"
   ]
  },
  {
   "cell_type": "code",
   "execution_count": 60,
   "metadata": {},
   "outputs": [],
   "source": [
    "def add_treatment_and_line(licor,day):\n",
    "###add plant name, treatment, line and avrage rows###\n",
    "    index=pd.read_excel(path+ind_file, index_col='Plant number',sheet_name=day)\n",
    "    index.dropna(subset=['obs'],inplace=True)\n",
    "    index.index=index.index.astype(str)\n",
    "    for i in index.index:\n",
    "        obs= index.loc[i,'obs']\n",
    "        if isinstance(obs, str): #if is list to chack if there are more then one chack\n",
    "            obs=list(map(int,list(obs.split(','))))#get the list of the obserbes on the plant\n",
    "            licor.loc[obs[0],'Plant number']=i\n",
    "            if len(obs)>1:            \n",
    "                for ob in range (len(obs))[1:]:\n",
    "                    #licor.loc[str(obs),:]=licor.loc[obs,:].mean() #if you want to mean all the observes \n",
    "                    licor.loc[obs[ob],'Plant number']=(f'{i} ({ob+1})')\n",
    "                    licor.loc[obs[ob],'Treatment']=index.loc[i,'Treatment']\n",
    "                    licor.loc[obs[ob],'Line']=index.loc[i,'Line']\n",
    "                    #licor.drop(obs, axis=0, index=None, columns=None, level=None, inplace=True, errors='raise')      \n",
    "        else:\n",
    "            licor.loc[obs,'Plant number']=i\n",
    "            licor.loc[obs,'Treatment']=index.loc[i,'Treatment']\n",
    "            licor.loc[obs,'Line']=index.loc[i,'Line']\n",
    "    return (licor)"
   ]
  },
  {
   "cell_type": "code",
   "execution_count": 61,
   "metadata": {},
   "outputs": [],
   "source": [
    "#for dates in os.listdir(r'input'):\n",
    "#daily_traspiration=reading_CSV(path+'\\\\client\\Daily Transpiration__GraphViewer.csv')\n",
    "licor=pd.DataFrame()\n",
    "if os.path.isdir(r'input\\\\'+ dates):\n",
    "    for files_input in os.listdir(r'input\\\\'+ dates):\n",
    "        if 'licor' or 'Licor' in files_input:\n",
    "            r=list(pd.read_excel(r'input\\\\'+ dates+'\\\\'+files_input, index_col=0).index).index('[Data]')\n",
    "            try:\n",
    "                licor=pd.read_excel(r'input\\\\'+ dates+'\\\\'+files_input,header=0,skiprows=r+3, index_col='obs')\n",
    "            except:\n",
    "                print ('ckeck the licor file!!!!')\n",
    "            if licor.empty:\n",
    "                pass\n",
    "            else:\n",
    "                licor=licor[licor.index!='Const:S'] \n",
    "                ad_licor=add_treatment_and_line(licor,str(dates))\n",
    "                ad_licor.reset_index(inplace=True)\n",
    "                ad_licor.set_index('Plant number',inplace=True)\n",
    "                ad_licor[ad_licor.index.notnull()]\n",
    "                patameters=ad_licor.iloc[0,:]\n",
    "                ad_licor=ad_licor.iloc[1:,:]\n",
    "\n",
    "\n",
    "                for i in index_day.index:\n",
    "                    if not pd.isna (index_day.loc[i,'obs']):\n",
    "                        if ',' in str(index_day.loc[i,'obs']):\n",
    "                            lis=list(index_day.loc[i,'obs'].split(','))\n",
    "                            if len(lis)>1:            \n",
    "                                for l in range (len(lis))[1:]:\n",
    "\n",
    "                                    index_day.loc[f'{i} ({l+1})','Treatment']=ad_licor.loc[f'{i} ({l+1})','Treatment']\n",
    "                                    index_day.loc[f'{i} ({l+1})','Line']=ad_licor.loc[f'{i} ({l+1})','Line']\n",
    "                                    index_day.loc[f'{i} ({l+1})','Plant_Name']=i\n",
    "\n",
    "\n",
    "                for col in clear_index.columns[4:]:\n",
    "                    if col in ad_licor.columns: #and col!='obs' and col!='Treatment' and col!='Line':\n",
    "                       # for i in index:\n",
    "                        #index_day.loc[i,col]=ad_licor.loc[i,col]\n",
    "                        for i in index_day.index:\n",
    "                            if i in ad_licor.index:\n",
    "                                index_day.loc[i,col]=ad_licor.loc[i,col]\n",
    "                        index_day[col] =index_day[col].apply(pd.to_numeric, downcast='unsigned', errors='coerce')\n",
    "                        #index_day[col]=pd.to_numeric(index_day[col], downcast='float')\n",
    "\n",
    "if 'E' in index_day.columns and 'A' in index_day.columns:\n",
    "    index_day['WUE']=index_day['A']/index_day['E']\n",
    "if 'Osmotic potantional' in index_day.columns:\n",
    "    index_day['Osmotic potantional (MPa)']=index_day['Osmotic potantional']*2.5/1000*(-1)\n",
    "    index_day.drop('Osmotic potantional', axis=1, index=None, columns=None, level=None, inplace=True, errors='raise')\n",
    "if 'Soil WP' in index_day.columns:\n",
    "    index_day['Soil WP (MPa)']=index_day['Soil WP']*2.5/1000*(-1)\n",
    "    index_day.drop('Soil WP', axis=1, index=None, columns=None, level=None, inplace=True, errors='raise') \n",
    "if 'Leaf WP (kPs)' in index_day.columns:\n",
    "    index_day['Leaf WP (MPa)']=index_day['Leaf WP (kPs)']/1000*(-1)\n",
    "    index_day.drop('Leaf WP (kPs)', axis=1, index=None, columns=None, level=None, inplace=True, errors='raise')    \n",
    "if 'xylem WP (kPs)' in index_day.columns or 'Xylem WP (kPs)' in index_day.columns:\n",
    "    try: \n",
    "        index_day['Xylem WP (MPa)']=index_day['xylem WP (kPs)']/1000*(-1)\n",
    "        index_day.drop('xylem WP (kPs)', axis=1, index=None, columns=None, level=None, inplace=True, errors='raise') \n",
    "    except:\n",
    "        index_day['Xylem WP (MPa)']=index_day['Xylem WP (kPs)']/1000*(-1)\n",
    "        index_day.drop('Xylem WP (kPs)', axis=1, index=None, columns=None, level=None, inplace=True, errors='raise')\n",
    "if 'Leaf WP (MPa)' in index_day.columns and 'Osmotic potantional (MPa)' in index_day.columns:\n",
    "    index_day['Turgor pressure']=index_day['Leaf WP (MPa)']-index_day['Osmotic potantional (MPa)']\n",
    "    \n",
    "#plant Hydrolic: Normelized Transpiration/(leaf WP-Soil WP)\n",
    "if 'Leaf WP (MPa)' in index_day.columns and 'Soil WP (MPa)' in index_day.columns and 'E' in index_day.columns:\n",
    "    index_day['Plant Hydraulic_Lic']= index_day['E']/(index_day['Soil WP (MPa)']-index_day['Leaf WP (MPa)'])\n",
    "#Leaf Hydrolic: Normelized Transpiration/(leaf WP-Xylem WP)\n",
    "if 'Leaf WP (MPa)' in index_day.columns and 'Xylem WP (MPa)' in index_day.columns and 'E' in index_day.columns: \n",
    "    index_day['Leaf Hydraulic_Lic']= index_day['E']/(index_day['Xylem WP (MPa)']-index_day['Leaf WP (MPa)'])\n",
    "#Root Hydrolic: Normelized Transpiration/(leaf WP-Soil WP)\n",
    "if 'Soil WP (MPa)' in index_day.columns and 'Xylem WP (MPa)' in index_day.columns and 'E' in index_day.columns: \n",
    "    index_day['Root Hydraulic_Lic']= index_day['E']/(index_day['Soil WP (MPa)']-index_day['Xylem WP (MPa)'])\n",
    "#index_day=index_day[index_day.Treatment != 'Pre-Flooding ']\n",
    "#index_day['Leaf WP (MPa) per size']=index_day['Leaf WP (MPa)']/index_day['S']\n",
    "#index_day.drop('S',axis=1)\n",
    "if \"Fv'/Fm'\" in index_day.columns:\n",
    "    index_day.rename(columns={\"Fv'/Fm'\": 'FvFm'}, errors=\"raise\",inplace=True)\n",
    "index_day.dropna(inplace=True, axis=1, thresh=5)\n",
    "#index_day.dropna(inplace=True, axis=0 )\n",
    "if dates=='Weight':\n",
    "    index_day['Shoot-Root ratio']=index_day['Shoot Dry weight (g)']/index_day['Root Dry weight (g)']\n",
    "    index_day['Biomass Allocation']=index_day['Root Dry weight (g)']/index_day['Shoot Dry weight (g)']+index_day['Root Dry weight (g)']\n",
    "    if 'Crown Dry weight (g)' in index_day.columns:\n",
    "        index_day['Shoot Root ratio-with Crown']=index_day['Shoot Dry weight (g)']/(index_day['Root Dry weight (g)']+index_day['Crown Dry weight (g)'])\n",
    "        index_day['Shoot-Rhizome ratio']=index_day['Shoot Dry weight (g)']/index_day['Crown Dry weight (g)']\n",
    "        index_day['Root-Rhizome ration']=index_day['Root Dry weight (g)']/index_day['Crown Dry weight (g)']\n",
    "        index_day['Biomass Allocation- Crown part of the root']=(index_day['Root Dry weight (g)']+index_day['Crown Dry weight (g)'])/(index_day['Shoot Dry weight (g)']+index_day['Root Dry weight (g)']+index_day['Crown Dry weight (g)'])\n",
    "        index_day['Biomass Allocation- Crown not part of the root']=index_day['Root Dry weight (g)']/(index_day['Shoot Dry weight (g)']+index_day['Root Dry weight (g)']+index_day['Crown Dry weight (g)'])\n",
    "index_day= index_day.loc[:,~index_day.columns.duplicated()]\n",
    "if not os.path.isdir('output\\\\'+dates):\n",
    "    os.makedirs('output\\\\'+dates)\n",
    "index_day.to_excel(path+'\\\\output\\\\'+dates+'\\\\full_excel_'+dates+'.xlsx', sheet_name=dates)\n",
    "\n",
    "\n"
   ]
  },
  {
   "cell_type": "code",
   "execution_count": 62,
   "metadata": {
    "scrolled": true
   },
   "outputs": [],
   "source": [
    "index_day['Group']=index_day['Treatment']+' '+index_day['Line']\n",
    "if 'Avrage Spad' in index_day.columns:\n",
    "    lb= group_signification_lable (index_day, 'Avrage Spad')\n",
    "    box_writer(index_day,lb,'Avrage Spad','Row',dates=dates)\n",
    "    outliers=index_day.copy()\n",
    "    outliers=outliers_remover(outliers,'Avrage Spad')\n",
    "    lb= group_signification_lable (outliers, 'Avrage Spad')\n",
    "    box_writer(outliers,lb,col,'Outliers',dates=dates)\n",
    "else:   \n",
    "    for col in index_day.columns[4:-1]:\n",
    "        if 'Spad' in str(index_day.columns):\n",
    "            pass\n",
    "        else:\n",
    "            try:\n",
    "                try:\n",
    "                    lb= group_signification_lable (index_day, col)\n",
    "                except:\n",
    "                    pass\n",
    "                box_writer(index_day,lb,col,'Row',dates=dates)\n",
    "                outliers=index_day.copy()\n",
    "                outliers=outliers_remover(outliers,col)\n",
    "                try:\n",
    "                    lb= group_signification_lable (outliers, col)\n",
    "                except:\n",
    "                    pass\n",
    "                box_writer(outliers,lb,col,'Outliers',dates=dates)\n",
    "            except:\n",
    "                print (col)\n",
    "            \n",
    "index_day.drop(columns='Group', inplace=True)\n",
    "\n",
    "table_R=index_day.copy()\n",
    "table_O=outliers.copy()\n",
    "for col in table_R.columns[4:]:\n",
    "    if col!='salt constration (Ec/m)':\n",
    "        if not os.path.isdir(r'tables//'+col):\n",
    "            os.makedirs(r'tables//'+col)\n",
    "            with pd.ExcelWriter(path+'//tables//'+col+'//'+col+'.xlsx') as writer:\n",
    "                row_t=table_R[['Treatment','Line','Plant_Name',col]]\n",
    "                row_t.columns=['Treatment','Line','Plant_Name',dates]\n",
    "                out_t=table_O[['Treatment','Line','Plant_Name',col]]\n",
    "                out_t.columns=['Treatment','Line','Plant_Name',dates]\n",
    "                row_t.to_excel(writer, sheet_name='Row')\n",
    "                out_t.to_excel(writer, sheet_name='outliers')\n",
    "        else:\n",
    "            path_read=path+'//tables//'+col+'//'+col+'.xlsx'\n",
    "            row_t=pd.read_excel(path_read, index_col='Plant number',sheet_name='Row')\n",
    "            out_t=pd.read_excel(path_read, index_col='Plant number',sheet_name='outliers')\n",
    "            row_t.index=row_t.index.astype(str)\n",
    "            out_t.index=out_t.index.astype(str)\n",
    "            for ind in table_R.index:\n",
    "                row_t.loc[ind,dates]=table_R.loc[ind,col]\n",
    "                if str(row_t.loc[ind,'Treatment'])=='nan':\n",
    "                    row_t.loc[ind,'Treatment':'Line']=table_R.loc[ind,'Treatment':'Line']\n",
    "            for ind in table_O.index:\n",
    "                out_t.loc[ind,dates]=table_O.loc[ind,col]\n",
    "                if str(out_t.loc[ind,'Treatment'])=='nan':\n",
    "                    out_t.loc[ind,'Treatment':'Line']=table_O.loc[ind,'Treatment':'Line']\n",
    "            with pd.ExcelWriter(r'tables//'+col+'//'+col+'.xlsx') as writer:  \n",
    "                row_t.to_excel(writer, sheet_name='Row')\n",
    "                out_t.to_excel(writer, sheet_name='outliers')"
   ]
  },
  {
   "cell_type": "code",
   "execution_count": null,
   "metadata": {},
   "outputs": [],
   "source": []
  },
  {
   "cell_type": "code",
   "execution_count": null,
   "metadata": {},
   "outputs": [],
   "source": []
  },
  {
   "cell_type": "code",
   "execution_count": 4,
   "metadata": {
    "scrolled": false
   },
   "outputs": [
    {
     "ename": "NameError",
     "evalue": "name 'index_day' is not defined",
     "output_type": "error",
     "traceback": [
      "\u001b[1;31m---------------------------------------------------------------------------\u001b[0m",
      "\u001b[1;31mNameError\u001b[0m                                 Traceback (most recent call last)",
      "\u001b[1;32m<ipython-input-4-e684262d794e>\u001b[0m in \u001b[0;36m<module>\u001b[1;34m\u001b[0m\n\u001b[1;32m----> 1\u001b[1;33m \u001b[1;32mif\u001b[0m \u001b[1;34m'Shoot'\u001b[0m \u001b[1;32mand\u001b[0m \u001b[1;34m\"Root\"\u001b[0m \u001b[1;32min\u001b[0m \u001b[0mindex_day\u001b[0m\u001b[1;33m.\u001b[0m\u001b[0mcolumns\u001b[0m\u001b[1;33m:\u001b[0m\u001b[1;33m\u001b[0m\u001b[1;33m\u001b[0m\u001b[0m\n\u001b[0m\u001b[0;32m      2\u001b[0m     \u001b[0mindex_day\u001b[0m\u001b[1;33m[\u001b[0m\u001b[1;34m'ShootRoot'\u001b[0m\u001b[1;33m]\u001b[0m\u001b[1;33m=\u001b[0m\u001b[0mindex_day\u001b[0m\u001b[1;33m[\u001b[0m\u001b[1;34m'Shoot'\u001b[0m\u001b[1;33m]\u001b[0m\u001b[1;33m/\u001b[0m\u001b[0mindex_day\u001b[0m\u001b[1;33m[\u001b[0m\u001b[1;34m'Root'\u001b[0m\u001b[1;33m]\u001b[0m\u001b[1;33m\u001b[0m\u001b[1;33m\u001b[0m\u001b[0m\n\u001b[0;32m      3\u001b[0m \u001b[1;33m\u001b[0m\u001b[0m\n\u001b[0;32m      4\u001b[0m \u001b[1;31m#mesuring spad\u001b[0m\u001b[1;33m\u001b[0m\u001b[1;33m\u001b[0m\u001b[1;33m\u001b[0m\u001b[0m\n\u001b[0;32m      5\u001b[0m \u001b[1;31m#index_day['Spad (1)'],'Spad (2)','Spad (3)'].mean()\u001b[0m\u001b[1;33m\u001b[0m\u001b[1;33m\u001b[0m\u001b[1;33m\u001b[0m\u001b[0m\n",
      "\u001b[1;31mNameError\u001b[0m: name 'index_day' is not defined"
     ]
    }
   ],
   "source": [
    "if 'Shoot' and \"Root\" in index_day.columns:\n",
    "    index_day['ShootRoot']=index_day['Shoot']/index_day['Root']\n",
    "    \n",
    "#mesuring spad\n",
    "#index_day['Spad (1)'],'Spad (2)','Spad (3)'].mean()\n",
    "if 'Spad' in index_day.columns:\n",
    "    index_day['Avrage Spad']=index_day[['Spad (1)','Spad (2)','Spad (3)']].mean(axis=1)\n",
    "    index_day.dropna(inplace=True, axis=1 )\n",
    "    index_day.dropna(inplace=True, axis=0 )\n",
    "    if not os.path.isdir('output\\\\'+dates):\n",
    "        os.makedirs('output\\\\'+dates)\n",
    "    index_day.to_excel(path+'\\\\output\\\\'+dates+'\\\\full_excel_'+dates+'.xlsx', sheet_name=dates)"
   ]
  },
  {
   "cell_type": "code",
   "execution_count": 63,
   "metadata": {},
   "outputs": [],
   "source": [
    "def reading_files(file):\n",
    "    path_read=r'tables//'+file.split('.')[0]+'//'+file\n",
    "    row=pd.read_excel(path_read, index_col='Plant number',sheet_name='Row')\n",
    "    row.dropna(axis=1, how='all', inplace=True)\n",
    "    out=pd.read_excel(path_read, index_col='Plant number',sheet_name='outliers')\n",
    "    out.dropna(axis=1, how='all', inplace=True)\n",
    "    Line_graph (row.drop(['Plant_Name'], axis=1),file.split('.')[0]+' Row')\n",
    "    Line_graph (out.drop(['Plant_Name'], axis=1),file.split('.')[0]+' Outliers')\n",
    "    #for col in row.columns[3:]:\n",
    "     #   box_plots(row, col=col,dates=col)\n",
    "      #  box_plots(out, col=col,dates=col)"
   ]
  },
  {
   "cell_type": "code",
   "execution_count": 64,
   "metadata": {
    "scrolled": true
   },
   "outputs": [],
   "source": [
    "def Line_graph (in_df,col=''):\n",
    "    df=in_df.groupby(['Treatment','Line'])\n",
    "    #print (df.count().head)\n",
    "    #df.head()\n",
    "    fig = go.Figure()\n",
    "    for name, group in df:\n",
    "        dash='dashdot'\n",
    "        #count= (str(group.count()[2:][0]))\n",
    "        if name[0]== 'Control':\n",
    "            fig.add_trace(go.Scatter(x=group.mean().index, y=group.mean(),name=name[0]+' '+name[1],\n",
    "                            mode='lines+markers',\n",
    "                            line=dict(dash=dash),\n",
    "                            error_y=dict(type='data', array=group.sem()),\n",
    "                                    ))\n",
    "        else:\n",
    "            fig.add_trace(go.Scatter(x=group.mean().index, y=group.mean(),name=name[0]+' '+name[1],\n",
    "                            mode='lines+markers',\n",
    "                            error_y=dict(type='data', array=group.sem()),\n",
    "                                    ))\n",
    "        fig.update_traces(connectgaps=True, selector=dict(type='scatter'))\n",
    "            \n",
    "    listToStr = ' '.join([str(elem) for elem in col.split(' ')[:-1]])\n",
    "    if not os.path.isdir('image//line//'+listToStr):\n",
    "        os.makedirs('image//line//'+listToStr)\n",
    "    #fig.show()\n",
    "    fig.update_layout(height=800,width=1500)\n",
    "    fig.update_layout(legend_font_size=18)\n",
    "    fig.update_layout(legend_title_font_size=15)\n",
    "    fig.update_layout(font_size=20)\n",
    "    fig.update_layout(\n",
    "    title={\n",
    "        'text': col,\n",
    "        'y':0.93,\n",
    "        'x':0.4,\n",
    "        'xanchor': 'center',\n",
    "        'yanchor': 'top'})\n",
    "    fig.write_image('image//line//'+listToStr+'//'+col+'.jpeg')\n",
    "    #fig.show()\n",
    "\n"
   ]
  },
  {
   "cell_type": "code",
   "execution_count": 65,
   "metadata": {
    "scrolled": false
   },
   "outputs": [
    {
     "name": "stdout",
     "output_type": "stream",
     "text": [
      "files in table:\n"
     ]
    },
    {
     "name": "stderr",
     "output_type": "stream",
     "text": [
      "C:\\Users\\bradf\\Anaconda3\\lib\\site-packages\\ipykernel_launcher.py:10: FutureWarning:\n",
      "\n",
      "Dropping of nuisance columns in DataFrame reductions (with 'numeric_only=None') is deprecated; in a future version this will raise TypeError.  Select only valid columns before calling the reduction.\n",
      "\n",
      "C:\\Users\\bradf\\Anaconda3\\lib\\site-packages\\ipykernel_launcher.py:13: FutureWarning:\n",
      "\n",
      "Dropping of nuisance columns in DataFrame reductions (with 'numeric_only=None') is deprecated; in a future version this will raise TypeError.  Select only valid columns before calling the reduction.\n",
      "\n",
      "C:\\Users\\bradf\\Anaconda3\\lib\\site-packages\\ipykernel_launcher.py:16: FutureWarning:\n",
      "\n",
      "Dropping of nuisance columns in DataFrame reductions (with 'numeric_only=None') is deprecated; in a future version this will raise TypeError.  Select only valid columns before calling the reduction.\n",
      "\n",
      "C:\\Users\\bradf\\Anaconda3\\lib\\site-packages\\ipykernel_launcher.py:18: FutureWarning:\n",
      "\n",
      "Dropping of nuisance columns in DataFrame reductions (with 'numeric_only=None') is deprecated; in a future version this will raise TypeError.  Select only valid columns before calling the reduction.\n",
      "\n"
     ]
    },
    {
     "ename": "FileNotFoundError",
     "evalue": "[Errno 2] No such file or directory: 'tables//~$E//~$E.xlsx'",
     "output_type": "error",
     "traceback": [
      "\u001b[1;31m---------------------------------------------------------------------------\u001b[0m",
      "\u001b[1;31mFileNotFoundError\u001b[0m                         Traceback (most recent call last)",
      "\u001b[1;32m<ipython-input-65-c97a67867398>\u001b[0m in \u001b[0;36m<module>\u001b[1;34m\u001b[0m\n\u001b[0;32m     15\u001b[0m             \u001b[1;31m# Join the two strings in order to form the full filepath.\u001b[0m\u001b[1;33m\u001b[0m\u001b[1;33m\u001b[0m\u001b[1;33m\u001b[0m\u001b[0m\n\u001b[0;32m     16\u001b[0m             \u001b[1;31m#filepath = os.path.join(root, filename)\u001b[0m\u001b[1;33m\u001b[0m\u001b[1;33m\u001b[0m\u001b[1;33m\u001b[0m\u001b[0m\n\u001b[1;32m---> 17\u001b[1;33m             \u001b[0mreading_files\u001b[0m\u001b[1;33m(\u001b[0m\u001b[0mfilename\u001b[0m\u001b[1;33m)\u001b[0m\u001b[1;33m\u001b[0m\u001b[1;33m\u001b[0m\u001b[0m\n\u001b[0m",
      "\u001b[1;32m<ipython-input-63-3c70523a345c>\u001b[0m in \u001b[0;36mreading_files\u001b[1;34m(file)\u001b[0m\n\u001b[0;32m      1\u001b[0m \u001b[1;32mdef\u001b[0m \u001b[0mreading_files\u001b[0m\u001b[1;33m(\u001b[0m\u001b[0mfile\u001b[0m\u001b[1;33m)\u001b[0m\u001b[1;33m:\u001b[0m\u001b[1;33m\u001b[0m\u001b[1;33m\u001b[0m\u001b[0m\n\u001b[0;32m      2\u001b[0m     \u001b[0mpath_read\u001b[0m\u001b[1;33m=\u001b[0m\u001b[1;34mr'tables//'\u001b[0m\u001b[1;33m+\u001b[0m\u001b[0mfile\u001b[0m\u001b[1;33m.\u001b[0m\u001b[0msplit\u001b[0m\u001b[1;33m(\u001b[0m\u001b[1;34m'.'\u001b[0m\u001b[1;33m)\u001b[0m\u001b[1;33m[\u001b[0m\u001b[1;36m0\u001b[0m\u001b[1;33m]\u001b[0m\u001b[1;33m+\u001b[0m\u001b[1;34m'//'\u001b[0m\u001b[1;33m+\u001b[0m\u001b[0mfile\u001b[0m\u001b[1;33m\u001b[0m\u001b[1;33m\u001b[0m\u001b[0m\n\u001b[1;32m----> 3\u001b[1;33m     \u001b[0mrow\u001b[0m\u001b[1;33m=\u001b[0m\u001b[0mpd\u001b[0m\u001b[1;33m.\u001b[0m\u001b[0mread_excel\u001b[0m\u001b[1;33m(\u001b[0m\u001b[0mpath_read\u001b[0m\u001b[1;33m,\u001b[0m \u001b[0mindex_col\u001b[0m\u001b[1;33m=\u001b[0m\u001b[1;34m'Plant number'\u001b[0m\u001b[1;33m,\u001b[0m\u001b[0msheet_name\u001b[0m\u001b[1;33m=\u001b[0m\u001b[1;34m'Row'\u001b[0m\u001b[1;33m)\u001b[0m\u001b[1;33m\u001b[0m\u001b[1;33m\u001b[0m\u001b[0m\n\u001b[0m\u001b[0;32m      4\u001b[0m     \u001b[0mrow\u001b[0m\u001b[1;33m.\u001b[0m\u001b[0mdropna\u001b[0m\u001b[1;33m(\u001b[0m\u001b[0maxis\u001b[0m\u001b[1;33m=\u001b[0m\u001b[1;36m1\u001b[0m\u001b[1;33m,\u001b[0m \u001b[0mhow\u001b[0m\u001b[1;33m=\u001b[0m\u001b[1;34m'all'\u001b[0m\u001b[1;33m,\u001b[0m \u001b[0minplace\u001b[0m\u001b[1;33m=\u001b[0m\u001b[1;32mTrue\u001b[0m\u001b[1;33m)\u001b[0m\u001b[1;33m\u001b[0m\u001b[1;33m\u001b[0m\u001b[0m\n\u001b[0;32m      5\u001b[0m     \u001b[0mout\u001b[0m\u001b[1;33m=\u001b[0m\u001b[0mpd\u001b[0m\u001b[1;33m.\u001b[0m\u001b[0mread_excel\u001b[0m\u001b[1;33m(\u001b[0m\u001b[0mpath_read\u001b[0m\u001b[1;33m,\u001b[0m \u001b[0mindex_col\u001b[0m\u001b[1;33m=\u001b[0m\u001b[1;34m'Plant number'\u001b[0m\u001b[1;33m,\u001b[0m\u001b[0msheet_name\u001b[0m\u001b[1;33m=\u001b[0m\u001b[1;34m'outliers'\u001b[0m\u001b[1;33m)\u001b[0m\u001b[1;33m\u001b[0m\u001b[1;33m\u001b[0m\u001b[0m\n",
      "\u001b[1;32m~\\Anaconda3\\lib\\site-packages\\pandas\\util\\_decorators.py\u001b[0m in \u001b[0;36mwrapper\u001b[1;34m(*args, **kwargs)\u001b[0m\n\u001b[0;32m    309\u001b[0m                     \u001b[0mstacklevel\u001b[0m\u001b[1;33m=\u001b[0m\u001b[0mstacklevel\u001b[0m\u001b[1;33m,\u001b[0m\u001b[1;33m\u001b[0m\u001b[1;33m\u001b[0m\u001b[0m\n\u001b[0;32m    310\u001b[0m                 )\n\u001b[1;32m--> 311\u001b[1;33m             \u001b[1;32mreturn\u001b[0m \u001b[0mfunc\u001b[0m\u001b[1;33m(\u001b[0m\u001b[1;33m*\u001b[0m\u001b[0margs\u001b[0m\u001b[1;33m,\u001b[0m \u001b[1;33m**\u001b[0m\u001b[0mkwargs\u001b[0m\u001b[1;33m)\u001b[0m\u001b[1;33m\u001b[0m\u001b[1;33m\u001b[0m\u001b[0m\n\u001b[0m\u001b[0;32m    312\u001b[0m \u001b[1;33m\u001b[0m\u001b[0m\n\u001b[0;32m    313\u001b[0m         \u001b[1;32mreturn\u001b[0m \u001b[0mwrapper\u001b[0m\u001b[1;33m\u001b[0m\u001b[1;33m\u001b[0m\u001b[0m\n",
      "\u001b[1;32m~\\Anaconda3\\lib\\site-packages\\pandas\\io\\excel\\_base.py\u001b[0m in \u001b[0;36mread_excel\u001b[1;34m(io, sheet_name, header, names, index_col, usecols, squeeze, dtype, engine, converters, true_values, false_values, skiprows, nrows, na_values, keep_default_na, na_filter, verbose, parse_dates, date_parser, thousands, comment, skipfooter, convert_float, mangle_dupe_cols, storage_options)\u001b[0m\n\u001b[0;32m    362\u001b[0m     \u001b[1;32mif\u001b[0m \u001b[1;32mnot\u001b[0m \u001b[0misinstance\u001b[0m\u001b[1;33m(\u001b[0m\u001b[0mio\u001b[0m\u001b[1;33m,\u001b[0m \u001b[0mExcelFile\u001b[0m\u001b[1;33m)\u001b[0m\u001b[1;33m:\u001b[0m\u001b[1;33m\u001b[0m\u001b[1;33m\u001b[0m\u001b[0m\n\u001b[0;32m    363\u001b[0m         \u001b[0mshould_close\u001b[0m \u001b[1;33m=\u001b[0m \u001b[1;32mTrue\u001b[0m\u001b[1;33m\u001b[0m\u001b[1;33m\u001b[0m\u001b[0m\n\u001b[1;32m--> 364\u001b[1;33m         \u001b[0mio\u001b[0m \u001b[1;33m=\u001b[0m \u001b[0mExcelFile\u001b[0m\u001b[1;33m(\u001b[0m\u001b[0mio\u001b[0m\u001b[1;33m,\u001b[0m \u001b[0mstorage_options\u001b[0m\u001b[1;33m=\u001b[0m\u001b[0mstorage_options\u001b[0m\u001b[1;33m,\u001b[0m \u001b[0mengine\u001b[0m\u001b[1;33m=\u001b[0m\u001b[0mengine\u001b[0m\u001b[1;33m)\u001b[0m\u001b[1;33m\u001b[0m\u001b[1;33m\u001b[0m\u001b[0m\n\u001b[0m\u001b[0;32m    365\u001b[0m     \u001b[1;32melif\u001b[0m \u001b[0mengine\u001b[0m \u001b[1;32mand\u001b[0m \u001b[0mengine\u001b[0m \u001b[1;33m!=\u001b[0m \u001b[0mio\u001b[0m\u001b[1;33m.\u001b[0m\u001b[0mengine\u001b[0m\u001b[1;33m:\u001b[0m\u001b[1;33m\u001b[0m\u001b[1;33m\u001b[0m\u001b[0m\n\u001b[0;32m    366\u001b[0m         raise ValueError(\n",
      "\u001b[1;32m~\\Anaconda3\\lib\\site-packages\\pandas\\io\\excel\\_base.py\u001b[0m in \u001b[0;36m__init__\u001b[1;34m(self, path_or_buffer, engine, storage_options)\u001b[0m\n\u001b[0;32m   1190\u001b[0m             \u001b[1;32melse\u001b[0m\u001b[1;33m:\u001b[0m\u001b[1;33m\u001b[0m\u001b[1;33m\u001b[0m\u001b[0m\n\u001b[0;32m   1191\u001b[0m                 ext = inspect_excel_format(\n\u001b[1;32m-> 1192\u001b[1;33m                     \u001b[0mcontent_or_path\u001b[0m\u001b[1;33m=\u001b[0m\u001b[0mpath_or_buffer\u001b[0m\u001b[1;33m,\u001b[0m \u001b[0mstorage_options\u001b[0m\u001b[1;33m=\u001b[0m\u001b[0mstorage_options\u001b[0m\u001b[1;33m\u001b[0m\u001b[1;33m\u001b[0m\u001b[0m\n\u001b[0m\u001b[0;32m   1193\u001b[0m                 )\n\u001b[0;32m   1194\u001b[0m                 \u001b[1;32mif\u001b[0m \u001b[0mext\u001b[0m \u001b[1;32mis\u001b[0m \u001b[1;32mNone\u001b[0m\u001b[1;33m:\u001b[0m\u001b[1;33m\u001b[0m\u001b[1;33m\u001b[0m\u001b[0m\n",
      "\u001b[1;32m~\\Anaconda3\\lib\\site-packages\\pandas\\io\\excel\\_base.py\u001b[0m in \u001b[0;36minspect_excel_format\u001b[1;34m(content_or_path, storage_options)\u001b[0m\n\u001b[0;32m   1069\u001b[0m \u001b[1;33m\u001b[0m\u001b[0m\n\u001b[0;32m   1070\u001b[0m     with get_handle(\n\u001b[1;32m-> 1071\u001b[1;33m         \u001b[0mcontent_or_path\u001b[0m\u001b[1;33m,\u001b[0m \u001b[1;34m\"rb\"\u001b[0m\u001b[1;33m,\u001b[0m \u001b[0mstorage_options\u001b[0m\u001b[1;33m=\u001b[0m\u001b[0mstorage_options\u001b[0m\u001b[1;33m,\u001b[0m \u001b[0mis_text\u001b[0m\u001b[1;33m=\u001b[0m\u001b[1;32mFalse\u001b[0m\u001b[1;33m\u001b[0m\u001b[1;33m\u001b[0m\u001b[0m\n\u001b[0m\u001b[0;32m   1072\u001b[0m     ) as handle:\n\u001b[0;32m   1073\u001b[0m         \u001b[0mstream\u001b[0m \u001b[1;33m=\u001b[0m \u001b[0mhandle\u001b[0m\u001b[1;33m.\u001b[0m\u001b[0mhandle\u001b[0m\u001b[1;33m\u001b[0m\u001b[1;33m\u001b[0m\u001b[0m\n",
      "\u001b[1;32m~\\Anaconda3\\lib\\site-packages\\pandas\\io\\common.py\u001b[0m in \u001b[0;36mget_handle\u001b[1;34m(path_or_buf, mode, encoding, compression, memory_map, is_text, errors, storage_options)\u001b[0m\n\u001b[0;32m    709\u001b[0m         \u001b[1;32melse\u001b[0m\u001b[1;33m:\u001b[0m\u001b[1;33m\u001b[0m\u001b[1;33m\u001b[0m\u001b[0m\n\u001b[0;32m    710\u001b[0m             \u001b[1;31m# Binary mode\u001b[0m\u001b[1;33m\u001b[0m\u001b[1;33m\u001b[0m\u001b[1;33m\u001b[0m\u001b[0m\n\u001b[1;32m--> 711\u001b[1;33m             \u001b[0mhandle\u001b[0m \u001b[1;33m=\u001b[0m \u001b[0mopen\u001b[0m\u001b[1;33m(\u001b[0m\u001b[0mhandle\u001b[0m\u001b[1;33m,\u001b[0m \u001b[0mioargs\u001b[0m\u001b[1;33m.\u001b[0m\u001b[0mmode\u001b[0m\u001b[1;33m)\u001b[0m\u001b[1;33m\u001b[0m\u001b[1;33m\u001b[0m\u001b[0m\n\u001b[0m\u001b[0;32m    712\u001b[0m         \u001b[0mhandles\u001b[0m\u001b[1;33m.\u001b[0m\u001b[0mappend\u001b[0m\u001b[1;33m(\u001b[0m\u001b[0mhandle\u001b[0m\u001b[1;33m)\u001b[0m\u001b[1;33m\u001b[0m\u001b[1;33m\u001b[0m\u001b[0m\n\u001b[0;32m    713\u001b[0m \u001b[1;33m\u001b[0m\u001b[0m\n",
      "\u001b[1;31mFileNotFoundError\u001b[0m: [Errno 2] No such file or directory: 'tables//~$E//~$E.xlsx'"
     ]
    }
   ],
   "source": [
    "print ('files in table:')\n",
    "#for root, directories, files in os.walk(r'tables'):\n",
    " #   for filename in files:\n",
    "        # Join the two strings in order to form the full filepath.\n",
    "        #filepath = os.path.join(root, filename)\n",
    "        #print (filename)\n",
    "choose='' #input('copy the graph name: ')\n",
    "\n",
    "if choose:\n",
    "    reading_files(choose)\n",
    "else:\n",
    "    for root, directories, files in os.walk(r'tables'):\n",
    "        for filename in files:\n",
    "            #if not filename.split(' ')[0] in no_print :\n",
    "            # Join the two strings in order to form the full filepath.\n",
    "            #filepath = os.path.join(root, filename)\n",
    "            reading_files(filename)"
   ]
  },
  {
   "cell_type": "code",
   "execution_count": null,
   "metadata": {},
   "outputs": [],
   "source": []
  },
  {
   "cell_type": "code",
   "execution_count": null,
   "metadata": {},
   "outputs": [],
   "source": []
  },
  {
   "cell_type": "code",
   "execution_count": null,
   "metadata": {},
   "outputs": [],
   "source": []
  },
  {
   "cell_type": "code",
   "execution_count": null,
   "metadata": {},
   "outputs": [],
   "source": []
  },
  {
   "cell_type": "code",
   "execution_count": null,
   "metadata": {},
   "outputs": [],
   "source": []
  },
  {
   "cell_type": "code",
   "execution_count": null,
   "metadata": {},
   "outputs": [],
   "source": []
  },
  {
   "cell_type": "code",
   "execution_count": 46,
   "metadata": {},
   "outputs": [],
   "source": [
    "path_read=r'tables//'+filename.split('.')[0]+'//'+filename\n",
    "row=pd.read_excel(path_read, index_col='Plant number',sheet_name='Row')\n"
   ]
  },
  {
   "cell_type": "code",
   "execution_count": 6,
   "metadata": {},
   "outputs": [],
   "source": [
    "def unique_days(df):\n",
    "#מחזיר את הימים שנעשו בדיקות\n",
    "    lis=df.index.tolist()\n",
    "    for i in range(len(lis)):\n",
    "        lis[i]=lis[i].split('_')[1]\n",
    "    return (list(set(lis)))"
   ]
  },
  {
   "cell_type": "code",
   "execution_count": 7,
   "metadata": {},
   "outputs": [],
   "source": [
    "def create_small_table(df,days):\n",
    "#מקבל את היום את הטבלה ומחזיר טבלה קטנה רק עם התאריכים הרצויים \n",
    "    df_small=df.copy()\n",
    "    for i in df.index:\n",
    "        if not days in i:\n",
    "            df_small.drop([i],inplace=True)\n",
    "    index=df_small.index.tolist()\n",
    "    for i in range(len(index)):\n",
    "        index[i]=index[i].split('_')[0]\n",
    "    df_small.index=index\n",
    "    return (df_small)"
   ]
  },
  {
   "cell_type": "code",
   "execution_count": 98,
   "metadata": {},
   "outputs": [],
   "source": [
    "IF_R=pd.read_csv(r'C:\\Users\\bradf\\Dropbox\\Yarden\\yarden\\winter 20-21\\drought\\client\\root preformnce\\Influx (DIELEC_0_5TM)__GraphViewer.csv',index_col='Timestamp')\n",
    "RT_R=pd.read_csv(r'C:\\Users\\bradf\\Dropbox\\Yarden\\yarden\\winter 20-21\\drought\\client\\root preformnce\\Transpiration Rate__GraphViewer.csv',index_col='Timestamp')\n",
    "IF_R.set_index(pd.to_datetime(IF_R.index), inplace=True)\n",
    "RT_R.set_index(pd.to_datetime(RT_R.index), inplace=True)\n",
    "IF_R=IF_R.between_time('9:00','18:00')\n",
    "RT_R=RT_R.between_time('9:00','18:00')\n",
    "for days in pd.unique(RT_R.index.date):\n",
    "    "
   ]
  },
  {
   "cell_type": "code",
   "execution_count": 105,
   "metadata": {},
   "outputs": [
    {
     "ename": "TypeError",
     "evalue": "unsupported type: <class 'pandas.core.resample.DatetimeIndexResampler'>",
     "output_type": "error",
     "traceback": [
      "\u001b[1;31m---------------------------------------------------------------------------\u001b[0m",
      "\u001b[1;31mTypeError\u001b[0m                                 Traceback (most recent call last)",
      "\u001b[1;32m<ipython-input-105-37d3df714c2d>\u001b[0m in \u001b[0;36m<module>\u001b[1;34m\u001b[0m\n\u001b[1;32m----> 1\u001b[1;33m \u001b[0mIF_R\u001b[0m\u001b[1;33m[\u001b[0m\u001b[0mIF_R\u001b[0m\u001b[1;33m.\u001b[0m\u001b[0mcolumns\u001b[0m\u001b[1;33m[\u001b[0m\u001b[1;36m0\u001b[0m\u001b[1;33m]\u001b[0m\u001b[1;33m]\u001b[0m\u001b[1;33m.\u001b[0m\u001b[0mcorr\u001b[0m\u001b[1;33m(\u001b[0m\u001b[0mRT_R\u001b[0m\u001b[1;33m[\u001b[0m\u001b[0mRT_R\u001b[0m\u001b[1;33m.\u001b[0m\u001b[0mcolumns\u001b[0m\u001b[1;33m[\u001b[0m\u001b[1;36m0\u001b[0m\u001b[1;33m]\u001b[0m\u001b[1;33m]\u001b[0m\u001b[1;33m.\u001b[0m\u001b[0mresample\u001b[0m\u001b[1;33m(\u001b[0m\u001b[1;34m'D'\u001b[0m\u001b[1;33m)\u001b[0m\u001b[1;33m)\u001b[0m\u001b[1;33m\u001b[0m\u001b[1;33m\u001b[0m\u001b[0m\n\u001b[0m",
      "\u001b[1;32m~\\Anaconda3\\lib\\site-packages\\pandas\\core\\series.py\u001b[0m in \u001b[0;36mcorr\u001b[1;34m(self, other, method, min_periods)\u001b[0m\n\u001b[0;32m   2444\u001b[0m         \u001b[1;36m0.3\u001b[0m\u001b[1;33m\u001b[0m\u001b[1;33m\u001b[0m\u001b[0m\n\u001b[0;32m   2445\u001b[0m         \"\"\"\n\u001b[1;32m-> 2446\u001b[1;33m         \u001b[0mthis\u001b[0m\u001b[1;33m,\u001b[0m \u001b[0mother\u001b[0m \u001b[1;33m=\u001b[0m \u001b[0mself\u001b[0m\u001b[1;33m.\u001b[0m\u001b[0malign\u001b[0m\u001b[1;33m(\u001b[0m\u001b[0mother\u001b[0m\u001b[1;33m,\u001b[0m \u001b[0mjoin\u001b[0m\u001b[1;33m=\u001b[0m\u001b[1;34m\"inner\"\u001b[0m\u001b[1;33m,\u001b[0m \u001b[0mcopy\u001b[0m\u001b[1;33m=\u001b[0m\u001b[1;32mFalse\u001b[0m\u001b[1;33m)\u001b[0m\u001b[1;33m\u001b[0m\u001b[1;33m\u001b[0m\u001b[0m\n\u001b[0m\u001b[0;32m   2447\u001b[0m         \u001b[1;32mif\u001b[0m \u001b[0mlen\u001b[0m\u001b[1;33m(\u001b[0m\u001b[0mthis\u001b[0m\u001b[1;33m)\u001b[0m \u001b[1;33m==\u001b[0m \u001b[1;36m0\u001b[0m\u001b[1;33m:\u001b[0m\u001b[1;33m\u001b[0m\u001b[1;33m\u001b[0m\u001b[0m\n\u001b[0;32m   2448\u001b[0m             \u001b[1;32mreturn\u001b[0m \u001b[0mnp\u001b[0m\u001b[1;33m.\u001b[0m\u001b[0mnan\u001b[0m\u001b[1;33m\u001b[0m\u001b[1;33m\u001b[0m\u001b[0m\n",
      "\u001b[1;32m~\\Anaconda3\\lib\\site-packages\\pandas\\core\\series.py\u001b[0m in \u001b[0;36malign\u001b[1;34m(self, other, join, axis, level, copy, fill_value, method, limit, fill_axis, broadcast_axis)\u001b[0m\n\u001b[0;32m   4142\u001b[0m             \u001b[0mlimit\u001b[0m\u001b[1;33m=\u001b[0m\u001b[0mlimit\u001b[0m\u001b[1;33m,\u001b[0m\u001b[1;33m\u001b[0m\u001b[1;33m\u001b[0m\u001b[0m\n\u001b[0;32m   4143\u001b[0m             \u001b[0mfill_axis\u001b[0m\u001b[1;33m=\u001b[0m\u001b[0mfill_axis\u001b[0m\u001b[1;33m,\u001b[0m\u001b[1;33m\u001b[0m\u001b[1;33m\u001b[0m\u001b[0m\n\u001b[1;32m-> 4144\u001b[1;33m             \u001b[0mbroadcast_axis\u001b[0m\u001b[1;33m=\u001b[0m\u001b[0mbroadcast_axis\u001b[0m\u001b[1;33m,\u001b[0m\u001b[1;33m\u001b[0m\u001b[1;33m\u001b[0m\u001b[0m\n\u001b[0m\u001b[0;32m   4145\u001b[0m         )\n\u001b[0;32m   4146\u001b[0m \u001b[1;33m\u001b[0m\u001b[0m\n",
      "\u001b[1;32m~\\Anaconda3\\lib\\site-packages\\pandas\\core\\generic.py\u001b[0m in \u001b[0;36malign\u001b[1;34m(self, other, join, axis, level, copy, fill_value, method, limit, fill_axis, broadcast_axis)\u001b[0m\n\u001b[0;32m   8824\u001b[0m             )\n\u001b[0;32m   8825\u001b[0m         \u001b[1;32melse\u001b[0m\u001b[1;33m:\u001b[0m  \u001b[1;31m# pragma: no cover\u001b[0m\u001b[1;33m\u001b[0m\u001b[1;33m\u001b[0m\u001b[0m\n\u001b[1;32m-> 8826\u001b[1;33m             \u001b[1;32mraise\u001b[0m \u001b[0mTypeError\u001b[0m\u001b[1;33m(\u001b[0m\u001b[1;34m\"unsupported type: %s\"\u001b[0m \u001b[1;33m%\u001b[0m \u001b[0mtype\u001b[0m\u001b[1;33m(\u001b[0m\u001b[0mother\u001b[0m\u001b[1;33m)\u001b[0m\u001b[1;33m)\u001b[0m\u001b[1;33m\u001b[0m\u001b[1;33m\u001b[0m\u001b[0m\n\u001b[0m\u001b[0;32m   8827\u001b[0m \u001b[1;33m\u001b[0m\u001b[0m\n\u001b[0;32m   8828\u001b[0m     def _align_frame(\n",
      "\u001b[1;31mTypeError\u001b[0m: unsupported type: <class 'pandas.core.resample.DatetimeIndexResampler'>"
     ]
    }
   ],
   "source": [
    "IF_R[IF_R.columns[0]].corr(RT_R[RT_R.columns[0]].resample('D'))"
   ]
  },
  {
   "cell_type": "code",
   "execution_count": 8,
   "metadata": {},
   "outputs": [
    {
     "name": "stdout",
     "output_type": "stream",
     "text": [
      "A\n",
      "E\n",
      "FvFm\n",
      "gsw\n",
      "Leaf WP (MPa)\n",
      "Osmotic potantional (MPa)\n",
      "Turgor pressure\n",
      "WUE\n"
     ]
    }
   ],
   "source": [
    "df_big=pd.DataFrame()\n",
    "for root, directories, files in os.walk(r'tables'):\n",
    "    for filename in files:\n",
    "        # Join the two strings in order to form the full filepath.\n",
    "        #filepath = os.path.join(root, filename)\n",
    "        file=filename\n",
    "\n",
    "        path_read=r'tables//'+file.split('.')[0]+'//'+file\n",
    "        df=pd.read_excel(path_read, index_col='Plant number',sheet_name='Row')\n",
    "        for col in df.columns[2:]:\n",
    "            for ind in df.index:\n",
    "                i=str(ind)+'_'+str(col)\n",
    "                c=filename.split('.')[0]\n",
    "                df_big.loc[i,c]=df.loc[ind,col]\n",
    "                df_big.loc[i,'group']=df.loc[ind,'Treatment']+' '+df.loc[ind,'Line']\n",
    "uniqe=unique_days(df_big)\n",
    "#for col in df_small.columns:\n",
    " #   if not col=='group':\n",
    "  #      print (col)"
   ]
  },
  {
   "cell_type": "code",
   "execution_count": 39,
   "metadata": {
    "scrolled": false
   },
   "outputs": [
    {
     "name": "stdout",
     "output_type": "stream",
     "text": [
      "FvFm wasnt mesured\n",
      "24.11.2020 ['A', 'E', 'gsw', 'Osmotic potantional (MPa)', 'Turgor pressure']\n"
     ]
    },
    {
     "data": {
      "application/vnd.plotly.v1+json": {
       "config": {
        "plotlyServerURL": "https://plot.ly"
       },
       "data": [
        {
         "hovertemplate": "color=Flooding DR<br>0=%{x}<br>1=%{y}<extra></extra>",
         "legendgroup": "Flooding DR",
         "marker": {
          "color": "#636efa",
          "symbol": "circle"
         },
         "mode": "markers",
         "name": "Flooding DR",
         "orientation": "v",
         "showlegend": true,
         "type": "scatter",
         "x": [
          -1.6678015055517708,
          -1.4100437995691708,
          -0.271537786137457,
          1.7244553670633957,
          -0.4157960382151248,
          -0.6887231644271127,
          0.30553652115035335,
          -0.6037279086595495,
          -0.5060365331591213,
          -1.1983575499459411
         ],
         "xaxis": "x",
         "y": [
          -0.12923019885721374,
          0.09780427407218745,
          -0.11810143201855253,
          -0.32190713202637067,
          -0.21482409329773225,
          -0.180075670609513,
          -0.35503777852342716,
          0.0680336544975249,
          -0.07516120718799504,
          -0.16925535479365392
         ],
         "yaxis": "y"
        },
        {
         "hovertemplate": "color=Control DR<br>0=%{x}<br>1=%{y}<extra></extra>",
         "legendgroup": "Control DR",
         "marker": {
          "color": "#EF553B",
          "symbol": "circle"
         },
         "mode": "markers",
         "name": "Control DR",
         "orientation": "v",
         "showlegend": true,
         "type": "scatter",
         "x": [
          -1.0748710121009537,
          -2.7514793547199936,
          -1.9878329714559775,
          -0.5368741705289234,
          1.0334298034812965,
          0.16920311198419147,
          -0.59198707106303,
          -0.3364782717706002,
          -0.8536684414508099
         ],
         "xaxis": "x",
         "y": [
          0.12006679647535462,
          0.2017894569331204,
          0.02773122005094379,
          0.3810614041844037,
          0.36092173287779716,
          -0.02310271445366981,
          -0.06809821650477321,
          -0.13892772867025346,
          -0.09865562374323734
         ],
         "yaxis": "y"
        },
        {
         "hovertemplate": "color=Flooding Cycle 8<br>0=%{x}<br>1=%{y}<extra></extra>",
         "legendgroup": "Flooding Cycle 8",
         "marker": {
          "color": "#00cc96",
          "symbol": "circle"
         },
         "mode": "markers",
         "name": "Flooding Cycle 8",
         "orientation": "v",
         "showlegend": true,
         "type": "scatter",
         "x": [
          1.8942754634495123,
          -0.8997921963724379,
          3.232734940688681,
          0.36841785260042254,
          1.7000886159555433,
          -1.0409269522401328,
          -0.23694810760735607,
          0.8836557713956009,
          0.37085231106906785,
          1.3159390531433641
         ],
         "xaxis": "x",
         "y": [
          -0.09967762095537362,
          0.1289668188652191,
          0.6706104475543276,
          0.030009584923030186,
          -0.24570207600653637,
          0.03175899491315644,
          0.3605094850763805,
          -0.13763610549199196,
          -0.015877024450147707,
          0.10472829076290262
         ],
         "yaxis": "y"
        },
        {
         "hovertemplate": "color=Control Cycle 8<br>0=%{x}<br>1=%{y}<extra></extra>",
         "legendgroup": "Control Cycle 8",
         "marker": {
          "color": "#ab63fa",
          "symbol": "circle"
         },
         "mode": "markers",
         "name": "Control Cycle 8",
         "orientation": "v",
         "showlegend": true,
         "type": "scatter",
         "x": [
          1.067115677898096,
          1.3868337721498845,
          3.174217540036239,
          1.0053505029061898,
          1.4920397860031482,
          2.1633115593813885,
          -1.4949344003356306,
          -0.6246520661968867,
          2.216221853456236
         ],
         "xaxis": "x",
         "y": [
          0.17374969853928846,
          -0.16919970970841922,
          0.20608340846215026,
          -0.0763486070285228,
          0.04573856516019882,
          0.09345325703001173,
          0.12330137849579009,
          0.152181310122212,
          -0.08701777816772752
         ],
         "yaxis": "y"
        },
        {
         "hovertemplate": "color=Flooding Cycle 0<br>0=%{x}<br>1=%{y}<extra></extra>",
         "legendgroup": "Flooding Cycle 0",
         "marker": {
          "color": "#FFA15A",
          "symbol": "circle"
         },
         "mode": "markers",
         "name": "Flooding Cycle 0",
         "orientation": "v",
         "showlegend": true,
         "type": "scatter",
         "x": [
          -2.3151134975578076,
          -1.0318849131803287,
          -1.7413259942316481,
          1.331315177152502,
          1.442233885153343,
          0.7495805858430147,
          1.559806083158455,
          -0.9986664965783978,
          -0.6363696755947383,
          -0.4586512309632516
         ],
         "xaxis": "x",
         "y": [
          0.11048588716283224,
          -0.08675948975011098,
          -0.03825826935733638,
          -0.3205813352207479,
          -0.08339201762332277,
          -0.24564935067973429,
          0.04692601711060474,
          -0.14305622781799687,
          0.05140472935081757,
          0.20169548488579264
         ],
         "yaxis": "y"
        },
        {
         "hovertemplate": "color=Control Cycle 0<br>0=%{x}<br>1=%{y}<extra></extra>",
         "legendgroup": "Control Cycle 0",
         "marker": {
          "color": "#19d3f3",
          "symbol": "circle"
         },
         "mode": "markers",
         "name": "Control Cycle 0",
         "orientation": "v",
         "showlegend": true,
         "type": "scatter",
         "x": [
          -0.4844711941565183,
          -0.18767378643958818,
          -2.489645914113464,
          -2.085706322695116,
          1.2461796025619674,
          0.9459941682259111,
          -1.236038509372687,
          0.519361391582244,
          -0.4401335610985275
         ],
         "xaxis": "x",
         "y": [
          -0.1311653832065692,
          0.1029313763739702,
          0.04330714740506873,
          0.08731885423982798,
          -0.34134225169290144,
          0.20362813768475918,
          -0.010404536898684076,
          0.03195739461916967,
          -0.1337098730863243
         ],
         "yaxis": "y"
        }
       ],
       "layout": {
        "legend": {
         "title": {
          "text": "color"
         },
         "tracegroupgap": 0
        },
        "margin": {
         "t": 60
        },
        "template": {
         "data": {
          "bar": [
           {
            "error_x": {
             "color": "#2a3f5f"
            },
            "error_y": {
             "color": "#2a3f5f"
            },
            "marker": {
             "line": {
              "color": "#E5ECF6",
              "width": 0.5
             }
            },
            "type": "bar"
           }
          ],
          "barpolar": [
           {
            "marker": {
             "line": {
              "color": "#E5ECF6",
              "width": 0.5
             }
            },
            "type": "barpolar"
           }
          ],
          "carpet": [
           {
            "aaxis": {
             "endlinecolor": "#2a3f5f",
             "gridcolor": "white",
             "linecolor": "white",
             "minorgridcolor": "white",
             "startlinecolor": "#2a3f5f"
            },
            "baxis": {
             "endlinecolor": "#2a3f5f",
             "gridcolor": "white",
             "linecolor": "white",
             "minorgridcolor": "white",
             "startlinecolor": "#2a3f5f"
            },
            "type": "carpet"
           }
          ],
          "choropleth": [
           {
            "colorbar": {
             "outlinewidth": 0,
             "ticks": ""
            },
            "type": "choropleth"
           }
          ],
          "contour": [
           {
            "colorbar": {
             "outlinewidth": 0,
             "ticks": ""
            },
            "colorscale": [
             [
              0,
              "#0d0887"
             ],
             [
              0.1111111111111111,
              "#46039f"
             ],
             [
              0.2222222222222222,
              "#7201a8"
             ],
             [
              0.3333333333333333,
              "#9c179e"
             ],
             [
              0.4444444444444444,
              "#bd3786"
             ],
             [
              0.5555555555555556,
              "#d8576b"
             ],
             [
              0.6666666666666666,
              "#ed7953"
             ],
             [
              0.7777777777777778,
              "#fb9f3a"
             ],
             [
              0.8888888888888888,
              "#fdca26"
             ],
             [
              1,
              "#f0f921"
             ]
            ],
            "type": "contour"
           }
          ],
          "contourcarpet": [
           {
            "colorbar": {
             "outlinewidth": 0,
             "ticks": ""
            },
            "type": "contourcarpet"
           }
          ],
          "heatmap": [
           {
            "colorbar": {
             "outlinewidth": 0,
             "ticks": ""
            },
            "colorscale": [
             [
              0,
              "#0d0887"
             ],
             [
              0.1111111111111111,
              "#46039f"
             ],
             [
              0.2222222222222222,
              "#7201a8"
             ],
             [
              0.3333333333333333,
              "#9c179e"
             ],
             [
              0.4444444444444444,
              "#bd3786"
             ],
             [
              0.5555555555555556,
              "#d8576b"
             ],
             [
              0.6666666666666666,
              "#ed7953"
             ],
             [
              0.7777777777777778,
              "#fb9f3a"
             ],
             [
              0.8888888888888888,
              "#fdca26"
             ],
             [
              1,
              "#f0f921"
             ]
            ],
            "type": "heatmap"
           }
          ],
          "heatmapgl": [
           {
            "colorbar": {
             "outlinewidth": 0,
             "ticks": ""
            },
            "colorscale": [
             [
              0,
              "#0d0887"
             ],
             [
              0.1111111111111111,
              "#46039f"
             ],
             [
              0.2222222222222222,
              "#7201a8"
             ],
             [
              0.3333333333333333,
              "#9c179e"
             ],
             [
              0.4444444444444444,
              "#bd3786"
             ],
             [
              0.5555555555555556,
              "#d8576b"
             ],
             [
              0.6666666666666666,
              "#ed7953"
             ],
             [
              0.7777777777777778,
              "#fb9f3a"
             ],
             [
              0.8888888888888888,
              "#fdca26"
             ],
             [
              1,
              "#f0f921"
             ]
            ],
            "type": "heatmapgl"
           }
          ],
          "histogram": [
           {
            "marker": {
             "colorbar": {
              "outlinewidth": 0,
              "ticks": ""
             }
            },
            "type": "histogram"
           }
          ],
          "histogram2d": [
           {
            "colorbar": {
             "outlinewidth": 0,
             "ticks": ""
            },
            "colorscale": [
             [
              0,
              "#0d0887"
             ],
             [
              0.1111111111111111,
              "#46039f"
             ],
             [
              0.2222222222222222,
              "#7201a8"
             ],
             [
              0.3333333333333333,
              "#9c179e"
             ],
             [
              0.4444444444444444,
              "#bd3786"
             ],
             [
              0.5555555555555556,
              "#d8576b"
             ],
             [
              0.6666666666666666,
              "#ed7953"
             ],
             [
              0.7777777777777778,
              "#fb9f3a"
             ],
             [
              0.8888888888888888,
              "#fdca26"
             ],
             [
              1,
              "#f0f921"
             ]
            ],
            "type": "histogram2d"
           }
          ],
          "histogram2dcontour": [
           {
            "colorbar": {
             "outlinewidth": 0,
             "ticks": ""
            },
            "colorscale": [
             [
              0,
              "#0d0887"
             ],
             [
              0.1111111111111111,
              "#46039f"
             ],
             [
              0.2222222222222222,
              "#7201a8"
             ],
             [
              0.3333333333333333,
              "#9c179e"
             ],
             [
              0.4444444444444444,
              "#bd3786"
             ],
             [
              0.5555555555555556,
              "#d8576b"
             ],
             [
              0.6666666666666666,
              "#ed7953"
             ],
             [
              0.7777777777777778,
              "#fb9f3a"
             ],
             [
              0.8888888888888888,
              "#fdca26"
             ],
             [
              1,
              "#f0f921"
             ]
            ],
            "type": "histogram2dcontour"
           }
          ],
          "mesh3d": [
           {
            "colorbar": {
             "outlinewidth": 0,
             "ticks": ""
            },
            "type": "mesh3d"
           }
          ],
          "parcoords": [
           {
            "line": {
             "colorbar": {
              "outlinewidth": 0,
              "ticks": ""
             }
            },
            "type": "parcoords"
           }
          ],
          "pie": [
           {
            "automargin": true,
            "type": "pie"
           }
          ],
          "scatter": [
           {
            "marker": {
             "colorbar": {
              "outlinewidth": 0,
              "ticks": ""
             }
            },
            "type": "scatter"
           }
          ],
          "scatter3d": [
           {
            "line": {
             "colorbar": {
              "outlinewidth": 0,
              "ticks": ""
             }
            },
            "marker": {
             "colorbar": {
              "outlinewidth": 0,
              "ticks": ""
             }
            },
            "type": "scatter3d"
           }
          ],
          "scattercarpet": [
           {
            "marker": {
             "colorbar": {
              "outlinewidth": 0,
              "ticks": ""
             }
            },
            "type": "scattercarpet"
           }
          ],
          "scattergeo": [
           {
            "marker": {
             "colorbar": {
              "outlinewidth": 0,
              "ticks": ""
             }
            },
            "type": "scattergeo"
           }
          ],
          "scattergl": [
           {
            "marker": {
             "colorbar": {
              "outlinewidth": 0,
              "ticks": ""
             }
            },
            "type": "scattergl"
           }
          ],
          "scattermapbox": [
           {
            "marker": {
             "colorbar": {
              "outlinewidth": 0,
              "ticks": ""
             }
            },
            "type": "scattermapbox"
           }
          ],
          "scatterpolar": [
           {
            "marker": {
             "colorbar": {
              "outlinewidth": 0,
              "ticks": ""
             }
            },
            "type": "scatterpolar"
           }
          ],
          "scatterpolargl": [
           {
            "marker": {
             "colorbar": {
              "outlinewidth": 0,
              "ticks": ""
             }
            },
            "type": "scatterpolargl"
           }
          ],
          "scatterternary": [
           {
            "marker": {
             "colorbar": {
              "outlinewidth": 0,
              "ticks": ""
             }
            },
            "type": "scatterternary"
           }
          ],
          "surface": [
           {
            "colorbar": {
             "outlinewidth": 0,
             "ticks": ""
            },
            "colorscale": [
             [
              0,
              "#0d0887"
             ],
             [
              0.1111111111111111,
              "#46039f"
             ],
             [
              0.2222222222222222,
              "#7201a8"
             ],
             [
              0.3333333333333333,
              "#9c179e"
             ],
             [
              0.4444444444444444,
              "#bd3786"
             ],
             [
              0.5555555555555556,
              "#d8576b"
             ],
             [
              0.6666666666666666,
              "#ed7953"
             ],
             [
              0.7777777777777778,
              "#fb9f3a"
             ],
             [
              0.8888888888888888,
              "#fdca26"
             ],
             [
              1,
              "#f0f921"
             ]
            ],
            "type": "surface"
           }
          ],
          "table": [
           {
            "cells": {
             "fill": {
              "color": "#EBF0F8"
             },
             "line": {
              "color": "white"
             }
            },
            "header": {
             "fill": {
              "color": "#C8D4E3"
             },
             "line": {
              "color": "white"
             }
            },
            "type": "table"
           }
          ]
         },
         "layout": {
          "annotationdefaults": {
           "arrowcolor": "#2a3f5f",
           "arrowhead": 0,
           "arrowwidth": 1
          },
          "coloraxis": {
           "colorbar": {
            "outlinewidth": 0,
            "ticks": ""
           }
          },
          "colorscale": {
           "diverging": [
            [
             0,
             "#8e0152"
            ],
            [
             0.1,
             "#c51b7d"
            ],
            [
             0.2,
             "#de77ae"
            ],
            [
             0.3,
             "#f1b6da"
            ],
            [
             0.4,
             "#fde0ef"
            ],
            [
             0.5,
             "#f7f7f7"
            ],
            [
             0.6,
             "#e6f5d0"
            ],
            [
             0.7,
             "#b8e186"
            ],
            [
             0.8,
             "#7fbc41"
            ],
            [
             0.9,
             "#4d9221"
            ],
            [
             1,
             "#276419"
            ]
           ],
           "sequential": [
            [
             0,
             "#0d0887"
            ],
            [
             0.1111111111111111,
             "#46039f"
            ],
            [
             0.2222222222222222,
             "#7201a8"
            ],
            [
             0.3333333333333333,
             "#9c179e"
            ],
            [
             0.4444444444444444,
             "#bd3786"
            ],
            [
             0.5555555555555556,
             "#d8576b"
            ],
            [
             0.6666666666666666,
             "#ed7953"
            ],
            [
             0.7777777777777778,
             "#fb9f3a"
            ],
            [
             0.8888888888888888,
             "#fdca26"
            ],
            [
             1,
             "#f0f921"
            ]
           ],
           "sequentialminus": [
            [
             0,
             "#0d0887"
            ],
            [
             0.1111111111111111,
             "#46039f"
            ],
            [
             0.2222222222222222,
             "#7201a8"
            ],
            [
             0.3333333333333333,
             "#9c179e"
            ],
            [
             0.4444444444444444,
             "#bd3786"
            ],
            [
             0.5555555555555556,
             "#d8576b"
            ],
            [
             0.6666666666666666,
             "#ed7953"
            ],
            [
             0.7777777777777778,
             "#fb9f3a"
            ],
            [
             0.8888888888888888,
             "#fdca26"
            ],
            [
             1,
             "#f0f921"
            ]
           ]
          },
          "colorway": [
           "#636efa",
           "#EF553B",
           "#00cc96",
           "#ab63fa",
           "#FFA15A",
           "#19d3f3",
           "#FF6692",
           "#B6E880",
           "#FF97FF",
           "#FECB52"
          ],
          "font": {
           "color": "#2a3f5f"
          },
          "geo": {
           "bgcolor": "white",
           "lakecolor": "white",
           "landcolor": "#E5ECF6",
           "showlakes": true,
           "showland": true,
           "subunitcolor": "white"
          },
          "hoverlabel": {
           "align": "left"
          },
          "hovermode": "closest",
          "mapbox": {
           "style": "light"
          },
          "paper_bgcolor": "white",
          "plot_bgcolor": "#E5ECF6",
          "polar": {
           "angularaxis": {
            "gridcolor": "white",
            "linecolor": "white",
            "ticks": ""
           },
           "bgcolor": "#E5ECF6",
           "radialaxis": {
            "gridcolor": "white",
            "linecolor": "white",
            "ticks": ""
           }
          },
          "scene": {
           "xaxis": {
            "backgroundcolor": "#E5ECF6",
            "gridcolor": "white",
            "gridwidth": 2,
            "linecolor": "white",
            "showbackground": true,
            "ticks": "",
            "zerolinecolor": "white"
           },
           "yaxis": {
            "backgroundcolor": "#E5ECF6",
            "gridcolor": "white",
            "gridwidth": 2,
            "linecolor": "white",
            "showbackground": true,
            "ticks": "",
            "zerolinecolor": "white"
           },
           "zaxis": {
            "backgroundcolor": "#E5ECF6",
            "gridcolor": "white",
            "gridwidth": 2,
            "linecolor": "white",
            "showbackground": true,
            "ticks": "",
            "zerolinecolor": "white"
           }
          },
          "shapedefaults": {
           "line": {
            "color": "#2a3f5f"
           }
          },
          "ternary": {
           "aaxis": {
            "gridcolor": "white",
            "linecolor": "white",
            "ticks": ""
           },
           "baxis": {
            "gridcolor": "white",
            "linecolor": "white",
            "ticks": ""
           },
           "bgcolor": "#E5ECF6",
           "caxis": {
            "gridcolor": "white",
            "linecolor": "white",
            "ticks": ""
           }
          },
          "title": {
           "x": 0.05
          },
          "xaxis": {
           "automargin": true,
           "gridcolor": "white",
           "linecolor": "white",
           "ticks": "",
           "title": {
            "standoff": 15
           },
           "zerolinecolor": "white",
           "zerolinewidth": 2
          },
          "yaxis": {
           "automargin": true,
           "gridcolor": "white",
           "linecolor": "white",
           "ticks": "",
           "title": {
            "standoff": 15
           },
           "zerolinecolor": "white",
           "zerolinewidth": 2
          }
         }
        },
        "xaxis": {
         "anchor": "y",
         "domain": [
          0,
          1
         ],
         "title": {
          "text": "0"
         }
        },
        "yaxis": {
         "anchor": "x",
         "domain": [
          0,
          1
         ],
         "title": {
          "text": "1"
         }
        }
       }
      },
      "text/html": [
       "<div>\n",
       "        \n",
       "        \n",
       "            <div id=\"98c51da7-cdf2-427c-aad6-da5915070472\" class=\"plotly-graph-div\" style=\"height:525px; width:100%;\"></div>\n",
       "            <script type=\"text/javascript\">\n",
       "                require([\"plotly\"], function(Plotly) {\n",
       "                    window.PLOTLYENV=window.PLOTLYENV || {};\n",
       "                    \n",
       "                if (document.getElementById(\"98c51da7-cdf2-427c-aad6-da5915070472\")) {\n",
       "                    Plotly.newPlot(\n",
       "                        '98c51da7-cdf2-427c-aad6-da5915070472',\n",
       "                        [{\"hovertemplate\": \"color=Flooding DR<br>0=%{x}<br>1=%{y}<extra></extra>\", \"legendgroup\": \"Flooding DR\", \"marker\": {\"color\": \"#636efa\", \"symbol\": \"circle\"}, \"mode\": \"markers\", \"name\": \"Flooding DR\", \"orientation\": \"v\", \"showlegend\": true, \"type\": \"scatter\", \"x\": [-1.6678015055517708, -1.4100437995691708, -0.271537786137457, 1.7244553670633957, -0.4157960382151248, -0.6887231644271127, 0.30553652115035335, -0.6037279086595495, -0.5060365331591213, -1.1983575499459411], \"xaxis\": \"x\", \"y\": [-0.12923019885721374, 0.09780427407218745, -0.11810143201855253, -0.32190713202637067, -0.21482409329773225, -0.180075670609513, -0.35503777852342716, 0.0680336544975249, -0.07516120718799504, -0.16925535479365392], \"yaxis\": \"y\"}, {\"hovertemplate\": \"color=Control DR<br>0=%{x}<br>1=%{y}<extra></extra>\", \"legendgroup\": \"Control DR\", \"marker\": {\"color\": \"#EF553B\", \"symbol\": \"circle\"}, \"mode\": \"markers\", \"name\": \"Control DR\", \"orientation\": \"v\", \"showlegend\": true, \"type\": \"scatter\", \"x\": [-1.0748710121009537, -2.7514793547199936, -1.9878329714559775, -0.5368741705289234, 1.0334298034812965, 0.16920311198419147, -0.59198707106303, -0.3364782717706002, -0.8536684414508099], \"xaxis\": \"x\", \"y\": [0.12006679647535462, 0.2017894569331204, 0.02773122005094379, 0.3810614041844037, 0.36092173287779716, -0.02310271445366981, -0.06809821650477321, -0.13892772867025346, -0.09865562374323734], \"yaxis\": \"y\"}, {\"hovertemplate\": \"color=Flooding Cycle 8<br>0=%{x}<br>1=%{y}<extra></extra>\", \"legendgroup\": \"Flooding Cycle 8\", \"marker\": {\"color\": \"#00cc96\", \"symbol\": \"circle\"}, \"mode\": \"markers\", \"name\": \"Flooding Cycle 8\", \"orientation\": \"v\", \"showlegend\": true, \"type\": \"scatter\", \"x\": [1.8942754634495123, -0.8997921963724379, 3.232734940688681, 0.36841785260042254, 1.7000886159555433, -1.0409269522401328, -0.23694810760735607, 0.8836557713956009, 0.37085231106906785, 1.3159390531433641], \"xaxis\": \"x\", \"y\": [-0.09967762095537362, 0.1289668188652191, 0.6706104475543276, 0.030009584923030186, -0.24570207600653637, 0.03175899491315644, 0.3605094850763805, -0.13763610549199196, -0.015877024450147707, 0.10472829076290262], \"yaxis\": \"y\"}, {\"hovertemplate\": \"color=Control Cycle 8<br>0=%{x}<br>1=%{y}<extra></extra>\", \"legendgroup\": \"Control Cycle 8\", \"marker\": {\"color\": \"#ab63fa\", \"symbol\": \"circle\"}, \"mode\": \"markers\", \"name\": \"Control Cycle 8\", \"orientation\": \"v\", \"showlegend\": true, \"type\": \"scatter\", \"x\": [1.067115677898096, 1.3868337721498845, 3.174217540036239, 1.0053505029061898, 1.4920397860031482, 2.1633115593813885, -1.4949344003356306, -0.6246520661968867, 2.216221853456236], \"xaxis\": \"x\", \"y\": [0.17374969853928846, -0.16919970970841922, 0.20608340846215026, -0.0763486070285228, 0.04573856516019882, 0.09345325703001173, 0.12330137849579009, 0.152181310122212, -0.08701777816772752], \"yaxis\": \"y\"}, {\"hovertemplate\": \"color=Flooding Cycle 0<br>0=%{x}<br>1=%{y}<extra></extra>\", \"legendgroup\": \"Flooding Cycle 0\", \"marker\": {\"color\": \"#FFA15A\", \"symbol\": \"circle\"}, \"mode\": \"markers\", \"name\": \"Flooding Cycle 0\", \"orientation\": \"v\", \"showlegend\": true, \"type\": \"scatter\", \"x\": [-2.3151134975578076, -1.0318849131803287, -1.7413259942316481, 1.331315177152502, 1.442233885153343, 0.7495805858430147, 1.559806083158455, -0.9986664965783978, -0.6363696755947383, -0.4586512309632516], \"xaxis\": \"x\", \"y\": [0.11048588716283224, -0.08675948975011098, -0.03825826935733638, -0.3205813352207479, -0.08339201762332277, -0.24564935067973429, 0.04692601711060474, -0.14305622781799687, 0.05140472935081757, 0.20169548488579264], \"yaxis\": \"y\"}, {\"hovertemplate\": \"color=Control Cycle 0<br>0=%{x}<br>1=%{y}<extra></extra>\", \"legendgroup\": \"Control Cycle 0\", \"marker\": {\"color\": \"#19d3f3\", \"symbol\": \"circle\"}, \"mode\": \"markers\", \"name\": \"Control Cycle 0\", \"orientation\": \"v\", \"showlegend\": true, \"type\": \"scatter\", \"x\": [-0.4844711941565183, -0.18767378643958818, -2.489645914113464, -2.085706322695116, 1.2461796025619674, 0.9459941682259111, -1.236038509372687, 0.519361391582244, -0.4401335610985275], \"xaxis\": \"x\", \"y\": [-0.1311653832065692, 0.1029313763739702, 0.04330714740506873, 0.08731885423982798, -0.34134225169290144, 0.20362813768475918, -0.010404536898684076, 0.03195739461916967, -0.1337098730863243], \"yaxis\": \"y\"}],\n",
       "                        {\"legend\": {\"title\": {\"text\": \"color\"}, \"tracegroupgap\": 0}, \"margin\": {\"t\": 60}, \"template\": {\"data\": {\"bar\": [{\"error_x\": {\"color\": \"#2a3f5f\"}, \"error_y\": {\"color\": \"#2a3f5f\"}, \"marker\": {\"line\": {\"color\": \"#E5ECF6\", \"width\": 0.5}}, \"type\": \"bar\"}], \"barpolar\": [{\"marker\": {\"line\": {\"color\": \"#E5ECF6\", \"width\": 0.5}}, \"type\": \"barpolar\"}], \"carpet\": [{\"aaxis\": {\"endlinecolor\": \"#2a3f5f\", \"gridcolor\": \"white\", \"linecolor\": \"white\", \"minorgridcolor\": \"white\", \"startlinecolor\": \"#2a3f5f\"}, \"baxis\": {\"endlinecolor\": \"#2a3f5f\", \"gridcolor\": \"white\", \"linecolor\": \"white\", \"minorgridcolor\": \"white\", \"startlinecolor\": \"#2a3f5f\"}, \"type\": \"carpet\"}], \"choropleth\": [{\"colorbar\": {\"outlinewidth\": 0, \"ticks\": \"\"}, \"type\": \"choropleth\"}], \"contour\": [{\"colorbar\": {\"outlinewidth\": 0, \"ticks\": \"\"}, \"colorscale\": [[0.0, \"#0d0887\"], [0.1111111111111111, \"#46039f\"], [0.2222222222222222, \"#7201a8\"], [0.3333333333333333, \"#9c179e\"], [0.4444444444444444, \"#bd3786\"], [0.5555555555555556, \"#d8576b\"], [0.6666666666666666, \"#ed7953\"], [0.7777777777777778, \"#fb9f3a\"], [0.8888888888888888, \"#fdca26\"], [1.0, \"#f0f921\"]], \"type\": \"contour\"}], \"contourcarpet\": [{\"colorbar\": {\"outlinewidth\": 0, \"ticks\": \"\"}, \"type\": \"contourcarpet\"}], \"heatmap\": [{\"colorbar\": {\"outlinewidth\": 0, \"ticks\": \"\"}, \"colorscale\": [[0.0, \"#0d0887\"], [0.1111111111111111, \"#46039f\"], [0.2222222222222222, \"#7201a8\"], [0.3333333333333333, \"#9c179e\"], [0.4444444444444444, \"#bd3786\"], [0.5555555555555556, \"#d8576b\"], [0.6666666666666666, \"#ed7953\"], [0.7777777777777778, \"#fb9f3a\"], [0.8888888888888888, \"#fdca26\"], [1.0, \"#f0f921\"]], \"type\": \"heatmap\"}], \"heatmapgl\": [{\"colorbar\": {\"outlinewidth\": 0, \"ticks\": \"\"}, \"colorscale\": [[0.0, \"#0d0887\"], [0.1111111111111111, \"#46039f\"], [0.2222222222222222, \"#7201a8\"], [0.3333333333333333, \"#9c179e\"], [0.4444444444444444, \"#bd3786\"], [0.5555555555555556, \"#d8576b\"], [0.6666666666666666, \"#ed7953\"], [0.7777777777777778, \"#fb9f3a\"], [0.8888888888888888, \"#fdca26\"], [1.0, \"#f0f921\"]], \"type\": \"heatmapgl\"}], \"histogram\": [{\"marker\": {\"colorbar\": {\"outlinewidth\": 0, \"ticks\": \"\"}}, \"type\": \"histogram\"}], \"histogram2d\": [{\"colorbar\": {\"outlinewidth\": 0, \"ticks\": \"\"}, \"colorscale\": [[0.0, \"#0d0887\"], [0.1111111111111111, \"#46039f\"], [0.2222222222222222, \"#7201a8\"], [0.3333333333333333, \"#9c179e\"], [0.4444444444444444, \"#bd3786\"], [0.5555555555555556, \"#d8576b\"], [0.6666666666666666, \"#ed7953\"], [0.7777777777777778, \"#fb9f3a\"], [0.8888888888888888, \"#fdca26\"], [1.0, \"#f0f921\"]], \"type\": \"histogram2d\"}], \"histogram2dcontour\": [{\"colorbar\": {\"outlinewidth\": 0, \"ticks\": \"\"}, \"colorscale\": [[0.0, \"#0d0887\"], [0.1111111111111111, \"#46039f\"], [0.2222222222222222, \"#7201a8\"], [0.3333333333333333, \"#9c179e\"], [0.4444444444444444, \"#bd3786\"], [0.5555555555555556, \"#d8576b\"], [0.6666666666666666, \"#ed7953\"], [0.7777777777777778, \"#fb9f3a\"], [0.8888888888888888, \"#fdca26\"], [1.0, \"#f0f921\"]], \"type\": \"histogram2dcontour\"}], \"mesh3d\": [{\"colorbar\": {\"outlinewidth\": 0, \"ticks\": \"\"}, \"type\": \"mesh3d\"}], \"parcoords\": [{\"line\": {\"colorbar\": {\"outlinewidth\": 0, \"ticks\": \"\"}}, \"type\": \"parcoords\"}], \"pie\": [{\"automargin\": true, \"type\": \"pie\"}], \"scatter\": [{\"marker\": {\"colorbar\": {\"outlinewidth\": 0, \"ticks\": \"\"}}, \"type\": \"scatter\"}], \"scatter3d\": [{\"line\": {\"colorbar\": {\"outlinewidth\": 0, \"ticks\": \"\"}}, \"marker\": {\"colorbar\": {\"outlinewidth\": 0, \"ticks\": \"\"}}, \"type\": \"scatter3d\"}], \"scattercarpet\": [{\"marker\": {\"colorbar\": {\"outlinewidth\": 0, \"ticks\": \"\"}}, \"type\": \"scattercarpet\"}], \"scattergeo\": [{\"marker\": {\"colorbar\": {\"outlinewidth\": 0, \"ticks\": \"\"}}, \"type\": \"scattergeo\"}], \"scattergl\": [{\"marker\": {\"colorbar\": {\"outlinewidth\": 0, \"ticks\": \"\"}}, \"type\": \"scattergl\"}], \"scattermapbox\": [{\"marker\": {\"colorbar\": {\"outlinewidth\": 0, \"ticks\": \"\"}}, \"type\": \"scattermapbox\"}], \"scatterpolar\": [{\"marker\": {\"colorbar\": {\"outlinewidth\": 0, \"ticks\": \"\"}}, \"type\": \"scatterpolar\"}], \"scatterpolargl\": [{\"marker\": {\"colorbar\": {\"outlinewidth\": 0, \"ticks\": \"\"}}, \"type\": \"scatterpolargl\"}], \"scatterternary\": [{\"marker\": {\"colorbar\": {\"outlinewidth\": 0, \"ticks\": \"\"}}, \"type\": \"scatterternary\"}], \"surface\": [{\"colorbar\": {\"outlinewidth\": 0, \"ticks\": \"\"}, \"colorscale\": [[0.0, \"#0d0887\"], [0.1111111111111111, \"#46039f\"], [0.2222222222222222, \"#7201a8\"], [0.3333333333333333, \"#9c179e\"], [0.4444444444444444, \"#bd3786\"], [0.5555555555555556, \"#d8576b\"], [0.6666666666666666, \"#ed7953\"], [0.7777777777777778, \"#fb9f3a\"], [0.8888888888888888, \"#fdca26\"], [1.0, \"#f0f921\"]], \"type\": \"surface\"}], \"table\": [{\"cells\": {\"fill\": {\"color\": \"#EBF0F8\"}, \"line\": {\"color\": \"white\"}}, \"header\": {\"fill\": {\"color\": \"#C8D4E3\"}, \"line\": {\"color\": \"white\"}}, \"type\": \"table\"}]}, \"layout\": {\"annotationdefaults\": {\"arrowcolor\": \"#2a3f5f\", \"arrowhead\": 0, \"arrowwidth\": 1}, \"coloraxis\": {\"colorbar\": {\"outlinewidth\": 0, \"ticks\": \"\"}}, \"colorscale\": {\"diverging\": [[0, \"#8e0152\"], [0.1, \"#c51b7d\"], [0.2, \"#de77ae\"], [0.3, \"#f1b6da\"], [0.4, \"#fde0ef\"], [0.5, \"#f7f7f7\"], [0.6, \"#e6f5d0\"], [0.7, \"#b8e186\"], [0.8, \"#7fbc41\"], [0.9, \"#4d9221\"], [1, \"#276419\"]], \"sequential\": [[0.0, \"#0d0887\"], [0.1111111111111111, \"#46039f\"], [0.2222222222222222, \"#7201a8\"], [0.3333333333333333, \"#9c179e\"], [0.4444444444444444, \"#bd3786\"], [0.5555555555555556, \"#d8576b\"], [0.6666666666666666, \"#ed7953\"], [0.7777777777777778, \"#fb9f3a\"], [0.8888888888888888, \"#fdca26\"], [1.0, \"#f0f921\"]], \"sequentialminus\": [[0.0, \"#0d0887\"], [0.1111111111111111, \"#46039f\"], [0.2222222222222222, \"#7201a8\"], [0.3333333333333333, \"#9c179e\"], [0.4444444444444444, \"#bd3786\"], [0.5555555555555556, \"#d8576b\"], [0.6666666666666666, \"#ed7953\"], [0.7777777777777778, \"#fb9f3a\"], [0.8888888888888888, \"#fdca26\"], [1.0, \"#f0f921\"]]}, \"colorway\": [\"#636efa\", \"#EF553B\", \"#00cc96\", \"#ab63fa\", \"#FFA15A\", \"#19d3f3\", \"#FF6692\", \"#B6E880\", \"#FF97FF\", \"#FECB52\"], \"font\": {\"color\": \"#2a3f5f\"}, \"geo\": {\"bgcolor\": \"white\", \"lakecolor\": \"white\", \"landcolor\": \"#E5ECF6\", \"showlakes\": true, \"showland\": true, \"subunitcolor\": \"white\"}, \"hoverlabel\": {\"align\": \"left\"}, \"hovermode\": \"closest\", \"mapbox\": {\"style\": \"light\"}, \"paper_bgcolor\": \"white\", \"plot_bgcolor\": \"#E5ECF6\", \"polar\": {\"angularaxis\": {\"gridcolor\": \"white\", \"linecolor\": \"white\", \"ticks\": \"\"}, \"bgcolor\": \"#E5ECF6\", \"radialaxis\": {\"gridcolor\": \"white\", \"linecolor\": \"white\", \"ticks\": \"\"}}, \"scene\": {\"xaxis\": {\"backgroundcolor\": \"#E5ECF6\", \"gridcolor\": \"white\", \"gridwidth\": 2, \"linecolor\": \"white\", \"showbackground\": true, \"ticks\": \"\", \"zerolinecolor\": \"white\"}, \"yaxis\": {\"backgroundcolor\": \"#E5ECF6\", \"gridcolor\": \"white\", \"gridwidth\": 2, \"linecolor\": \"white\", \"showbackground\": true, \"ticks\": \"\", \"zerolinecolor\": \"white\"}, \"zaxis\": {\"backgroundcolor\": \"#E5ECF6\", \"gridcolor\": \"white\", \"gridwidth\": 2, \"linecolor\": \"white\", \"showbackground\": true, \"ticks\": \"\", \"zerolinecolor\": \"white\"}}, \"shapedefaults\": {\"line\": {\"color\": \"#2a3f5f\"}}, \"ternary\": {\"aaxis\": {\"gridcolor\": \"white\", \"linecolor\": \"white\", \"ticks\": \"\"}, \"baxis\": {\"gridcolor\": \"white\", \"linecolor\": \"white\", \"ticks\": \"\"}, \"bgcolor\": \"#E5ECF6\", \"caxis\": {\"gridcolor\": \"white\", \"linecolor\": \"white\", \"ticks\": \"\"}}, \"title\": {\"x\": 0.05}, \"xaxis\": {\"automargin\": true, \"gridcolor\": \"white\", \"linecolor\": \"white\", \"ticks\": \"\", \"title\": {\"standoff\": 15}, \"zerolinecolor\": \"white\", \"zerolinewidth\": 2}, \"yaxis\": {\"automargin\": true, \"gridcolor\": \"white\", \"linecolor\": \"white\", \"ticks\": \"\", \"title\": {\"standoff\": 15}, \"zerolinecolor\": \"white\", \"zerolinewidth\": 2}}}, \"xaxis\": {\"anchor\": \"y\", \"domain\": [0.0, 1.0], \"title\": {\"text\": \"0\"}}, \"yaxis\": {\"anchor\": \"x\", \"domain\": [0.0, 1.0], \"title\": {\"text\": \"1\"}}},\n",
       "                        {\"responsive\": true}\n",
       "                    ).then(function(){\n",
       "                            \n",
       "var gd = document.getElementById('98c51da7-cdf2-427c-aad6-da5915070472');\n",
       "var x = new MutationObserver(function (mutations, observer) {{\n",
       "        var display = window.getComputedStyle(gd).display;\n",
       "        if (!display || display === 'none') {{\n",
       "            console.log([gd, 'removed!']);\n",
       "            Plotly.purge(gd);\n",
       "            observer.disconnect();\n",
       "        }}\n",
       "}});\n",
       "\n",
       "// Listen for the removal of the full notebook cells\n",
       "var notebookContainer = gd.closest('#notebook-container');\n",
       "if (notebookContainer) {{\n",
       "    x.observe(notebookContainer, {childList: true});\n",
       "}}\n",
       "\n",
       "// Listen for the clearing of the current output cell\n",
       "var outputEl = gd.closest('.output');\n",
       "if (outputEl) {{\n",
       "    x.observe(outputEl, {childList: true});\n",
       "}}\n",
       "\n",
       "                        })\n",
       "                };\n",
       "                });\n",
       "            </script>\n",
       "        </div>"
      ]
     },
     "metadata": {},
     "output_type": "display_data"
    },
    {
     "name": "stdout",
     "output_type": "stream",
     "text": [
      "FvFm wasnt mesured\n",
      "29.11.2020 ['A', 'E', 'FvFm', 'gsw', 'Osmotic potantional (MPa)', 'Turgor pressure']\n"
     ]
    },
    {
     "data": {
      "application/vnd.plotly.v1+json": {
       "config": {
        "plotlyServerURL": "https://plot.ly"
       },
       "data": [
        {
         "hovertemplate": "color=Flooding DR<br>0=%{x}<br>1=%{y}<extra></extra>",
         "legendgroup": "Flooding DR",
         "marker": {
          "color": "#636efa",
          "symbol": "circle"
         },
         "mode": "markers",
         "name": "Flooding DR",
         "orientation": "v",
         "showlegend": true,
         "type": "scatter",
         "x": [
          3.48865467565804,
          0.9487613963763377,
          2.129186351612606,
          2.008938267274812,
          0.5505176638224394,
          -1.718225099506219,
          -0.9724372438725378,
          -0.9952445157219738,
          -1.2099535685222818,
          -2.329333890417403
         ],
         "xaxis": "x",
         "y": [
          -0.1689424229564347,
          -0.0959191990779075,
          0.17706236999738229,
          -0.09786422726575587,
          -0.15867646006886574,
          -0.28061717156573024,
          0.36893517741013926,
          0.2937889805869746,
          -0.12736780766967526,
          -0.13398233818741723
         ],
         "yaxis": "y"
        },
        {
         "hovertemplate": "color=Control DR<br>0=%{x}<br>1=%{y}<extra></extra>",
         "legendgroup": "Control DR",
         "marker": {
          "color": "#EF553B",
          "symbol": "circle"
         },
         "mode": "markers",
         "name": "Control DR",
         "orientation": "v",
         "showlegend": true,
         "type": "scatter",
         "x": [
          -1.5721823005439235,
          -3.3879580538222043,
          -2.608439351908157,
          -1.0828438620871037,
          0.6374328156956109,
          -0.3921872696767728,
          0.4368038352042243,
          -1.5222144397252158,
          -0.2905089956030246
         ],
         "xaxis": "x",
         "y": [
          0.4350142494616441,
          0.37158465928509266,
          -0.0019166017922909759,
          0.324410131008588,
          0.11145163984630686,
          1.0151808536395754,
          -0.043547479353297606,
          0.1973075446935621,
          -0.15789749670908587
         ],
         "yaxis": "y"
        },
        {
         "hovertemplate": "color=Flooding Cycle 8<br>0=%{x}<br>1=%{y}<extra></extra>",
         "legendgroup": "Flooding Cycle 8",
         "marker": {
          "color": "#00cc96",
          "symbol": "circle"
         },
         "mode": "markers",
         "name": "Flooding Cycle 8",
         "orientation": "v",
         "showlegend": true,
         "type": "scatter",
         "x": [
          1.3619088174365386,
          2.8588818190424385,
          4.886066161737534,
          -0.4910155922434931,
          2.9447255914273627,
          -0.5849859881126334,
          1.9866990393577941,
          -0.9218313131554522,
          -0.9970018120207887,
          2.132247017573244
         ],
         "xaxis": "x",
         "y": [
          0.42481849080457407,
          0.8738733170106215,
          0.4473373202637186,
          0.929464779197969,
          -0.2580784637748974,
          -0.09176031266799861,
          -0.12697918563955354,
          -0.29964770221973386,
          -0.28523974418453285,
          -0.09910548559150548
         ],
         "yaxis": "y"
        },
        {
         "hovertemplate": "color=Control Cycle 8<br>0=%{x}<br>1=%{y}<extra></extra>",
         "legendgroup": "Control Cycle 8",
         "marker": {
          "color": "#ab63fa",
          "symbol": "circle"
         },
         "mode": "markers",
         "name": "Control Cycle 8",
         "orientation": "v",
         "showlegend": true,
         "type": "scatter",
         "x": [
          0.39095173152522206,
          0.040745758285596186,
          -1.5034369494795174,
          -1.9716979876308303,
          -1.904965666765689,
          0.8673810454200258,
          -0.3987459942260126,
          -1.9089610789129594,
          0.18147588284112465
         ],
         "xaxis": "x",
         "y": [
          -0.12896115126889,
          -0.21453658808063103,
          0.012589510049650586,
          -0.09374854279960766,
          0.06902057178589327,
          -0.03768680737181306,
          -0.1319381090702834,
          0.08867891685675872,
          0.009889480803469299
         ],
         "yaxis": "y"
        },
        {
         "hovertemplate": "color=Flooding Cycle 0<br>0=%{x}<br>1=%{y}<extra></extra>",
         "legendgroup": "Flooding Cycle 0",
         "marker": {
          "color": "#FFA15A",
          "symbol": "circle"
         },
         "mode": "markers",
         "name": "Flooding Cycle 0",
         "orientation": "v",
         "showlegend": true,
         "type": "scatter",
         "x": [
          -0.189119499077021,
          -1.8091840541657893,
          0.050747171347722,
          0.9480140230129837,
          2.2894853827174564,
          0.6306726230998071,
          2.684718293230838,
          -0.952883554471043,
          3.256672114842969,
          1.8213939405081452
         ],
         "xaxis": "x",
         "y": [
          -0.1879860126411226,
          -0.2776346949053576,
          -0.2794150330628603,
          -0.27946385198204243,
          0.17965076354676265,
          -0.49144400900886137,
          -0.4770659768497488,
          -0.24030483876324554,
          -0.0398841847191876,
          -0.00824333531477136
         ],
         "yaxis": "y"
        },
        {
         "hovertemplate": "color=Control Cycle 0<br>0=%{x}<br>1=%{y}<extra></extra>",
         "legendgroup": "Control Cycle 0",
         "marker": {
          "color": "#19d3f3",
          "symbol": "circle"
         },
         "mode": "markers",
         "name": "Control Cycle 0",
         "orientation": "v",
         "showlegend": true,
         "type": "scatter",
         "x": [
          -0.8404682329980335,
          -0.44978438490551703,
          0.12898337498085233,
          -0.410896013776358,
          -1.3631820879202583,
          -0.7613791371985574,
          0.15284730706095062,
          -1.405177781275887,
          -2.8686663813500175
         ],
         "xaxis": "x",
         "y": [
          -0.17426162263118963,
          -0.24830422513215897,
          -0.0792983251663387,
          -0.3469819341992277,
          -0.21941847341188828,
          -0.07338437024975862,
          -0.04471437453430435,
          -0.17283265326453748,
          0.3449924569038253
         ],
         "yaxis": "y"
        }
       ],
       "layout": {
        "legend": {
         "title": {
          "text": "color"
         },
         "tracegroupgap": 0
        },
        "margin": {
         "t": 60
        },
        "template": {
         "data": {
          "bar": [
           {
            "error_x": {
             "color": "#2a3f5f"
            },
            "error_y": {
             "color": "#2a3f5f"
            },
            "marker": {
             "line": {
              "color": "#E5ECF6",
              "width": 0.5
             }
            },
            "type": "bar"
           }
          ],
          "barpolar": [
           {
            "marker": {
             "line": {
              "color": "#E5ECF6",
              "width": 0.5
             }
            },
            "type": "barpolar"
           }
          ],
          "carpet": [
           {
            "aaxis": {
             "endlinecolor": "#2a3f5f",
             "gridcolor": "white",
             "linecolor": "white",
             "minorgridcolor": "white",
             "startlinecolor": "#2a3f5f"
            },
            "baxis": {
             "endlinecolor": "#2a3f5f",
             "gridcolor": "white",
             "linecolor": "white",
             "minorgridcolor": "white",
             "startlinecolor": "#2a3f5f"
            },
            "type": "carpet"
           }
          ],
          "choropleth": [
           {
            "colorbar": {
             "outlinewidth": 0,
             "ticks": ""
            },
            "type": "choropleth"
           }
          ],
          "contour": [
           {
            "colorbar": {
             "outlinewidth": 0,
             "ticks": ""
            },
            "colorscale": [
             [
              0,
              "#0d0887"
             ],
             [
              0.1111111111111111,
              "#46039f"
             ],
             [
              0.2222222222222222,
              "#7201a8"
             ],
             [
              0.3333333333333333,
              "#9c179e"
             ],
             [
              0.4444444444444444,
              "#bd3786"
             ],
             [
              0.5555555555555556,
              "#d8576b"
             ],
             [
              0.6666666666666666,
              "#ed7953"
             ],
             [
              0.7777777777777778,
              "#fb9f3a"
             ],
             [
              0.8888888888888888,
              "#fdca26"
             ],
             [
              1,
              "#f0f921"
             ]
            ],
            "type": "contour"
           }
          ],
          "contourcarpet": [
           {
            "colorbar": {
             "outlinewidth": 0,
             "ticks": ""
            },
            "type": "contourcarpet"
           }
          ],
          "heatmap": [
           {
            "colorbar": {
             "outlinewidth": 0,
             "ticks": ""
            },
            "colorscale": [
             [
              0,
              "#0d0887"
             ],
             [
              0.1111111111111111,
              "#46039f"
             ],
             [
              0.2222222222222222,
              "#7201a8"
             ],
             [
              0.3333333333333333,
              "#9c179e"
             ],
             [
              0.4444444444444444,
              "#bd3786"
             ],
             [
              0.5555555555555556,
              "#d8576b"
             ],
             [
              0.6666666666666666,
              "#ed7953"
             ],
             [
              0.7777777777777778,
              "#fb9f3a"
             ],
             [
              0.8888888888888888,
              "#fdca26"
             ],
             [
              1,
              "#f0f921"
             ]
            ],
            "type": "heatmap"
           }
          ],
          "heatmapgl": [
           {
            "colorbar": {
             "outlinewidth": 0,
             "ticks": ""
            },
            "colorscale": [
             [
              0,
              "#0d0887"
             ],
             [
              0.1111111111111111,
              "#46039f"
             ],
             [
              0.2222222222222222,
              "#7201a8"
             ],
             [
              0.3333333333333333,
              "#9c179e"
             ],
             [
              0.4444444444444444,
              "#bd3786"
             ],
             [
              0.5555555555555556,
              "#d8576b"
             ],
             [
              0.6666666666666666,
              "#ed7953"
             ],
             [
              0.7777777777777778,
              "#fb9f3a"
             ],
             [
              0.8888888888888888,
              "#fdca26"
             ],
             [
              1,
              "#f0f921"
             ]
            ],
            "type": "heatmapgl"
           }
          ],
          "histogram": [
           {
            "marker": {
             "colorbar": {
              "outlinewidth": 0,
              "ticks": ""
             }
            },
            "type": "histogram"
           }
          ],
          "histogram2d": [
           {
            "colorbar": {
             "outlinewidth": 0,
             "ticks": ""
            },
            "colorscale": [
             [
              0,
              "#0d0887"
             ],
             [
              0.1111111111111111,
              "#46039f"
             ],
             [
              0.2222222222222222,
              "#7201a8"
             ],
             [
              0.3333333333333333,
              "#9c179e"
             ],
             [
              0.4444444444444444,
              "#bd3786"
             ],
             [
              0.5555555555555556,
              "#d8576b"
             ],
             [
              0.6666666666666666,
              "#ed7953"
             ],
             [
              0.7777777777777778,
              "#fb9f3a"
             ],
             [
              0.8888888888888888,
              "#fdca26"
             ],
             [
              1,
              "#f0f921"
             ]
            ],
            "type": "histogram2d"
           }
          ],
          "histogram2dcontour": [
           {
            "colorbar": {
             "outlinewidth": 0,
             "ticks": ""
            },
            "colorscale": [
             [
              0,
              "#0d0887"
             ],
             [
              0.1111111111111111,
              "#46039f"
             ],
             [
              0.2222222222222222,
              "#7201a8"
             ],
             [
              0.3333333333333333,
              "#9c179e"
             ],
             [
              0.4444444444444444,
              "#bd3786"
             ],
             [
              0.5555555555555556,
              "#d8576b"
             ],
             [
              0.6666666666666666,
              "#ed7953"
             ],
             [
              0.7777777777777778,
              "#fb9f3a"
             ],
             [
              0.8888888888888888,
              "#fdca26"
             ],
             [
              1,
              "#f0f921"
             ]
            ],
            "type": "histogram2dcontour"
           }
          ],
          "mesh3d": [
           {
            "colorbar": {
             "outlinewidth": 0,
             "ticks": ""
            },
            "type": "mesh3d"
           }
          ],
          "parcoords": [
           {
            "line": {
             "colorbar": {
              "outlinewidth": 0,
              "ticks": ""
             }
            },
            "type": "parcoords"
           }
          ],
          "pie": [
           {
            "automargin": true,
            "type": "pie"
           }
          ],
          "scatter": [
           {
            "marker": {
             "colorbar": {
              "outlinewidth": 0,
              "ticks": ""
             }
            },
            "type": "scatter"
           }
          ],
          "scatter3d": [
           {
            "line": {
             "colorbar": {
              "outlinewidth": 0,
              "ticks": ""
             }
            },
            "marker": {
             "colorbar": {
              "outlinewidth": 0,
              "ticks": ""
             }
            },
            "type": "scatter3d"
           }
          ],
          "scattercarpet": [
           {
            "marker": {
             "colorbar": {
              "outlinewidth": 0,
              "ticks": ""
             }
            },
            "type": "scattercarpet"
           }
          ],
          "scattergeo": [
           {
            "marker": {
             "colorbar": {
              "outlinewidth": 0,
              "ticks": ""
             }
            },
            "type": "scattergeo"
           }
          ],
          "scattergl": [
           {
            "marker": {
             "colorbar": {
              "outlinewidth": 0,
              "ticks": ""
             }
            },
            "type": "scattergl"
           }
          ],
          "scattermapbox": [
           {
            "marker": {
             "colorbar": {
              "outlinewidth": 0,
              "ticks": ""
             }
            },
            "type": "scattermapbox"
           }
          ],
          "scatterpolar": [
           {
            "marker": {
             "colorbar": {
              "outlinewidth": 0,
              "ticks": ""
             }
            },
            "type": "scatterpolar"
           }
          ],
          "scatterpolargl": [
           {
            "marker": {
             "colorbar": {
              "outlinewidth": 0,
              "ticks": ""
             }
            },
            "type": "scatterpolargl"
           }
          ],
          "scatterternary": [
           {
            "marker": {
             "colorbar": {
              "outlinewidth": 0,
              "ticks": ""
             }
            },
            "type": "scatterternary"
           }
          ],
          "surface": [
           {
            "colorbar": {
             "outlinewidth": 0,
             "ticks": ""
            },
            "colorscale": [
             [
              0,
              "#0d0887"
             ],
             [
              0.1111111111111111,
              "#46039f"
             ],
             [
              0.2222222222222222,
              "#7201a8"
             ],
             [
              0.3333333333333333,
              "#9c179e"
             ],
             [
              0.4444444444444444,
              "#bd3786"
             ],
             [
              0.5555555555555556,
              "#d8576b"
             ],
             [
              0.6666666666666666,
              "#ed7953"
             ],
             [
              0.7777777777777778,
              "#fb9f3a"
             ],
             [
              0.8888888888888888,
              "#fdca26"
             ],
             [
              1,
              "#f0f921"
             ]
            ],
            "type": "surface"
           }
          ],
          "table": [
           {
            "cells": {
             "fill": {
              "color": "#EBF0F8"
             },
             "line": {
              "color": "white"
             }
            },
            "header": {
             "fill": {
              "color": "#C8D4E3"
             },
             "line": {
              "color": "white"
             }
            },
            "type": "table"
           }
          ]
         },
         "layout": {
          "annotationdefaults": {
           "arrowcolor": "#2a3f5f",
           "arrowhead": 0,
           "arrowwidth": 1
          },
          "coloraxis": {
           "colorbar": {
            "outlinewidth": 0,
            "ticks": ""
           }
          },
          "colorscale": {
           "diverging": [
            [
             0,
             "#8e0152"
            ],
            [
             0.1,
             "#c51b7d"
            ],
            [
             0.2,
             "#de77ae"
            ],
            [
             0.3,
             "#f1b6da"
            ],
            [
             0.4,
             "#fde0ef"
            ],
            [
             0.5,
             "#f7f7f7"
            ],
            [
             0.6,
             "#e6f5d0"
            ],
            [
             0.7,
             "#b8e186"
            ],
            [
             0.8,
             "#7fbc41"
            ],
            [
             0.9,
             "#4d9221"
            ],
            [
             1,
             "#276419"
            ]
           ],
           "sequential": [
            [
             0,
             "#0d0887"
            ],
            [
             0.1111111111111111,
             "#46039f"
            ],
            [
             0.2222222222222222,
             "#7201a8"
            ],
            [
             0.3333333333333333,
             "#9c179e"
            ],
            [
             0.4444444444444444,
             "#bd3786"
            ],
            [
             0.5555555555555556,
             "#d8576b"
            ],
            [
             0.6666666666666666,
             "#ed7953"
            ],
            [
             0.7777777777777778,
             "#fb9f3a"
            ],
            [
             0.8888888888888888,
             "#fdca26"
            ],
            [
             1,
             "#f0f921"
            ]
           ],
           "sequentialminus": [
            [
             0,
             "#0d0887"
            ],
            [
             0.1111111111111111,
             "#46039f"
            ],
            [
             0.2222222222222222,
             "#7201a8"
            ],
            [
             0.3333333333333333,
             "#9c179e"
            ],
            [
             0.4444444444444444,
             "#bd3786"
            ],
            [
             0.5555555555555556,
             "#d8576b"
            ],
            [
             0.6666666666666666,
             "#ed7953"
            ],
            [
             0.7777777777777778,
             "#fb9f3a"
            ],
            [
             0.8888888888888888,
             "#fdca26"
            ],
            [
             1,
             "#f0f921"
            ]
           ]
          },
          "colorway": [
           "#636efa",
           "#EF553B",
           "#00cc96",
           "#ab63fa",
           "#FFA15A",
           "#19d3f3",
           "#FF6692",
           "#B6E880",
           "#FF97FF",
           "#FECB52"
          ],
          "font": {
           "color": "#2a3f5f"
          },
          "geo": {
           "bgcolor": "white",
           "lakecolor": "white",
           "landcolor": "#E5ECF6",
           "showlakes": true,
           "showland": true,
           "subunitcolor": "white"
          },
          "hoverlabel": {
           "align": "left"
          },
          "hovermode": "closest",
          "mapbox": {
           "style": "light"
          },
          "paper_bgcolor": "white",
          "plot_bgcolor": "#E5ECF6",
          "polar": {
           "angularaxis": {
            "gridcolor": "white",
            "linecolor": "white",
            "ticks": ""
           },
           "bgcolor": "#E5ECF6",
           "radialaxis": {
            "gridcolor": "white",
            "linecolor": "white",
            "ticks": ""
           }
          },
          "scene": {
           "xaxis": {
            "backgroundcolor": "#E5ECF6",
            "gridcolor": "white",
            "gridwidth": 2,
            "linecolor": "white",
            "showbackground": true,
            "ticks": "",
            "zerolinecolor": "white"
           },
           "yaxis": {
            "backgroundcolor": "#E5ECF6",
            "gridcolor": "white",
            "gridwidth": 2,
            "linecolor": "white",
            "showbackground": true,
            "ticks": "",
            "zerolinecolor": "white"
           },
           "zaxis": {
            "backgroundcolor": "#E5ECF6",
            "gridcolor": "white",
            "gridwidth": 2,
            "linecolor": "white",
            "showbackground": true,
            "ticks": "",
            "zerolinecolor": "white"
           }
          },
          "shapedefaults": {
           "line": {
            "color": "#2a3f5f"
           }
          },
          "ternary": {
           "aaxis": {
            "gridcolor": "white",
            "linecolor": "white",
            "ticks": ""
           },
           "baxis": {
            "gridcolor": "white",
            "linecolor": "white",
            "ticks": ""
           },
           "bgcolor": "#E5ECF6",
           "caxis": {
            "gridcolor": "white",
            "linecolor": "white",
            "ticks": ""
           }
          },
          "title": {
           "x": 0.05
          },
          "xaxis": {
           "automargin": true,
           "gridcolor": "white",
           "linecolor": "white",
           "ticks": "",
           "title": {
            "standoff": 15
           },
           "zerolinecolor": "white",
           "zerolinewidth": 2
          },
          "yaxis": {
           "automargin": true,
           "gridcolor": "white",
           "linecolor": "white",
           "ticks": "",
           "title": {
            "standoff": 15
           },
           "zerolinecolor": "white",
           "zerolinewidth": 2
          }
         }
        },
        "xaxis": {
         "anchor": "y",
         "domain": [
          0,
          1
         ],
         "title": {
          "text": "0"
         }
        },
        "yaxis": {
         "anchor": "x",
         "domain": [
          0,
          1
         ],
         "title": {
          "text": "1"
         }
        }
       }
      },
      "text/html": [
       "<div>\n",
       "        \n",
       "        \n",
       "            <div id=\"4624de9e-111a-4e29-82bb-01aaad77392b\" class=\"plotly-graph-div\" style=\"height:525px; width:100%;\"></div>\n",
       "            <script type=\"text/javascript\">\n",
       "                require([\"plotly\"], function(Plotly) {\n",
       "                    window.PLOTLYENV=window.PLOTLYENV || {};\n",
       "                    \n",
       "                if (document.getElementById(\"4624de9e-111a-4e29-82bb-01aaad77392b\")) {\n",
       "                    Plotly.newPlot(\n",
       "                        '4624de9e-111a-4e29-82bb-01aaad77392b',\n",
       "                        [{\"hovertemplate\": \"color=Flooding DR<br>0=%{x}<br>1=%{y}<extra></extra>\", \"legendgroup\": \"Flooding DR\", \"marker\": {\"color\": \"#636efa\", \"symbol\": \"circle\"}, \"mode\": \"markers\", \"name\": \"Flooding DR\", \"orientation\": \"v\", \"showlegend\": true, \"type\": \"scatter\", \"x\": [3.48865467565804, 0.9487613963763377, 2.129186351612606, 2.008938267274812, 0.5505176638224394, -1.718225099506219, -0.9724372438725378, -0.9952445157219738, -1.2099535685222818, -2.329333890417403], \"xaxis\": \"x\", \"y\": [-0.1689424229564347, -0.0959191990779075, 0.17706236999738229, -0.09786422726575587, -0.15867646006886574, -0.28061717156573024, 0.36893517741013926, 0.2937889805869746, -0.12736780766967526, -0.13398233818741723], \"yaxis\": \"y\"}, {\"hovertemplate\": \"color=Control DR<br>0=%{x}<br>1=%{y}<extra></extra>\", \"legendgroup\": \"Control DR\", \"marker\": {\"color\": \"#EF553B\", \"symbol\": \"circle\"}, \"mode\": \"markers\", \"name\": \"Control DR\", \"orientation\": \"v\", \"showlegend\": true, \"type\": \"scatter\", \"x\": [-1.5721823005439235, -3.3879580538222043, -2.608439351908157, -1.0828438620871037, 0.6374328156956109, -0.3921872696767728, 0.4368038352042243, -1.5222144397252158, -0.2905089956030246], \"xaxis\": \"x\", \"y\": [0.4350142494616441, 0.37158465928509266, -0.0019166017922909759, 0.324410131008588, 0.11145163984630686, 1.0151808536395754, -0.043547479353297606, 0.1973075446935621, -0.15789749670908587], \"yaxis\": \"y\"}, {\"hovertemplate\": \"color=Flooding Cycle 8<br>0=%{x}<br>1=%{y}<extra></extra>\", \"legendgroup\": \"Flooding Cycle 8\", \"marker\": {\"color\": \"#00cc96\", \"symbol\": \"circle\"}, \"mode\": \"markers\", \"name\": \"Flooding Cycle 8\", \"orientation\": \"v\", \"showlegend\": true, \"type\": \"scatter\", \"x\": [1.3619088174365386, 2.8588818190424385, 4.886066161737534, -0.4910155922434931, 2.9447255914273627, -0.5849859881126334, 1.9866990393577941, -0.9218313131554522, -0.9970018120207887, 2.132247017573244], \"xaxis\": \"x\", \"y\": [0.42481849080457407, 0.8738733170106215, 0.4473373202637186, 0.929464779197969, -0.2580784637748974, -0.09176031266799861, -0.12697918563955354, -0.29964770221973386, -0.28523974418453285, -0.09910548559150548], \"yaxis\": \"y\"}, {\"hovertemplate\": \"color=Control Cycle 8<br>0=%{x}<br>1=%{y}<extra></extra>\", \"legendgroup\": \"Control Cycle 8\", \"marker\": {\"color\": \"#ab63fa\", \"symbol\": \"circle\"}, \"mode\": \"markers\", \"name\": \"Control Cycle 8\", \"orientation\": \"v\", \"showlegend\": true, \"type\": \"scatter\", \"x\": [0.39095173152522206, 0.040745758285596186, -1.5034369494795174, -1.9716979876308303, -1.904965666765689, 0.8673810454200258, -0.3987459942260126, -1.9089610789129594, 0.18147588284112465], \"xaxis\": \"x\", \"y\": [-0.12896115126889, -0.21453658808063103, 0.012589510049650586, -0.09374854279960766, 0.06902057178589327, -0.03768680737181306, -0.1319381090702834, 0.08867891685675872, 0.009889480803469299], \"yaxis\": \"y\"}, {\"hovertemplate\": \"color=Flooding Cycle 0<br>0=%{x}<br>1=%{y}<extra></extra>\", \"legendgroup\": \"Flooding Cycle 0\", \"marker\": {\"color\": \"#FFA15A\", \"symbol\": \"circle\"}, \"mode\": \"markers\", \"name\": \"Flooding Cycle 0\", \"orientation\": \"v\", \"showlegend\": true, \"type\": \"scatter\", \"x\": [-0.189119499077021, -1.8091840541657893, 0.050747171347722, 0.9480140230129837, 2.2894853827174564, 0.6306726230998071, 2.684718293230838, -0.952883554471043, 3.256672114842969, 1.8213939405081452], \"xaxis\": \"x\", \"y\": [-0.1879860126411226, -0.2776346949053576, -0.2794150330628603, -0.27946385198204243, 0.17965076354676265, -0.49144400900886137, -0.4770659768497488, -0.24030483876324554, -0.0398841847191876, -0.00824333531477136], \"yaxis\": \"y\"}, {\"hovertemplate\": \"color=Control Cycle 0<br>0=%{x}<br>1=%{y}<extra></extra>\", \"legendgroup\": \"Control Cycle 0\", \"marker\": {\"color\": \"#19d3f3\", \"symbol\": \"circle\"}, \"mode\": \"markers\", \"name\": \"Control Cycle 0\", \"orientation\": \"v\", \"showlegend\": true, \"type\": \"scatter\", \"x\": [-0.8404682329980335, -0.44978438490551703, 0.12898337498085233, -0.410896013776358, -1.3631820879202583, -0.7613791371985574, 0.15284730706095062, -1.405177781275887, -2.8686663813500175], \"xaxis\": \"x\", \"y\": [-0.17426162263118963, -0.24830422513215897, -0.0792983251663387, -0.3469819341992277, -0.21941847341188828, -0.07338437024975862, -0.04471437453430435, -0.17283265326453748, 0.3449924569038253], \"yaxis\": \"y\"}],\n",
       "                        {\"legend\": {\"title\": {\"text\": \"color\"}, \"tracegroupgap\": 0}, \"margin\": {\"t\": 60}, \"template\": {\"data\": {\"bar\": [{\"error_x\": {\"color\": \"#2a3f5f\"}, \"error_y\": {\"color\": \"#2a3f5f\"}, \"marker\": {\"line\": {\"color\": \"#E5ECF6\", \"width\": 0.5}}, \"type\": \"bar\"}], \"barpolar\": [{\"marker\": {\"line\": {\"color\": \"#E5ECF6\", \"width\": 0.5}}, \"type\": \"barpolar\"}], \"carpet\": [{\"aaxis\": {\"endlinecolor\": \"#2a3f5f\", \"gridcolor\": \"white\", \"linecolor\": \"white\", \"minorgridcolor\": \"white\", \"startlinecolor\": \"#2a3f5f\"}, \"baxis\": {\"endlinecolor\": \"#2a3f5f\", \"gridcolor\": \"white\", \"linecolor\": \"white\", \"minorgridcolor\": \"white\", \"startlinecolor\": \"#2a3f5f\"}, \"type\": \"carpet\"}], \"choropleth\": [{\"colorbar\": {\"outlinewidth\": 0, \"ticks\": \"\"}, \"type\": \"choropleth\"}], \"contour\": [{\"colorbar\": {\"outlinewidth\": 0, \"ticks\": \"\"}, \"colorscale\": [[0.0, \"#0d0887\"], [0.1111111111111111, \"#46039f\"], [0.2222222222222222, \"#7201a8\"], [0.3333333333333333, \"#9c179e\"], [0.4444444444444444, \"#bd3786\"], [0.5555555555555556, \"#d8576b\"], [0.6666666666666666, \"#ed7953\"], [0.7777777777777778, \"#fb9f3a\"], [0.8888888888888888, \"#fdca26\"], [1.0, \"#f0f921\"]], \"type\": \"contour\"}], \"contourcarpet\": [{\"colorbar\": {\"outlinewidth\": 0, \"ticks\": \"\"}, \"type\": \"contourcarpet\"}], \"heatmap\": [{\"colorbar\": {\"outlinewidth\": 0, \"ticks\": \"\"}, \"colorscale\": [[0.0, \"#0d0887\"], [0.1111111111111111, \"#46039f\"], [0.2222222222222222, \"#7201a8\"], [0.3333333333333333, \"#9c179e\"], [0.4444444444444444, \"#bd3786\"], [0.5555555555555556, \"#d8576b\"], [0.6666666666666666, \"#ed7953\"], [0.7777777777777778, \"#fb9f3a\"], [0.8888888888888888, \"#fdca26\"], [1.0, \"#f0f921\"]], \"type\": \"heatmap\"}], \"heatmapgl\": [{\"colorbar\": {\"outlinewidth\": 0, \"ticks\": \"\"}, \"colorscale\": [[0.0, \"#0d0887\"], [0.1111111111111111, \"#46039f\"], [0.2222222222222222, \"#7201a8\"], [0.3333333333333333, \"#9c179e\"], [0.4444444444444444, \"#bd3786\"], [0.5555555555555556, \"#d8576b\"], [0.6666666666666666, \"#ed7953\"], [0.7777777777777778, \"#fb9f3a\"], [0.8888888888888888, \"#fdca26\"], [1.0, \"#f0f921\"]], \"type\": \"heatmapgl\"}], \"histogram\": [{\"marker\": {\"colorbar\": {\"outlinewidth\": 0, \"ticks\": \"\"}}, \"type\": \"histogram\"}], \"histogram2d\": [{\"colorbar\": {\"outlinewidth\": 0, \"ticks\": \"\"}, \"colorscale\": [[0.0, \"#0d0887\"], [0.1111111111111111, \"#46039f\"], [0.2222222222222222, \"#7201a8\"], [0.3333333333333333, \"#9c179e\"], [0.4444444444444444, \"#bd3786\"], [0.5555555555555556, \"#d8576b\"], [0.6666666666666666, \"#ed7953\"], [0.7777777777777778, \"#fb9f3a\"], [0.8888888888888888, \"#fdca26\"], [1.0, \"#f0f921\"]], \"type\": \"histogram2d\"}], \"histogram2dcontour\": [{\"colorbar\": {\"outlinewidth\": 0, \"ticks\": \"\"}, \"colorscale\": [[0.0, \"#0d0887\"], [0.1111111111111111, \"#46039f\"], [0.2222222222222222, \"#7201a8\"], [0.3333333333333333, \"#9c179e\"], [0.4444444444444444, \"#bd3786\"], [0.5555555555555556, \"#d8576b\"], [0.6666666666666666, \"#ed7953\"], [0.7777777777777778, \"#fb9f3a\"], [0.8888888888888888, \"#fdca26\"], [1.0, \"#f0f921\"]], \"type\": \"histogram2dcontour\"}], \"mesh3d\": [{\"colorbar\": {\"outlinewidth\": 0, \"ticks\": \"\"}, \"type\": \"mesh3d\"}], \"parcoords\": [{\"line\": {\"colorbar\": {\"outlinewidth\": 0, \"ticks\": \"\"}}, \"type\": \"parcoords\"}], \"pie\": [{\"automargin\": true, \"type\": \"pie\"}], \"scatter\": [{\"marker\": {\"colorbar\": {\"outlinewidth\": 0, \"ticks\": \"\"}}, \"type\": \"scatter\"}], \"scatter3d\": [{\"line\": {\"colorbar\": {\"outlinewidth\": 0, \"ticks\": \"\"}}, \"marker\": {\"colorbar\": {\"outlinewidth\": 0, \"ticks\": \"\"}}, \"type\": \"scatter3d\"}], \"scattercarpet\": [{\"marker\": {\"colorbar\": {\"outlinewidth\": 0, \"ticks\": \"\"}}, \"type\": \"scattercarpet\"}], \"scattergeo\": [{\"marker\": {\"colorbar\": {\"outlinewidth\": 0, \"ticks\": \"\"}}, \"type\": \"scattergeo\"}], \"scattergl\": [{\"marker\": {\"colorbar\": {\"outlinewidth\": 0, \"ticks\": \"\"}}, \"type\": \"scattergl\"}], \"scattermapbox\": [{\"marker\": {\"colorbar\": {\"outlinewidth\": 0, \"ticks\": \"\"}}, \"type\": \"scattermapbox\"}], \"scatterpolar\": [{\"marker\": {\"colorbar\": {\"outlinewidth\": 0, \"ticks\": \"\"}}, \"type\": \"scatterpolar\"}], \"scatterpolargl\": [{\"marker\": {\"colorbar\": {\"outlinewidth\": 0, \"ticks\": \"\"}}, \"type\": \"scatterpolargl\"}], \"scatterternary\": [{\"marker\": {\"colorbar\": {\"outlinewidth\": 0, \"ticks\": \"\"}}, \"type\": \"scatterternary\"}], \"surface\": [{\"colorbar\": {\"outlinewidth\": 0, \"ticks\": \"\"}, \"colorscale\": [[0.0, \"#0d0887\"], [0.1111111111111111, \"#46039f\"], [0.2222222222222222, \"#7201a8\"], [0.3333333333333333, \"#9c179e\"], [0.4444444444444444, \"#bd3786\"], [0.5555555555555556, \"#d8576b\"], [0.6666666666666666, \"#ed7953\"], [0.7777777777777778, \"#fb9f3a\"], [0.8888888888888888, \"#fdca26\"], [1.0, \"#f0f921\"]], \"type\": \"surface\"}], \"table\": [{\"cells\": {\"fill\": {\"color\": \"#EBF0F8\"}, \"line\": {\"color\": \"white\"}}, \"header\": {\"fill\": {\"color\": \"#C8D4E3\"}, \"line\": {\"color\": \"white\"}}, \"type\": \"table\"}]}, \"layout\": {\"annotationdefaults\": {\"arrowcolor\": \"#2a3f5f\", \"arrowhead\": 0, \"arrowwidth\": 1}, \"coloraxis\": {\"colorbar\": {\"outlinewidth\": 0, \"ticks\": \"\"}}, \"colorscale\": {\"diverging\": [[0, \"#8e0152\"], [0.1, \"#c51b7d\"], [0.2, \"#de77ae\"], [0.3, \"#f1b6da\"], [0.4, \"#fde0ef\"], [0.5, \"#f7f7f7\"], [0.6, \"#e6f5d0\"], [0.7, \"#b8e186\"], [0.8, \"#7fbc41\"], [0.9, \"#4d9221\"], [1, \"#276419\"]], \"sequential\": [[0.0, \"#0d0887\"], [0.1111111111111111, \"#46039f\"], [0.2222222222222222, \"#7201a8\"], [0.3333333333333333, \"#9c179e\"], [0.4444444444444444, \"#bd3786\"], [0.5555555555555556, \"#d8576b\"], [0.6666666666666666, \"#ed7953\"], [0.7777777777777778, \"#fb9f3a\"], [0.8888888888888888, \"#fdca26\"], [1.0, \"#f0f921\"]], \"sequentialminus\": [[0.0, \"#0d0887\"], [0.1111111111111111, \"#46039f\"], [0.2222222222222222, \"#7201a8\"], [0.3333333333333333, \"#9c179e\"], [0.4444444444444444, \"#bd3786\"], [0.5555555555555556, \"#d8576b\"], [0.6666666666666666, \"#ed7953\"], [0.7777777777777778, \"#fb9f3a\"], [0.8888888888888888, \"#fdca26\"], [1.0, \"#f0f921\"]]}, \"colorway\": [\"#636efa\", \"#EF553B\", \"#00cc96\", \"#ab63fa\", \"#FFA15A\", \"#19d3f3\", \"#FF6692\", \"#B6E880\", \"#FF97FF\", \"#FECB52\"], \"font\": {\"color\": \"#2a3f5f\"}, \"geo\": {\"bgcolor\": \"white\", \"lakecolor\": \"white\", \"landcolor\": \"#E5ECF6\", \"showlakes\": true, \"showland\": true, \"subunitcolor\": \"white\"}, \"hoverlabel\": {\"align\": \"left\"}, \"hovermode\": \"closest\", \"mapbox\": {\"style\": \"light\"}, \"paper_bgcolor\": \"white\", \"plot_bgcolor\": \"#E5ECF6\", \"polar\": {\"angularaxis\": {\"gridcolor\": \"white\", \"linecolor\": \"white\", \"ticks\": \"\"}, \"bgcolor\": \"#E5ECF6\", \"radialaxis\": {\"gridcolor\": \"white\", \"linecolor\": \"white\", \"ticks\": \"\"}}, \"scene\": {\"xaxis\": {\"backgroundcolor\": \"#E5ECF6\", \"gridcolor\": \"white\", \"gridwidth\": 2, \"linecolor\": \"white\", \"showbackground\": true, \"ticks\": \"\", \"zerolinecolor\": \"white\"}, \"yaxis\": {\"backgroundcolor\": \"#E5ECF6\", \"gridcolor\": \"white\", \"gridwidth\": 2, \"linecolor\": \"white\", \"showbackground\": true, \"ticks\": \"\", \"zerolinecolor\": \"white\"}, \"zaxis\": {\"backgroundcolor\": \"#E5ECF6\", \"gridcolor\": \"white\", \"gridwidth\": 2, \"linecolor\": \"white\", \"showbackground\": true, \"ticks\": \"\", \"zerolinecolor\": \"white\"}}, \"shapedefaults\": {\"line\": {\"color\": \"#2a3f5f\"}}, \"ternary\": {\"aaxis\": {\"gridcolor\": \"white\", \"linecolor\": \"white\", \"ticks\": \"\"}, \"baxis\": {\"gridcolor\": \"white\", \"linecolor\": \"white\", \"ticks\": \"\"}, \"bgcolor\": \"#E5ECF6\", \"caxis\": {\"gridcolor\": \"white\", \"linecolor\": \"white\", \"ticks\": \"\"}}, \"title\": {\"x\": 0.05}, \"xaxis\": {\"automargin\": true, \"gridcolor\": \"white\", \"linecolor\": \"white\", \"ticks\": \"\", \"title\": {\"standoff\": 15}, \"zerolinecolor\": \"white\", \"zerolinewidth\": 2}, \"yaxis\": {\"automargin\": true, \"gridcolor\": \"white\", \"linecolor\": \"white\", \"ticks\": \"\", \"title\": {\"standoff\": 15}, \"zerolinecolor\": \"white\", \"zerolinewidth\": 2}}}, \"xaxis\": {\"anchor\": \"y\", \"domain\": [0.0, 1.0], \"title\": {\"text\": \"0\"}}, \"yaxis\": {\"anchor\": \"x\", \"domain\": [0.0, 1.0], \"title\": {\"text\": \"1\"}}},\n",
       "                        {\"responsive\": true}\n",
       "                    ).then(function(){\n",
       "                            \n",
       "var gd = document.getElementById('4624de9e-111a-4e29-82bb-01aaad77392b');\n",
       "var x = new MutationObserver(function (mutations, observer) {{\n",
       "        var display = window.getComputedStyle(gd).display;\n",
       "        if (!display || display === 'none') {{\n",
       "            console.log([gd, 'removed!']);\n",
       "            Plotly.purge(gd);\n",
       "            observer.disconnect();\n",
       "        }}\n",
       "}});\n",
       "\n",
       "// Listen for the removal of the full notebook cells\n",
       "var notebookContainer = gd.closest('#notebook-container');\n",
       "if (notebookContainer) {{\n",
       "    x.observe(notebookContainer, {childList: true});\n",
       "}}\n",
       "\n",
       "// Listen for the clearing of the current output cell\n",
       "var outputEl = gd.closest('.output');\n",
       "if (outputEl) {{\n",
       "    x.observe(outputEl, {childList: true});\n",
       "}}\n",
       "\n",
       "                        })\n",
       "                };\n",
       "                });\n",
       "            </script>\n",
       "        </div>"
      ]
     },
     "metadata": {},
     "output_type": "display_data"
    },
    {
     "name": "stdout",
     "output_type": "stream",
     "text": [
      "FvFm wasnt mesured\n",
      "10.12.2020 ['A', 'E', 'FvFm', 'gsw', 'Osmotic potantional (MPa)', 'Turgor pressure']\n"
     ]
    },
    {
     "data": {
      "application/vnd.plotly.v1+json": {
       "config": {
        "plotlyServerURL": "https://plot.ly"
       },
       "data": [
        {
         "hovertemplate": "color=Flooding DR<br>0=%{x}<br>1=%{y}<extra></extra>",
         "legendgroup": "Flooding DR",
         "marker": {
          "color": "#636efa",
          "symbol": "circle"
         },
         "mode": "markers",
         "name": "Flooding DR",
         "orientation": "v",
         "showlegend": true,
         "type": "scatter",
         "x": [
          5.0974374581978426,
          2.2337708738652604,
          3.700528398895079,
          -0.021051163314870284,
          2.0466824343832495,
          -2.759108276338697,
          -2.887981192544323,
          -3.15750622233308,
          -0.3767511445857818
         ],
         "xaxis": "x",
         "y": [
          0.5353234741102325,
          -0.4072202904421371,
          0.35613837098206935,
          -0.5254710814407714,
          0.36996902684566535,
          -0.004663017349995788,
          0.6824468901955184,
          -0.04295964436177985,
          -0.28197700056480884
         ],
         "yaxis": "y"
        },
        {
         "hovertemplate": "color=Control DR<br>0=%{x}<br>1=%{y}<extra></extra>",
         "legendgroup": "Control DR",
         "marker": {
          "color": "#EF553B",
          "symbol": "circle"
         },
         "mode": "markers",
         "name": "Control DR",
         "orientation": "v",
         "showlegend": true,
         "type": "scatter",
         "x": [
          -3.061664142095211,
          -1.8620026014699225,
          -4.162069509248245,
          -0.13126702936728013,
          -2.5628850120147564,
          -3.2081273949651874,
          -3.77823993282956,
          -1.9932757110437436,
          -3.018388038269789
         ],
         "xaxis": "x",
         "y": [
          0.1692923355748736,
          -0.11959472585377219,
          0.2671676676299604,
          -0.196197172655578,
          0.27512616168314663,
          0.46993648189130677,
          1.0850700994688869,
          -0.3584171444057538,
          -0.016662839558296578
         ],
         "yaxis": "y"
        },
        {
         "hovertemplate": "color=Flooding Cycle 8<br>0=%{x}<br>1=%{y}<extra></extra>",
         "legendgroup": "Flooding Cycle 8",
         "marker": {
          "color": "#00cc96",
          "symbol": "circle"
         },
         "mode": "markers",
         "name": "Flooding Cycle 8",
         "orientation": "v",
         "showlegend": true,
         "type": "scatter",
         "x": [
          0.056750815679725626,
          3.7317184256418487,
          4.3019871454150955,
          2.210413265315318,
          3.0828024751772016,
          2.5085346585331116,
          -0.5880279762059023,
          -0.988702210442793,
          4.304806923979509
         ],
         "xaxis": "x",
         "y": [
          0.12694037828721733,
          0.817335339580862,
          0.19559489707023328,
          0.7185188523601457,
          -0.21292847826003994,
          -0.22077242018050805,
          -0.3239019565516894,
          0.14410894059199603,
          1.643584605642715
         ],
         "yaxis": "y"
        },
        {
         "hovertemplate": "color=Control Cycle 8<br>0=%{x}<br>1=%{y}<extra></extra>",
         "legendgroup": "Control Cycle 8",
         "marker": {
          "color": "#ab63fa",
          "symbol": "circle"
         },
         "mode": "markers",
         "name": "Control Cycle 8",
         "orientation": "v",
         "showlegend": true,
         "type": "scatter",
         "x": [
          1.457359281047688,
          0.028498609977719018,
          0.6106681997276252,
          0.537250945419486,
          -3.3383704057567627,
          -0.9409768855859489,
          -2.816640812922014,
          -5.449901640521988,
          -0.8431218316984713
         ],
         "xaxis": "x",
         "y": [
          -0.5293778019996513,
          -0.3355219876853333,
          -0.4395623969879802,
          0.0968552525485764,
          -0.3351828505709606,
          0.13194737484976207,
          0.28777232042568246,
          0.37766496882763867,
          -0.19114824056230573
         ],
         "yaxis": "y"
        },
        {
         "hovertemplate": "color=Flooding Cycle 0<br>0=%{x}<br>1=%{y}<extra></extra>",
         "legendgroup": "Flooding Cycle 0",
         "marker": {
          "color": "#FFA15A",
          "symbol": "circle"
         },
         "mode": "markers",
         "name": "Flooding Cycle 0",
         "orientation": "v",
         "showlegend": true,
         "type": "scatter",
         "x": [
          0.8468330561333561,
          -2.027325149770112,
          2.8675565364593596,
          0.22972440413123468,
          2.751982468335022,
          1.3537279415422154,
          -0.7453965147903197,
          3.6124035858753523,
          5.51586016267074
         ],
         "xaxis": "x",
         "y": [
          0.5529464830418441,
          -0.25436745799073673,
          -0.8923816947648943,
          -0.44999421500762643,
          0.6224623749681225,
          0.17535415566028953,
          -0.41350111266802664,
          -0.4664006580327362,
          -0.12251614110793518
         ],
         "yaxis": "y"
        },
        {
         "hovertemplate": "color=Control Cycle 0<br>0=%{x}<br>1=%{y}<extra></extra>",
         "legendgroup": "Control Cycle 0",
         "marker": {
          "color": "#19d3f3",
          "symbol": "circle"
         },
         "mode": "markers",
         "name": "Control Cycle 0",
         "orientation": "v",
         "showlegend": true,
         "type": "scatter",
         "x": [
          0.8324313282794037,
          -2.121438668924452,
          0.23541675019024216,
          -1.321901367080534,
          0.02685666894990439,
          -0.6721051132996874,
          -2.703811659477256,
          2.530979653216416,
          0.8250551398576939
         ],
         "xaxis": "x",
         "y": [
          -0.25108748847989,
          -0.19239825575643538,
          -0.45017583919971815,
          -0.35973727929531096,
          -0.14962249345556464,
          -0.34359476714725296,
          0.1559142747339207,
          -0.8280644553725198,
          -0.5420698192606396
         ],
         "yaxis": "y"
        }
       ],
       "layout": {
        "legend": {
         "title": {
          "text": "color"
         },
         "tracegroupgap": 0
        },
        "margin": {
         "t": 60
        },
        "template": {
         "data": {
          "bar": [
           {
            "error_x": {
             "color": "#2a3f5f"
            },
            "error_y": {
             "color": "#2a3f5f"
            },
            "marker": {
             "line": {
              "color": "#E5ECF6",
              "width": 0.5
             }
            },
            "type": "bar"
           }
          ],
          "barpolar": [
           {
            "marker": {
             "line": {
              "color": "#E5ECF6",
              "width": 0.5
             }
            },
            "type": "barpolar"
           }
          ],
          "carpet": [
           {
            "aaxis": {
             "endlinecolor": "#2a3f5f",
             "gridcolor": "white",
             "linecolor": "white",
             "minorgridcolor": "white",
             "startlinecolor": "#2a3f5f"
            },
            "baxis": {
             "endlinecolor": "#2a3f5f",
             "gridcolor": "white",
             "linecolor": "white",
             "minorgridcolor": "white",
             "startlinecolor": "#2a3f5f"
            },
            "type": "carpet"
           }
          ],
          "choropleth": [
           {
            "colorbar": {
             "outlinewidth": 0,
             "ticks": ""
            },
            "type": "choropleth"
           }
          ],
          "contour": [
           {
            "colorbar": {
             "outlinewidth": 0,
             "ticks": ""
            },
            "colorscale": [
             [
              0,
              "#0d0887"
             ],
             [
              0.1111111111111111,
              "#46039f"
             ],
             [
              0.2222222222222222,
              "#7201a8"
             ],
             [
              0.3333333333333333,
              "#9c179e"
             ],
             [
              0.4444444444444444,
              "#bd3786"
             ],
             [
              0.5555555555555556,
              "#d8576b"
             ],
             [
              0.6666666666666666,
              "#ed7953"
             ],
             [
              0.7777777777777778,
              "#fb9f3a"
             ],
             [
              0.8888888888888888,
              "#fdca26"
             ],
             [
              1,
              "#f0f921"
             ]
            ],
            "type": "contour"
           }
          ],
          "contourcarpet": [
           {
            "colorbar": {
             "outlinewidth": 0,
             "ticks": ""
            },
            "type": "contourcarpet"
           }
          ],
          "heatmap": [
           {
            "colorbar": {
             "outlinewidth": 0,
             "ticks": ""
            },
            "colorscale": [
             [
              0,
              "#0d0887"
             ],
             [
              0.1111111111111111,
              "#46039f"
             ],
             [
              0.2222222222222222,
              "#7201a8"
             ],
             [
              0.3333333333333333,
              "#9c179e"
             ],
             [
              0.4444444444444444,
              "#bd3786"
             ],
             [
              0.5555555555555556,
              "#d8576b"
             ],
             [
              0.6666666666666666,
              "#ed7953"
             ],
             [
              0.7777777777777778,
              "#fb9f3a"
             ],
             [
              0.8888888888888888,
              "#fdca26"
             ],
             [
              1,
              "#f0f921"
             ]
            ],
            "type": "heatmap"
           }
          ],
          "heatmapgl": [
           {
            "colorbar": {
             "outlinewidth": 0,
             "ticks": ""
            },
            "colorscale": [
             [
              0,
              "#0d0887"
             ],
             [
              0.1111111111111111,
              "#46039f"
             ],
             [
              0.2222222222222222,
              "#7201a8"
             ],
             [
              0.3333333333333333,
              "#9c179e"
             ],
             [
              0.4444444444444444,
              "#bd3786"
             ],
             [
              0.5555555555555556,
              "#d8576b"
             ],
             [
              0.6666666666666666,
              "#ed7953"
             ],
             [
              0.7777777777777778,
              "#fb9f3a"
             ],
             [
              0.8888888888888888,
              "#fdca26"
             ],
             [
              1,
              "#f0f921"
             ]
            ],
            "type": "heatmapgl"
           }
          ],
          "histogram": [
           {
            "marker": {
             "colorbar": {
              "outlinewidth": 0,
              "ticks": ""
             }
            },
            "type": "histogram"
           }
          ],
          "histogram2d": [
           {
            "colorbar": {
             "outlinewidth": 0,
             "ticks": ""
            },
            "colorscale": [
             [
              0,
              "#0d0887"
             ],
             [
              0.1111111111111111,
              "#46039f"
             ],
             [
              0.2222222222222222,
              "#7201a8"
             ],
             [
              0.3333333333333333,
              "#9c179e"
             ],
             [
              0.4444444444444444,
              "#bd3786"
             ],
             [
              0.5555555555555556,
              "#d8576b"
             ],
             [
              0.6666666666666666,
              "#ed7953"
             ],
             [
              0.7777777777777778,
              "#fb9f3a"
             ],
             [
              0.8888888888888888,
              "#fdca26"
             ],
             [
              1,
              "#f0f921"
             ]
            ],
            "type": "histogram2d"
           }
          ],
          "histogram2dcontour": [
           {
            "colorbar": {
             "outlinewidth": 0,
             "ticks": ""
            },
            "colorscale": [
             [
              0,
              "#0d0887"
             ],
             [
              0.1111111111111111,
              "#46039f"
             ],
             [
              0.2222222222222222,
              "#7201a8"
             ],
             [
              0.3333333333333333,
              "#9c179e"
             ],
             [
              0.4444444444444444,
              "#bd3786"
             ],
             [
              0.5555555555555556,
              "#d8576b"
             ],
             [
              0.6666666666666666,
              "#ed7953"
             ],
             [
              0.7777777777777778,
              "#fb9f3a"
             ],
             [
              0.8888888888888888,
              "#fdca26"
             ],
             [
              1,
              "#f0f921"
             ]
            ],
            "type": "histogram2dcontour"
           }
          ],
          "mesh3d": [
           {
            "colorbar": {
             "outlinewidth": 0,
             "ticks": ""
            },
            "type": "mesh3d"
           }
          ],
          "parcoords": [
           {
            "line": {
             "colorbar": {
              "outlinewidth": 0,
              "ticks": ""
             }
            },
            "type": "parcoords"
           }
          ],
          "pie": [
           {
            "automargin": true,
            "type": "pie"
           }
          ],
          "scatter": [
           {
            "marker": {
             "colorbar": {
              "outlinewidth": 0,
              "ticks": ""
             }
            },
            "type": "scatter"
           }
          ],
          "scatter3d": [
           {
            "line": {
             "colorbar": {
              "outlinewidth": 0,
              "ticks": ""
             }
            },
            "marker": {
             "colorbar": {
              "outlinewidth": 0,
              "ticks": ""
             }
            },
            "type": "scatter3d"
           }
          ],
          "scattercarpet": [
           {
            "marker": {
             "colorbar": {
              "outlinewidth": 0,
              "ticks": ""
             }
            },
            "type": "scattercarpet"
           }
          ],
          "scattergeo": [
           {
            "marker": {
             "colorbar": {
              "outlinewidth": 0,
              "ticks": ""
             }
            },
            "type": "scattergeo"
           }
          ],
          "scattergl": [
           {
            "marker": {
             "colorbar": {
              "outlinewidth": 0,
              "ticks": ""
             }
            },
            "type": "scattergl"
           }
          ],
          "scattermapbox": [
           {
            "marker": {
             "colorbar": {
              "outlinewidth": 0,
              "ticks": ""
             }
            },
            "type": "scattermapbox"
           }
          ],
          "scatterpolar": [
           {
            "marker": {
             "colorbar": {
              "outlinewidth": 0,
              "ticks": ""
             }
            },
            "type": "scatterpolar"
           }
          ],
          "scatterpolargl": [
           {
            "marker": {
             "colorbar": {
              "outlinewidth": 0,
              "ticks": ""
             }
            },
            "type": "scatterpolargl"
           }
          ],
          "scatterternary": [
           {
            "marker": {
             "colorbar": {
              "outlinewidth": 0,
              "ticks": ""
             }
            },
            "type": "scatterternary"
           }
          ],
          "surface": [
           {
            "colorbar": {
             "outlinewidth": 0,
             "ticks": ""
            },
            "colorscale": [
             [
              0,
              "#0d0887"
             ],
             [
              0.1111111111111111,
              "#46039f"
             ],
             [
              0.2222222222222222,
              "#7201a8"
             ],
             [
              0.3333333333333333,
              "#9c179e"
             ],
             [
              0.4444444444444444,
              "#bd3786"
             ],
             [
              0.5555555555555556,
              "#d8576b"
             ],
             [
              0.6666666666666666,
              "#ed7953"
             ],
             [
              0.7777777777777778,
              "#fb9f3a"
             ],
             [
              0.8888888888888888,
              "#fdca26"
             ],
             [
              1,
              "#f0f921"
             ]
            ],
            "type": "surface"
           }
          ],
          "table": [
           {
            "cells": {
             "fill": {
              "color": "#EBF0F8"
             },
             "line": {
              "color": "white"
             }
            },
            "header": {
             "fill": {
              "color": "#C8D4E3"
             },
             "line": {
              "color": "white"
             }
            },
            "type": "table"
           }
          ]
         },
         "layout": {
          "annotationdefaults": {
           "arrowcolor": "#2a3f5f",
           "arrowhead": 0,
           "arrowwidth": 1
          },
          "coloraxis": {
           "colorbar": {
            "outlinewidth": 0,
            "ticks": ""
           }
          },
          "colorscale": {
           "diverging": [
            [
             0,
             "#8e0152"
            ],
            [
             0.1,
             "#c51b7d"
            ],
            [
             0.2,
             "#de77ae"
            ],
            [
             0.3,
             "#f1b6da"
            ],
            [
             0.4,
             "#fde0ef"
            ],
            [
             0.5,
             "#f7f7f7"
            ],
            [
             0.6,
             "#e6f5d0"
            ],
            [
             0.7,
             "#b8e186"
            ],
            [
             0.8,
             "#7fbc41"
            ],
            [
             0.9,
             "#4d9221"
            ],
            [
             1,
             "#276419"
            ]
           ],
           "sequential": [
            [
             0,
             "#0d0887"
            ],
            [
             0.1111111111111111,
             "#46039f"
            ],
            [
             0.2222222222222222,
             "#7201a8"
            ],
            [
             0.3333333333333333,
             "#9c179e"
            ],
            [
             0.4444444444444444,
             "#bd3786"
            ],
            [
             0.5555555555555556,
             "#d8576b"
            ],
            [
             0.6666666666666666,
             "#ed7953"
            ],
            [
             0.7777777777777778,
             "#fb9f3a"
            ],
            [
             0.8888888888888888,
             "#fdca26"
            ],
            [
             1,
             "#f0f921"
            ]
           ],
           "sequentialminus": [
            [
             0,
             "#0d0887"
            ],
            [
             0.1111111111111111,
             "#46039f"
            ],
            [
             0.2222222222222222,
             "#7201a8"
            ],
            [
             0.3333333333333333,
             "#9c179e"
            ],
            [
             0.4444444444444444,
             "#bd3786"
            ],
            [
             0.5555555555555556,
             "#d8576b"
            ],
            [
             0.6666666666666666,
             "#ed7953"
            ],
            [
             0.7777777777777778,
             "#fb9f3a"
            ],
            [
             0.8888888888888888,
             "#fdca26"
            ],
            [
             1,
             "#f0f921"
            ]
           ]
          },
          "colorway": [
           "#636efa",
           "#EF553B",
           "#00cc96",
           "#ab63fa",
           "#FFA15A",
           "#19d3f3",
           "#FF6692",
           "#B6E880",
           "#FF97FF",
           "#FECB52"
          ],
          "font": {
           "color": "#2a3f5f"
          },
          "geo": {
           "bgcolor": "white",
           "lakecolor": "white",
           "landcolor": "#E5ECF6",
           "showlakes": true,
           "showland": true,
           "subunitcolor": "white"
          },
          "hoverlabel": {
           "align": "left"
          },
          "hovermode": "closest",
          "mapbox": {
           "style": "light"
          },
          "paper_bgcolor": "white",
          "plot_bgcolor": "#E5ECF6",
          "polar": {
           "angularaxis": {
            "gridcolor": "white",
            "linecolor": "white",
            "ticks": ""
           },
           "bgcolor": "#E5ECF6",
           "radialaxis": {
            "gridcolor": "white",
            "linecolor": "white",
            "ticks": ""
           }
          },
          "scene": {
           "xaxis": {
            "backgroundcolor": "#E5ECF6",
            "gridcolor": "white",
            "gridwidth": 2,
            "linecolor": "white",
            "showbackground": true,
            "ticks": "",
            "zerolinecolor": "white"
           },
           "yaxis": {
            "backgroundcolor": "#E5ECF6",
            "gridcolor": "white",
            "gridwidth": 2,
            "linecolor": "white",
            "showbackground": true,
            "ticks": "",
            "zerolinecolor": "white"
           },
           "zaxis": {
            "backgroundcolor": "#E5ECF6",
            "gridcolor": "white",
            "gridwidth": 2,
            "linecolor": "white",
            "showbackground": true,
            "ticks": "",
            "zerolinecolor": "white"
           }
          },
          "shapedefaults": {
           "line": {
            "color": "#2a3f5f"
           }
          },
          "ternary": {
           "aaxis": {
            "gridcolor": "white",
            "linecolor": "white",
            "ticks": ""
           },
           "baxis": {
            "gridcolor": "white",
            "linecolor": "white",
            "ticks": ""
           },
           "bgcolor": "#E5ECF6",
           "caxis": {
            "gridcolor": "white",
            "linecolor": "white",
            "ticks": ""
           }
          },
          "title": {
           "x": 0.05
          },
          "xaxis": {
           "automargin": true,
           "gridcolor": "white",
           "linecolor": "white",
           "ticks": "",
           "title": {
            "standoff": 15
           },
           "zerolinecolor": "white",
           "zerolinewidth": 2
          },
          "yaxis": {
           "automargin": true,
           "gridcolor": "white",
           "linecolor": "white",
           "ticks": "",
           "title": {
            "standoff": 15
           },
           "zerolinecolor": "white",
           "zerolinewidth": 2
          }
         }
        },
        "xaxis": {
         "anchor": "y",
         "domain": [
          0,
          1
         ],
         "title": {
          "text": "0"
         }
        },
        "yaxis": {
         "anchor": "x",
         "domain": [
          0,
          1
         ],
         "title": {
          "text": "1"
         }
        }
       }
      },
      "text/html": [
       "<div>\n",
       "        \n",
       "        \n",
       "            <div id=\"68de9d09-093f-4f22-8254-f2e33f18b462\" class=\"plotly-graph-div\" style=\"height:525px; width:100%;\"></div>\n",
       "            <script type=\"text/javascript\">\n",
       "                require([\"plotly\"], function(Plotly) {\n",
       "                    window.PLOTLYENV=window.PLOTLYENV || {};\n",
       "                    \n",
       "                if (document.getElementById(\"68de9d09-093f-4f22-8254-f2e33f18b462\")) {\n",
       "                    Plotly.newPlot(\n",
       "                        '68de9d09-093f-4f22-8254-f2e33f18b462',\n",
       "                        [{\"hovertemplate\": \"color=Flooding DR<br>0=%{x}<br>1=%{y}<extra></extra>\", \"legendgroup\": \"Flooding DR\", \"marker\": {\"color\": \"#636efa\", \"symbol\": \"circle\"}, \"mode\": \"markers\", \"name\": \"Flooding DR\", \"orientation\": \"v\", \"showlegend\": true, \"type\": \"scatter\", \"x\": [5.0974374581978426, 2.2337708738652604, 3.700528398895079, -0.021051163314870284, 2.0466824343832495, -2.759108276338697, -2.887981192544323, -3.15750622233308, -0.3767511445857818], \"xaxis\": \"x\", \"y\": [0.5353234741102325, -0.4072202904421371, 0.35613837098206935, -0.5254710814407714, 0.36996902684566535, -0.004663017349995788, 0.6824468901955184, -0.04295964436177985, -0.28197700056480884], \"yaxis\": \"y\"}, {\"hovertemplate\": \"color=Control DR<br>0=%{x}<br>1=%{y}<extra></extra>\", \"legendgroup\": \"Control DR\", \"marker\": {\"color\": \"#EF553B\", \"symbol\": \"circle\"}, \"mode\": \"markers\", \"name\": \"Control DR\", \"orientation\": \"v\", \"showlegend\": true, \"type\": \"scatter\", \"x\": [-3.061664142095211, -1.8620026014699225, -4.162069509248245, -0.13126702936728013, -2.5628850120147564, -3.2081273949651874, -3.77823993282956, -1.9932757110437436, -3.018388038269789], \"xaxis\": \"x\", \"y\": [0.1692923355748736, -0.11959472585377219, 0.2671676676299604, -0.196197172655578, 0.27512616168314663, 0.46993648189130677, 1.0850700994688869, -0.3584171444057538, -0.016662839558296578], \"yaxis\": \"y\"}, {\"hovertemplate\": \"color=Flooding Cycle 8<br>0=%{x}<br>1=%{y}<extra></extra>\", \"legendgroup\": \"Flooding Cycle 8\", \"marker\": {\"color\": \"#00cc96\", \"symbol\": \"circle\"}, \"mode\": \"markers\", \"name\": \"Flooding Cycle 8\", \"orientation\": \"v\", \"showlegend\": true, \"type\": \"scatter\", \"x\": [0.056750815679725626, 3.7317184256418487, 4.3019871454150955, 2.210413265315318, 3.0828024751772016, 2.5085346585331116, -0.5880279762059023, -0.988702210442793, 4.304806923979509], \"xaxis\": \"x\", \"y\": [0.12694037828721733, 0.817335339580862, 0.19559489707023328, 0.7185188523601457, -0.21292847826003994, -0.22077242018050805, -0.3239019565516894, 0.14410894059199603, 1.643584605642715], \"yaxis\": \"y\"}, {\"hovertemplate\": \"color=Control Cycle 8<br>0=%{x}<br>1=%{y}<extra></extra>\", \"legendgroup\": \"Control Cycle 8\", \"marker\": {\"color\": \"#ab63fa\", \"symbol\": \"circle\"}, \"mode\": \"markers\", \"name\": \"Control Cycle 8\", \"orientation\": \"v\", \"showlegend\": true, \"type\": \"scatter\", \"x\": [1.457359281047688, 0.028498609977719018, 0.6106681997276252, 0.537250945419486, -3.3383704057567627, -0.9409768855859489, -2.816640812922014, -5.449901640521988, -0.8431218316984713], \"xaxis\": \"x\", \"y\": [-0.5293778019996513, -0.3355219876853333, -0.4395623969879802, 0.0968552525485764, -0.3351828505709606, 0.13194737484976207, 0.28777232042568246, 0.37766496882763867, -0.19114824056230573], \"yaxis\": \"y\"}, {\"hovertemplate\": \"color=Flooding Cycle 0<br>0=%{x}<br>1=%{y}<extra></extra>\", \"legendgroup\": \"Flooding Cycle 0\", \"marker\": {\"color\": \"#FFA15A\", \"symbol\": \"circle\"}, \"mode\": \"markers\", \"name\": \"Flooding Cycle 0\", \"orientation\": \"v\", \"showlegend\": true, \"type\": \"scatter\", \"x\": [0.8468330561333561, -2.027325149770112, 2.8675565364593596, 0.22972440413123468, 2.751982468335022, 1.3537279415422154, -0.7453965147903197, 3.6124035858753523, 5.51586016267074], \"xaxis\": \"x\", \"y\": [0.5529464830418441, -0.25436745799073673, -0.8923816947648943, -0.44999421500762643, 0.6224623749681225, 0.17535415566028953, -0.41350111266802664, -0.4664006580327362, -0.12251614110793518], \"yaxis\": \"y\"}, {\"hovertemplate\": \"color=Control Cycle 0<br>0=%{x}<br>1=%{y}<extra></extra>\", \"legendgroup\": \"Control Cycle 0\", \"marker\": {\"color\": \"#19d3f3\", \"symbol\": \"circle\"}, \"mode\": \"markers\", \"name\": \"Control Cycle 0\", \"orientation\": \"v\", \"showlegend\": true, \"type\": \"scatter\", \"x\": [0.8324313282794037, -2.121438668924452, 0.23541675019024216, -1.321901367080534, 0.02685666894990439, -0.6721051132996874, -2.703811659477256, 2.530979653216416, 0.8250551398576939], \"xaxis\": \"x\", \"y\": [-0.25108748847989, -0.19239825575643538, -0.45017583919971815, -0.35973727929531096, -0.14962249345556464, -0.34359476714725296, 0.1559142747339207, -0.8280644553725198, -0.5420698192606396], \"yaxis\": \"y\"}],\n",
       "                        {\"legend\": {\"title\": {\"text\": \"color\"}, \"tracegroupgap\": 0}, \"margin\": {\"t\": 60}, \"template\": {\"data\": {\"bar\": [{\"error_x\": {\"color\": \"#2a3f5f\"}, \"error_y\": {\"color\": \"#2a3f5f\"}, \"marker\": {\"line\": {\"color\": \"#E5ECF6\", \"width\": 0.5}}, \"type\": \"bar\"}], \"barpolar\": [{\"marker\": {\"line\": {\"color\": \"#E5ECF6\", \"width\": 0.5}}, \"type\": \"barpolar\"}], \"carpet\": [{\"aaxis\": {\"endlinecolor\": \"#2a3f5f\", \"gridcolor\": \"white\", \"linecolor\": \"white\", \"minorgridcolor\": \"white\", \"startlinecolor\": \"#2a3f5f\"}, \"baxis\": {\"endlinecolor\": \"#2a3f5f\", \"gridcolor\": \"white\", \"linecolor\": \"white\", \"minorgridcolor\": \"white\", \"startlinecolor\": \"#2a3f5f\"}, \"type\": \"carpet\"}], \"choropleth\": [{\"colorbar\": {\"outlinewidth\": 0, \"ticks\": \"\"}, \"type\": \"choropleth\"}], \"contour\": [{\"colorbar\": {\"outlinewidth\": 0, \"ticks\": \"\"}, \"colorscale\": [[0.0, \"#0d0887\"], [0.1111111111111111, \"#46039f\"], [0.2222222222222222, \"#7201a8\"], [0.3333333333333333, \"#9c179e\"], [0.4444444444444444, \"#bd3786\"], [0.5555555555555556, \"#d8576b\"], [0.6666666666666666, \"#ed7953\"], [0.7777777777777778, \"#fb9f3a\"], [0.8888888888888888, \"#fdca26\"], [1.0, \"#f0f921\"]], \"type\": \"contour\"}], \"contourcarpet\": [{\"colorbar\": {\"outlinewidth\": 0, \"ticks\": \"\"}, \"type\": \"contourcarpet\"}], \"heatmap\": [{\"colorbar\": {\"outlinewidth\": 0, \"ticks\": \"\"}, \"colorscale\": [[0.0, \"#0d0887\"], [0.1111111111111111, \"#46039f\"], [0.2222222222222222, \"#7201a8\"], [0.3333333333333333, \"#9c179e\"], [0.4444444444444444, \"#bd3786\"], [0.5555555555555556, \"#d8576b\"], [0.6666666666666666, \"#ed7953\"], [0.7777777777777778, \"#fb9f3a\"], [0.8888888888888888, \"#fdca26\"], [1.0, \"#f0f921\"]], \"type\": \"heatmap\"}], \"heatmapgl\": [{\"colorbar\": {\"outlinewidth\": 0, \"ticks\": \"\"}, \"colorscale\": [[0.0, \"#0d0887\"], [0.1111111111111111, \"#46039f\"], [0.2222222222222222, \"#7201a8\"], [0.3333333333333333, \"#9c179e\"], [0.4444444444444444, \"#bd3786\"], [0.5555555555555556, \"#d8576b\"], [0.6666666666666666, \"#ed7953\"], [0.7777777777777778, \"#fb9f3a\"], [0.8888888888888888, \"#fdca26\"], [1.0, \"#f0f921\"]], \"type\": \"heatmapgl\"}], \"histogram\": [{\"marker\": {\"colorbar\": {\"outlinewidth\": 0, \"ticks\": \"\"}}, \"type\": \"histogram\"}], \"histogram2d\": [{\"colorbar\": {\"outlinewidth\": 0, \"ticks\": \"\"}, \"colorscale\": [[0.0, \"#0d0887\"], [0.1111111111111111, \"#46039f\"], [0.2222222222222222, \"#7201a8\"], [0.3333333333333333, \"#9c179e\"], [0.4444444444444444, \"#bd3786\"], [0.5555555555555556, \"#d8576b\"], [0.6666666666666666, \"#ed7953\"], [0.7777777777777778, \"#fb9f3a\"], [0.8888888888888888, \"#fdca26\"], [1.0, \"#f0f921\"]], \"type\": \"histogram2d\"}], \"histogram2dcontour\": [{\"colorbar\": {\"outlinewidth\": 0, \"ticks\": \"\"}, \"colorscale\": [[0.0, \"#0d0887\"], [0.1111111111111111, \"#46039f\"], [0.2222222222222222, \"#7201a8\"], [0.3333333333333333, \"#9c179e\"], [0.4444444444444444, \"#bd3786\"], [0.5555555555555556, \"#d8576b\"], [0.6666666666666666, \"#ed7953\"], [0.7777777777777778, \"#fb9f3a\"], [0.8888888888888888, \"#fdca26\"], [1.0, \"#f0f921\"]], \"type\": \"histogram2dcontour\"}], \"mesh3d\": [{\"colorbar\": {\"outlinewidth\": 0, \"ticks\": \"\"}, \"type\": \"mesh3d\"}], \"parcoords\": [{\"line\": {\"colorbar\": {\"outlinewidth\": 0, \"ticks\": \"\"}}, \"type\": \"parcoords\"}], \"pie\": [{\"automargin\": true, \"type\": \"pie\"}], \"scatter\": [{\"marker\": {\"colorbar\": {\"outlinewidth\": 0, \"ticks\": \"\"}}, \"type\": \"scatter\"}], \"scatter3d\": [{\"line\": {\"colorbar\": {\"outlinewidth\": 0, \"ticks\": \"\"}}, \"marker\": {\"colorbar\": {\"outlinewidth\": 0, \"ticks\": \"\"}}, \"type\": \"scatter3d\"}], \"scattercarpet\": [{\"marker\": {\"colorbar\": {\"outlinewidth\": 0, \"ticks\": \"\"}}, \"type\": \"scattercarpet\"}], \"scattergeo\": [{\"marker\": {\"colorbar\": {\"outlinewidth\": 0, \"ticks\": \"\"}}, \"type\": \"scattergeo\"}], \"scattergl\": [{\"marker\": {\"colorbar\": {\"outlinewidth\": 0, \"ticks\": \"\"}}, \"type\": \"scattergl\"}], \"scattermapbox\": [{\"marker\": {\"colorbar\": {\"outlinewidth\": 0, \"ticks\": \"\"}}, \"type\": \"scattermapbox\"}], \"scatterpolar\": [{\"marker\": {\"colorbar\": {\"outlinewidth\": 0, \"ticks\": \"\"}}, \"type\": \"scatterpolar\"}], \"scatterpolargl\": [{\"marker\": {\"colorbar\": {\"outlinewidth\": 0, \"ticks\": \"\"}}, \"type\": \"scatterpolargl\"}], \"scatterternary\": [{\"marker\": {\"colorbar\": {\"outlinewidth\": 0, \"ticks\": \"\"}}, \"type\": \"scatterternary\"}], \"surface\": [{\"colorbar\": {\"outlinewidth\": 0, \"ticks\": \"\"}, \"colorscale\": [[0.0, \"#0d0887\"], [0.1111111111111111, \"#46039f\"], [0.2222222222222222, \"#7201a8\"], [0.3333333333333333, \"#9c179e\"], [0.4444444444444444, \"#bd3786\"], [0.5555555555555556, \"#d8576b\"], [0.6666666666666666, \"#ed7953\"], [0.7777777777777778, \"#fb9f3a\"], [0.8888888888888888, \"#fdca26\"], [1.0, \"#f0f921\"]], \"type\": \"surface\"}], \"table\": [{\"cells\": {\"fill\": {\"color\": \"#EBF0F8\"}, \"line\": {\"color\": \"white\"}}, \"header\": {\"fill\": {\"color\": \"#C8D4E3\"}, \"line\": {\"color\": \"white\"}}, \"type\": \"table\"}]}, \"layout\": {\"annotationdefaults\": {\"arrowcolor\": \"#2a3f5f\", \"arrowhead\": 0, \"arrowwidth\": 1}, \"coloraxis\": {\"colorbar\": {\"outlinewidth\": 0, \"ticks\": \"\"}}, \"colorscale\": {\"diverging\": [[0, \"#8e0152\"], [0.1, \"#c51b7d\"], [0.2, \"#de77ae\"], [0.3, \"#f1b6da\"], [0.4, \"#fde0ef\"], [0.5, \"#f7f7f7\"], [0.6, \"#e6f5d0\"], [0.7, \"#b8e186\"], [0.8, \"#7fbc41\"], [0.9, \"#4d9221\"], [1, \"#276419\"]], \"sequential\": [[0.0, \"#0d0887\"], [0.1111111111111111, \"#46039f\"], [0.2222222222222222, \"#7201a8\"], [0.3333333333333333, \"#9c179e\"], [0.4444444444444444, \"#bd3786\"], [0.5555555555555556, \"#d8576b\"], [0.6666666666666666, \"#ed7953\"], [0.7777777777777778, \"#fb9f3a\"], [0.8888888888888888, \"#fdca26\"], [1.0, \"#f0f921\"]], \"sequentialminus\": [[0.0, \"#0d0887\"], [0.1111111111111111, \"#46039f\"], [0.2222222222222222, \"#7201a8\"], [0.3333333333333333, \"#9c179e\"], [0.4444444444444444, \"#bd3786\"], [0.5555555555555556, \"#d8576b\"], [0.6666666666666666, \"#ed7953\"], [0.7777777777777778, \"#fb9f3a\"], [0.8888888888888888, \"#fdca26\"], [1.0, \"#f0f921\"]]}, \"colorway\": [\"#636efa\", \"#EF553B\", \"#00cc96\", \"#ab63fa\", \"#FFA15A\", \"#19d3f3\", \"#FF6692\", \"#B6E880\", \"#FF97FF\", \"#FECB52\"], \"font\": {\"color\": \"#2a3f5f\"}, \"geo\": {\"bgcolor\": \"white\", \"lakecolor\": \"white\", \"landcolor\": \"#E5ECF6\", \"showlakes\": true, \"showland\": true, \"subunitcolor\": \"white\"}, \"hoverlabel\": {\"align\": \"left\"}, \"hovermode\": \"closest\", \"mapbox\": {\"style\": \"light\"}, \"paper_bgcolor\": \"white\", \"plot_bgcolor\": \"#E5ECF6\", \"polar\": {\"angularaxis\": {\"gridcolor\": \"white\", \"linecolor\": \"white\", \"ticks\": \"\"}, \"bgcolor\": \"#E5ECF6\", \"radialaxis\": {\"gridcolor\": \"white\", \"linecolor\": \"white\", \"ticks\": \"\"}}, \"scene\": {\"xaxis\": {\"backgroundcolor\": \"#E5ECF6\", \"gridcolor\": \"white\", \"gridwidth\": 2, \"linecolor\": \"white\", \"showbackground\": true, \"ticks\": \"\", \"zerolinecolor\": \"white\"}, \"yaxis\": {\"backgroundcolor\": \"#E5ECF6\", \"gridcolor\": \"white\", \"gridwidth\": 2, \"linecolor\": \"white\", \"showbackground\": true, \"ticks\": \"\", \"zerolinecolor\": \"white\"}, \"zaxis\": {\"backgroundcolor\": \"#E5ECF6\", \"gridcolor\": \"white\", \"gridwidth\": 2, \"linecolor\": \"white\", \"showbackground\": true, \"ticks\": \"\", \"zerolinecolor\": \"white\"}}, \"shapedefaults\": {\"line\": {\"color\": \"#2a3f5f\"}}, \"ternary\": {\"aaxis\": {\"gridcolor\": \"white\", \"linecolor\": \"white\", \"ticks\": \"\"}, \"baxis\": {\"gridcolor\": \"white\", \"linecolor\": \"white\", \"ticks\": \"\"}, \"bgcolor\": \"#E5ECF6\", \"caxis\": {\"gridcolor\": \"white\", \"linecolor\": \"white\", \"ticks\": \"\"}}, \"title\": {\"x\": 0.05}, \"xaxis\": {\"automargin\": true, \"gridcolor\": \"white\", \"linecolor\": \"white\", \"ticks\": \"\", \"title\": {\"standoff\": 15}, \"zerolinecolor\": \"white\", \"zerolinewidth\": 2}, \"yaxis\": {\"automargin\": true, \"gridcolor\": \"white\", \"linecolor\": \"white\", \"ticks\": \"\", \"title\": {\"standoff\": 15}, \"zerolinecolor\": \"white\", \"zerolinewidth\": 2}}}, \"xaxis\": {\"anchor\": \"y\", \"domain\": [0.0, 1.0], \"title\": {\"text\": \"0\"}}, \"yaxis\": {\"anchor\": \"x\", \"domain\": [0.0, 1.0], \"title\": {\"text\": \"1\"}}},\n",
       "                        {\"responsive\": true}\n",
       "                    ).then(function(){\n",
       "                            \n",
       "var gd = document.getElementById('68de9d09-093f-4f22-8254-f2e33f18b462');\n",
       "var x = new MutationObserver(function (mutations, observer) {{\n",
       "        var display = window.getComputedStyle(gd).display;\n",
       "        if (!display || display === 'none') {{\n",
       "            console.log([gd, 'removed!']);\n",
       "            Plotly.purge(gd);\n",
       "            observer.disconnect();\n",
       "        }}\n",
       "}});\n",
       "\n",
       "// Listen for the removal of the full notebook cells\n",
       "var notebookContainer = gd.closest('#notebook-container');\n",
       "if (notebookContainer) {{\n",
       "    x.observe(notebookContainer, {childList: true});\n",
       "}}\n",
       "\n",
       "// Listen for the clearing of the current output cell\n",
       "var outputEl = gd.closest('.output');\n",
       "if (outputEl) {{\n",
       "    x.observe(outputEl, {childList: true});\n",
       "}}\n",
       "\n",
       "                        })\n",
       "                };\n",
       "                });\n",
       "            </script>\n",
       "        </div>"
      ]
     },
     "metadata": {},
     "output_type": "display_data"
    },
    {
     "name": "stdout",
     "output_type": "stream",
     "text": [
      "FvFm wasnt mesured\n",
      "06.12.2020 ['A', 'E', 'FvFm', 'gsw', 'Osmotic potantional (MPa)', 'Turgor pressure']\n"
     ]
    },
    {
     "data": {
      "application/vnd.plotly.v1+json": {
       "config": {
        "plotlyServerURL": "https://plot.ly"
       },
       "data": [
        {
         "hovertemplate": "color=Flooding DR<br>0=%{x}<br>1=%{y}<extra></extra>",
         "legendgroup": "Flooding DR",
         "marker": {
          "color": "#636efa",
          "symbol": "circle"
         },
         "mode": "markers",
         "name": "Flooding DR",
         "orientation": "v",
         "showlegend": true,
         "type": "scatter",
         "x": [
          6.134366354199503,
          -2.9736820357811267,
          3.557099826700426,
          -0.7749806086635229,
          1.8273874744260894,
          1.0014531239657007,
          2.3100717833147457,
          1.1286146338003866,
          -1.0955616017612393,
          -4.461929856482172
         ],
         "xaxis": "x",
         "y": [
          0.37484756116954904,
          -0.2798450125243778,
          -0.6155274485867507,
          0.961519644104207,
          0.60747625460595,
          -0.5817672120309391,
          0.8706790981053286,
          0.02429357369343954,
          -0.4394097960617616,
          0.3210708032313936
         ],
         "yaxis": "y"
        },
        {
         "hovertemplate": "color=Control DR<br>0=%{x}<br>1=%{y}<extra></extra>",
         "legendgroup": "Control DR",
         "marker": {
          "color": "#EF553B",
          "symbol": "circle"
         },
         "mode": "markers",
         "name": "Control DR",
         "orientation": "v",
         "showlegend": true,
         "type": "scatter",
         "x": [
          -3.5298460127819777,
          -1.326978725149777,
          -3.4407773895242237,
          -2.1935805345453123,
          -3.1847407794716345,
          -1.6205106366300461,
          -3.992058643369505,
          -1.2255474985477586,
          -3.352617098011358
         ],
         "xaxis": "x",
         "y": [
          0.1505576888769265,
          0.12032683593723492,
          0.8762433230181836,
          -0.005317943892072529,
          0.7772245878850939,
          0.6251607422978244,
          0.6151279904408229,
          0.4986069172630879,
          0.1521256663007293
         ],
         "yaxis": "y"
        },
        {
         "hovertemplate": "color=Flooding Cycle 8<br>0=%{x}<br>1=%{y}<extra></extra>",
         "legendgroup": "Flooding Cycle 8",
         "marker": {
          "color": "#00cc96",
          "symbol": "circle"
         },
         "mode": "markers",
         "name": "Flooding Cycle 8",
         "orientation": "v",
         "showlegend": true,
         "type": "scatter",
         "x": [
          2.2273487613610965,
          4.044848514665784,
          4.2923933678251425,
          2.8448986610943336,
          3.9217378780042154,
          2.6522556440185117,
          3.9557982083865086,
          -0.6674134815607008,
          2.86165426537338,
          3.791966932715234
         ],
         "xaxis": "x",
         "y": [
          -0.2003715071283262,
          0.9580575580932698,
          0.20246089417431404,
          0.017899028261985046,
          3.779422001303644e-05,
          0.3600074565030857,
          -0.24264019590012964,
          -0.0967292583219436,
          -0.07306153127268586,
          0.6133633478143993
         ],
         "yaxis": "y"
        },
        {
         "hovertemplate": "color=Control Cycle 8<br>0=%{x}<br>1=%{y}<extra></extra>",
         "legendgroup": "Control Cycle 8",
         "marker": {
          "color": "#ab63fa",
          "symbol": "circle"
         },
         "mode": "markers",
         "name": "Control Cycle 8",
         "orientation": "v",
         "showlegend": true,
         "type": "scatter",
         "x": [
          0.22298642844938668,
          -1.1984494220645934,
          -0.699756714684643,
          -3.853923543825474,
          -1.7735789382944602,
          -2.8033802088412934,
          -1.867045548087762,
          -4.272935157787334,
          -1.2739130914300711
         ],
         "xaxis": "x",
         "y": [
          -0.23986342442535635,
          -0.10160334883495774,
          -0.21171942033068675,
          0.14422466983536963,
          0.13930831846154737,
          0.6496475734976925,
          -0.06140103992196911,
          -0.3017586301147975,
          -0.10990110770360575
         ],
         "yaxis": "y"
        },
        {
         "hovertemplate": "color=Flooding Cycle 0<br>0=%{x}<br>1=%{y}<extra></extra>",
         "legendgroup": "Flooding Cycle 0",
         "marker": {
          "color": "#FFA15A",
          "symbol": "circle"
         },
         "mode": "markers",
         "name": "Flooding Cycle 0",
         "orientation": "v",
         "showlegend": true,
         "type": "scatter",
         "x": [
          -0.33821170781389376,
          -0.2854499157757102,
          0.8454854445655354,
          -0.46358834942712673,
          4.231871719124806,
          3.5490334505717107,
          -0.5875907488310929,
          1.6277625658477273,
          4.655513921373198,
          4.59102867436132
         ],
         "xaxis": "x",
         "y": [
          -0.6331008615181297,
          -0.05522954027519546,
          -0.5507123218551251,
          -0.5454547299618263,
          -0.18293316567535126,
          -0.5593458264071516,
          -0.052994783710097595,
          -0.16342884017861378,
          0.2928022806603317,
          -0.1163785322079887
         ],
         "yaxis": "y"
        },
        {
         "hovertemplate": "color=Control Cycle 0<br>0=%{x}<br>1=%{y}<extra></extra>",
         "legendgroup": "Control Cycle 0",
         "marker": {
          "color": "#19d3f3",
          "symbol": "circle"
         },
         "mode": "markers",
         "name": "Control Cycle 0",
         "orientation": "v",
         "showlegend": true,
         "type": "scatter",
         "x": [
          -2.2610290907601556,
          -2.4738943234458035,
          -1.1732914285727885,
          -2.928446715452369,
          -2.8379698262897284,
          -1.7398737616071307,
          -1.2103305502306305,
          0.8879271976623246,
          0.7193791136953526
         ],
         "xaxis": "x",
         "y": [
          -0.013422067356103866,
          -0.28454547286804577,
          -0.5715196243312888,
          -0.6563061670007744,
          -0.46270643066921174,
          -0.6489636375963587,
          -0.37203800466690146,
          -0.7200797817394131,
          -0.20299294338384158
         ],
         "yaxis": "y"
        }
       ],
       "layout": {
        "legend": {
         "title": {
          "text": "color"
         },
         "tracegroupgap": 0
        },
        "margin": {
         "t": 60
        },
        "template": {
         "data": {
          "bar": [
           {
            "error_x": {
             "color": "#2a3f5f"
            },
            "error_y": {
             "color": "#2a3f5f"
            },
            "marker": {
             "line": {
              "color": "#E5ECF6",
              "width": 0.5
             }
            },
            "type": "bar"
           }
          ],
          "barpolar": [
           {
            "marker": {
             "line": {
              "color": "#E5ECF6",
              "width": 0.5
             }
            },
            "type": "barpolar"
           }
          ],
          "carpet": [
           {
            "aaxis": {
             "endlinecolor": "#2a3f5f",
             "gridcolor": "white",
             "linecolor": "white",
             "minorgridcolor": "white",
             "startlinecolor": "#2a3f5f"
            },
            "baxis": {
             "endlinecolor": "#2a3f5f",
             "gridcolor": "white",
             "linecolor": "white",
             "minorgridcolor": "white",
             "startlinecolor": "#2a3f5f"
            },
            "type": "carpet"
           }
          ],
          "choropleth": [
           {
            "colorbar": {
             "outlinewidth": 0,
             "ticks": ""
            },
            "type": "choropleth"
           }
          ],
          "contour": [
           {
            "colorbar": {
             "outlinewidth": 0,
             "ticks": ""
            },
            "colorscale": [
             [
              0,
              "#0d0887"
             ],
             [
              0.1111111111111111,
              "#46039f"
             ],
             [
              0.2222222222222222,
              "#7201a8"
             ],
             [
              0.3333333333333333,
              "#9c179e"
             ],
             [
              0.4444444444444444,
              "#bd3786"
             ],
             [
              0.5555555555555556,
              "#d8576b"
             ],
             [
              0.6666666666666666,
              "#ed7953"
             ],
             [
              0.7777777777777778,
              "#fb9f3a"
             ],
             [
              0.8888888888888888,
              "#fdca26"
             ],
             [
              1,
              "#f0f921"
             ]
            ],
            "type": "contour"
           }
          ],
          "contourcarpet": [
           {
            "colorbar": {
             "outlinewidth": 0,
             "ticks": ""
            },
            "type": "contourcarpet"
           }
          ],
          "heatmap": [
           {
            "colorbar": {
             "outlinewidth": 0,
             "ticks": ""
            },
            "colorscale": [
             [
              0,
              "#0d0887"
             ],
             [
              0.1111111111111111,
              "#46039f"
             ],
             [
              0.2222222222222222,
              "#7201a8"
             ],
             [
              0.3333333333333333,
              "#9c179e"
             ],
             [
              0.4444444444444444,
              "#bd3786"
             ],
             [
              0.5555555555555556,
              "#d8576b"
             ],
             [
              0.6666666666666666,
              "#ed7953"
             ],
             [
              0.7777777777777778,
              "#fb9f3a"
             ],
             [
              0.8888888888888888,
              "#fdca26"
             ],
             [
              1,
              "#f0f921"
             ]
            ],
            "type": "heatmap"
           }
          ],
          "heatmapgl": [
           {
            "colorbar": {
             "outlinewidth": 0,
             "ticks": ""
            },
            "colorscale": [
             [
              0,
              "#0d0887"
             ],
             [
              0.1111111111111111,
              "#46039f"
             ],
             [
              0.2222222222222222,
              "#7201a8"
             ],
             [
              0.3333333333333333,
              "#9c179e"
             ],
             [
              0.4444444444444444,
              "#bd3786"
             ],
             [
              0.5555555555555556,
              "#d8576b"
             ],
             [
              0.6666666666666666,
              "#ed7953"
             ],
             [
              0.7777777777777778,
              "#fb9f3a"
             ],
             [
              0.8888888888888888,
              "#fdca26"
             ],
             [
              1,
              "#f0f921"
             ]
            ],
            "type": "heatmapgl"
           }
          ],
          "histogram": [
           {
            "marker": {
             "colorbar": {
              "outlinewidth": 0,
              "ticks": ""
             }
            },
            "type": "histogram"
           }
          ],
          "histogram2d": [
           {
            "colorbar": {
             "outlinewidth": 0,
             "ticks": ""
            },
            "colorscale": [
             [
              0,
              "#0d0887"
             ],
             [
              0.1111111111111111,
              "#46039f"
             ],
             [
              0.2222222222222222,
              "#7201a8"
             ],
             [
              0.3333333333333333,
              "#9c179e"
             ],
             [
              0.4444444444444444,
              "#bd3786"
             ],
             [
              0.5555555555555556,
              "#d8576b"
             ],
             [
              0.6666666666666666,
              "#ed7953"
             ],
             [
              0.7777777777777778,
              "#fb9f3a"
             ],
             [
              0.8888888888888888,
              "#fdca26"
             ],
             [
              1,
              "#f0f921"
             ]
            ],
            "type": "histogram2d"
           }
          ],
          "histogram2dcontour": [
           {
            "colorbar": {
             "outlinewidth": 0,
             "ticks": ""
            },
            "colorscale": [
             [
              0,
              "#0d0887"
             ],
             [
              0.1111111111111111,
              "#46039f"
             ],
             [
              0.2222222222222222,
              "#7201a8"
             ],
             [
              0.3333333333333333,
              "#9c179e"
             ],
             [
              0.4444444444444444,
              "#bd3786"
             ],
             [
              0.5555555555555556,
              "#d8576b"
             ],
             [
              0.6666666666666666,
              "#ed7953"
             ],
             [
              0.7777777777777778,
              "#fb9f3a"
             ],
             [
              0.8888888888888888,
              "#fdca26"
             ],
             [
              1,
              "#f0f921"
             ]
            ],
            "type": "histogram2dcontour"
           }
          ],
          "mesh3d": [
           {
            "colorbar": {
             "outlinewidth": 0,
             "ticks": ""
            },
            "type": "mesh3d"
           }
          ],
          "parcoords": [
           {
            "line": {
             "colorbar": {
              "outlinewidth": 0,
              "ticks": ""
             }
            },
            "type": "parcoords"
           }
          ],
          "pie": [
           {
            "automargin": true,
            "type": "pie"
           }
          ],
          "scatter": [
           {
            "marker": {
             "colorbar": {
              "outlinewidth": 0,
              "ticks": ""
             }
            },
            "type": "scatter"
           }
          ],
          "scatter3d": [
           {
            "line": {
             "colorbar": {
              "outlinewidth": 0,
              "ticks": ""
             }
            },
            "marker": {
             "colorbar": {
              "outlinewidth": 0,
              "ticks": ""
             }
            },
            "type": "scatter3d"
           }
          ],
          "scattercarpet": [
           {
            "marker": {
             "colorbar": {
              "outlinewidth": 0,
              "ticks": ""
             }
            },
            "type": "scattercarpet"
           }
          ],
          "scattergeo": [
           {
            "marker": {
             "colorbar": {
              "outlinewidth": 0,
              "ticks": ""
             }
            },
            "type": "scattergeo"
           }
          ],
          "scattergl": [
           {
            "marker": {
             "colorbar": {
              "outlinewidth": 0,
              "ticks": ""
             }
            },
            "type": "scattergl"
           }
          ],
          "scattermapbox": [
           {
            "marker": {
             "colorbar": {
              "outlinewidth": 0,
              "ticks": ""
             }
            },
            "type": "scattermapbox"
           }
          ],
          "scatterpolar": [
           {
            "marker": {
             "colorbar": {
              "outlinewidth": 0,
              "ticks": ""
             }
            },
            "type": "scatterpolar"
           }
          ],
          "scatterpolargl": [
           {
            "marker": {
             "colorbar": {
              "outlinewidth": 0,
              "ticks": ""
             }
            },
            "type": "scatterpolargl"
           }
          ],
          "scatterternary": [
           {
            "marker": {
             "colorbar": {
              "outlinewidth": 0,
              "ticks": ""
             }
            },
            "type": "scatterternary"
           }
          ],
          "surface": [
           {
            "colorbar": {
             "outlinewidth": 0,
             "ticks": ""
            },
            "colorscale": [
             [
              0,
              "#0d0887"
             ],
             [
              0.1111111111111111,
              "#46039f"
             ],
             [
              0.2222222222222222,
              "#7201a8"
             ],
             [
              0.3333333333333333,
              "#9c179e"
             ],
             [
              0.4444444444444444,
              "#bd3786"
             ],
             [
              0.5555555555555556,
              "#d8576b"
             ],
             [
              0.6666666666666666,
              "#ed7953"
             ],
             [
              0.7777777777777778,
              "#fb9f3a"
             ],
             [
              0.8888888888888888,
              "#fdca26"
             ],
             [
              1,
              "#f0f921"
             ]
            ],
            "type": "surface"
           }
          ],
          "table": [
           {
            "cells": {
             "fill": {
              "color": "#EBF0F8"
             },
             "line": {
              "color": "white"
             }
            },
            "header": {
             "fill": {
              "color": "#C8D4E3"
             },
             "line": {
              "color": "white"
             }
            },
            "type": "table"
           }
          ]
         },
         "layout": {
          "annotationdefaults": {
           "arrowcolor": "#2a3f5f",
           "arrowhead": 0,
           "arrowwidth": 1
          },
          "coloraxis": {
           "colorbar": {
            "outlinewidth": 0,
            "ticks": ""
           }
          },
          "colorscale": {
           "diverging": [
            [
             0,
             "#8e0152"
            ],
            [
             0.1,
             "#c51b7d"
            ],
            [
             0.2,
             "#de77ae"
            ],
            [
             0.3,
             "#f1b6da"
            ],
            [
             0.4,
             "#fde0ef"
            ],
            [
             0.5,
             "#f7f7f7"
            ],
            [
             0.6,
             "#e6f5d0"
            ],
            [
             0.7,
             "#b8e186"
            ],
            [
             0.8,
             "#7fbc41"
            ],
            [
             0.9,
             "#4d9221"
            ],
            [
             1,
             "#276419"
            ]
           ],
           "sequential": [
            [
             0,
             "#0d0887"
            ],
            [
             0.1111111111111111,
             "#46039f"
            ],
            [
             0.2222222222222222,
             "#7201a8"
            ],
            [
             0.3333333333333333,
             "#9c179e"
            ],
            [
             0.4444444444444444,
             "#bd3786"
            ],
            [
             0.5555555555555556,
             "#d8576b"
            ],
            [
             0.6666666666666666,
             "#ed7953"
            ],
            [
             0.7777777777777778,
             "#fb9f3a"
            ],
            [
             0.8888888888888888,
             "#fdca26"
            ],
            [
             1,
             "#f0f921"
            ]
           ],
           "sequentialminus": [
            [
             0,
             "#0d0887"
            ],
            [
             0.1111111111111111,
             "#46039f"
            ],
            [
             0.2222222222222222,
             "#7201a8"
            ],
            [
             0.3333333333333333,
             "#9c179e"
            ],
            [
             0.4444444444444444,
             "#bd3786"
            ],
            [
             0.5555555555555556,
             "#d8576b"
            ],
            [
             0.6666666666666666,
             "#ed7953"
            ],
            [
             0.7777777777777778,
             "#fb9f3a"
            ],
            [
             0.8888888888888888,
             "#fdca26"
            ],
            [
             1,
             "#f0f921"
            ]
           ]
          },
          "colorway": [
           "#636efa",
           "#EF553B",
           "#00cc96",
           "#ab63fa",
           "#FFA15A",
           "#19d3f3",
           "#FF6692",
           "#B6E880",
           "#FF97FF",
           "#FECB52"
          ],
          "font": {
           "color": "#2a3f5f"
          },
          "geo": {
           "bgcolor": "white",
           "lakecolor": "white",
           "landcolor": "#E5ECF6",
           "showlakes": true,
           "showland": true,
           "subunitcolor": "white"
          },
          "hoverlabel": {
           "align": "left"
          },
          "hovermode": "closest",
          "mapbox": {
           "style": "light"
          },
          "paper_bgcolor": "white",
          "plot_bgcolor": "#E5ECF6",
          "polar": {
           "angularaxis": {
            "gridcolor": "white",
            "linecolor": "white",
            "ticks": ""
           },
           "bgcolor": "#E5ECF6",
           "radialaxis": {
            "gridcolor": "white",
            "linecolor": "white",
            "ticks": ""
           }
          },
          "scene": {
           "xaxis": {
            "backgroundcolor": "#E5ECF6",
            "gridcolor": "white",
            "gridwidth": 2,
            "linecolor": "white",
            "showbackground": true,
            "ticks": "",
            "zerolinecolor": "white"
           },
           "yaxis": {
            "backgroundcolor": "#E5ECF6",
            "gridcolor": "white",
            "gridwidth": 2,
            "linecolor": "white",
            "showbackground": true,
            "ticks": "",
            "zerolinecolor": "white"
           },
           "zaxis": {
            "backgroundcolor": "#E5ECF6",
            "gridcolor": "white",
            "gridwidth": 2,
            "linecolor": "white",
            "showbackground": true,
            "ticks": "",
            "zerolinecolor": "white"
           }
          },
          "shapedefaults": {
           "line": {
            "color": "#2a3f5f"
           }
          },
          "ternary": {
           "aaxis": {
            "gridcolor": "white",
            "linecolor": "white",
            "ticks": ""
           },
           "baxis": {
            "gridcolor": "white",
            "linecolor": "white",
            "ticks": ""
           },
           "bgcolor": "#E5ECF6",
           "caxis": {
            "gridcolor": "white",
            "linecolor": "white",
            "ticks": ""
           }
          },
          "title": {
           "x": 0.05
          },
          "xaxis": {
           "automargin": true,
           "gridcolor": "white",
           "linecolor": "white",
           "ticks": "",
           "title": {
            "standoff": 15
           },
           "zerolinecolor": "white",
           "zerolinewidth": 2
          },
          "yaxis": {
           "automargin": true,
           "gridcolor": "white",
           "linecolor": "white",
           "ticks": "",
           "title": {
            "standoff": 15
           },
           "zerolinecolor": "white",
           "zerolinewidth": 2
          }
         }
        },
        "xaxis": {
         "anchor": "y",
         "domain": [
          0,
          1
         ],
         "title": {
          "text": "0"
         }
        },
        "yaxis": {
         "anchor": "x",
         "domain": [
          0,
          1
         ],
         "title": {
          "text": "1"
         }
        }
       }
      },
      "text/html": [
       "<div>\n",
       "        \n",
       "        \n",
       "            <div id=\"9663fd18-a341-49e4-9ffc-b9c537d0e312\" class=\"plotly-graph-div\" style=\"height:525px; width:100%;\"></div>\n",
       "            <script type=\"text/javascript\">\n",
       "                require([\"plotly\"], function(Plotly) {\n",
       "                    window.PLOTLYENV=window.PLOTLYENV || {};\n",
       "                    \n",
       "                if (document.getElementById(\"9663fd18-a341-49e4-9ffc-b9c537d0e312\")) {\n",
       "                    Plotly.newPlot(\n",
       "                        '9663fd18-a341-49e4-9ffc-b9c537d0e312',\n",
       "                        [{\"hovertemplate\": \"color=Flooding DR<br>0=%{x}<br>1=%{y}<extra></extra>\", \"legendgroup\": \"Flooding DR\", \"marker\": {\"color\": \"#636efa\", \"symbol\": \"circle\"}, \"mode\": \"markers\", \"name\": \"Flooding DR\", \"orientation\": \"v\", \"showlegend\": true, \"type\": \"scatter\", \"x\": [6.134366354199503, -2.9736820357811267, 3.557099826700426, -0.7749806086635229, 1.8273874744260894, 1.0014531239657007, 2.3100717833147457, 1.1286146338003866, -1.0955616017612393, -4.461929856482172], \"xaxis\": \"x\", \"y\": [0.37484756116954904, -0.2798450125243778, -0.6155274485867507, 0.961519644104207, 0.60747625460595, -0.5817672120309391, 0.8706790981053286, 0.02429357369343954, -0.4394097960617616, 0.3210708032313936], \"yaxis\": \"y\"}, {\"hovertemplate\": \"color=Control DR<br>0=%{x}<br>1=%{y}<extra></extra>\", \"legendgroup\": \"Control DR\", \"marker\": {\"color\": \"#EF553B\", \"symbol\": \"circle\"}, \"mode\": \"markers\", \"name\": \"Control DR\", \"orientation\": \"v\", \"showlegend\": true, \"type\": \"scatter\", \"x\": [-3.5298460127819777, -1.326978725149777, -3.4407773895242237, -2.1935805345453123, -3.1847407794716345, -1.6205106366300461, -3.992058643369505, -1.2255474985477586, -3.352617098011358], \"xaxis\": \"x\", \"y\": [0.1505576888769265, 0.12032683593723492, 0.8762433230181836, -0.005317943892072529, 0.7772245878850939, 0.6251607422978244, 0.6151279904408229, 0.4986069172630879, 0.1521256663007293], \"yaxis\": \"y\"}, {\"hovertemplate\": \"color=Flooding Cycle 8<br>0=%{x}<br>1=%{y}<extra></extra>\", \"legendgroup\": \"Flooding Cycle 8\", \"marker\": {\"color\": \"#00cc96\", \"symbol\": \"circle\"}, \"mode\": \"markers\", \"name\": \"Flooding Cycle 8\", \"orientation\": \"v\", \"showlegend\": true, \"type\": \"scatter\", \"x\": [2.2273487613610965, 4.044848514665784, 4.2923933678251425, 2.8448986610943336, 3.9217378780042154, 2.6522556440185117, 3.9557982083865086, -0.6674134815607008, 2.86165426537338, 3.791966932715234], \"xaxis\": \"x\", \"y\": [-0.2003715071283262, 0.9580575580932698, 0.20246089417431404, 0.017899028261985046, 3.779422001303644e-05, 0.3600074565030857, -0.24264019590012964, -0.0967292583219436, -0.07306153127268586, 0.6133633478143993], \"yaxis\": \"y\"}, {\"hovertemplate\": \"color=Control Cycle 8<br>0=%{x}<br>1=%{y}<extra></extra>\", \"legendgroup\": \"Control Cycle 8\", \"marker\": {\"color\": \"#ab63fa\", \"symbol\": \"circle\"}, \"mode\": \"markers\", \"name\": \"Control Cycle 8\", \"orientation\": \"v\", \"showlegend\": true, \"type\": \"scatter\", \"x\": [0.22298642844938668, -1.1984494220645934, -0.699756714684643, -3.853923543825474, -1.7735789382944602, -2.8033802088412934, -1.867045548087762, -4.272935157787334, -1.2739130914300711], \"xaxis\": \"x\", \"y\": [-0.23986342442535635, -0.10160334883495774, -0.21171942033068675, 0.14422466983536963, 0.13930831846154737, 0.6496475734976925, -0.06140103992196911, -0.3017586301147975, -0.10990110770360575], \"yaxis\": \"y\"}, {\"hovertemplate\": \"color=Flooding Cycle 0<br>0=%{x}<br>1=%{y}<extra></extra>\", \"legendgroup\": \"Flooding Cycle 0\", \"marker\": {\"color\": \"#FFA15A\", \"symbol\": \"circle\"}, \"mode\": \"markers\", \"name\": \"Flooding Cycle 0\", \"orientation\": \"v\", \"showlegend\": true, \"type\": \"scatter\", \"x\": [-0.33821170781389376, -0.2854499157757102, 0.8454854445655354, -0.46358834942712673, 4.231871719124806, 3.5490334505717107, -0.5875907488310929, 1.6277625658477273, 4.655513921373198, 4.59102867436132], \"xaxis\": \"x\", \"y\": [-0.6331008615181297, -0.05522954027519546, -0.5507123218551251, -0.5454547299618263, -0.18293316567535126, -0.5593458264071516, -0.052994783710097595, -0.16342884017861378, 0.2928022806603317, -0.1163785322079887], \"yaxis\": \"y\"}, {\"hovertemplate\": \"color=Control Cycle 0<br>0=%{x}<br>1=%{y}<extra></extra>\", \"legendgroup\": \"Control Cycle 0\", \"marker\": {\"color\": \"#19d3f3\", \"symbol\": \"circle\"}, \"mode\": \"markers\", \"name\": \"Control Cycle 0\", \"orientation\": \"v\", \"showlegend\": true, \"type\": \"scatter\", \"x\": [-2.2610290907601556, -2.4738943234458035, -1.1732914285727885, -2.928446715452369, -2.8379698262897284, -1.7398737616071307, -1.2103305502306305, 0.8879271976623246, 0.7193791136953526], \"xaxis\": \"x\", \"y\": [-0.013422067356103866, -0.28454547286804577, -0.5715196243312888, -0.6563061670007744, -0.46270643066921174, -0.6489636375963587, -0.37203800466690146, -0.7200797817394131, -0.20299294338384158], \"yaxis\": \"y\"}],\n",
       "                        {\"legend\": {\"title\": {\"text\": \"color\"}, \"tracegroupgap\": 0}, \"margin\": {\"t\": 60}, \"template\": {\"data\": {\"bar\": [{\"error_x\": {\"color\": \"#2a3f5f\"}, \"error_y\": {\"color\": \"#2a3f5f\"}, \"marker\": {\"line\": {\"color\": \"#E5ECF6\", \"width\": 0.5}}, \"type\": \"bar\"}], \"barpolar\": [{\"marker\": {\"line\": {\"color\": \"#E5ECF6\", \"width\": 0.5}}, \"type\": \"barpolar\"}], \"carpet\": [{\"aaxis\": {\"endlinecolor\": \"#2a3f5f\", \"gridcolor\": \"white\", \"linecolor\": \"white\", \"minorgridcolor\": \"white\", \"startlinecolor\": \"#2a3f5f\"}, \"baxis\": {\"endlinecolor\": \"#2a3f5f\", \"gridcolor\": \"white\", \"linecolor\": \"white\", \"minorgridcolor\": \"white\", \"startlinecolor\": \"#2a3f5f\"}, \"type\": \"carpet\"}], \"choropleth\": [{\"colorbar\": {\"outlinewidth\": 0, \"ticks\": \"\"}, \"type\": \"choropleth\"}], \"contour\": [{\"colorbar\": {\"outlinewidth\": 0, \"ticks\": \"\"}, \"colorscale\": [[0.0, \"#0d0887\"], [0.1111111111111111, \"#46039f\"], [0.2222222222222222, \"#7201a8\"], [0.3333333333333333, \"#9c179e\"], [0.4444444444444444, \"#bd3786\"], [0.5555555555555556, \"#d8576b\"], [0.6666666666666666, \"#ed7953\"], [0.7777777777777778, \"#fb9f3a\"], [0.8888888888888888, \"#fdca26\"], [1.0, \"#f0f921\"]], \"type\": \"contour\"}], \"contourcarpet\": [{\"colorbar\": {\"outlinewidth\": 0, \"ticks\": \"\"}, \"type\": \"contourcarpet\"}], \"heatmap\": [{\"colorbar\": {\"outlinewidth\": 0, \"ticks\": \"\"}, \"colorscale\": [[0.0, \"#0d0887\"], [0.1111111111111111, \"#46039f\"], [0.2222222222222222, \"#7201a8\"], [0.3333333333333333, \"#9c179e\"], [0.4444444444444444, \"#bd3786\"], [0.5555555555555556, \"#d8576b\"], [0.6666666666666666, \"#ed7953\"], [0.7777777777777778, \"#fb9f3a\"], [0.8888888888888888, \"#fdca26\"], [1.0, \"#f0f921\"]], \"type\": \"heatmap\"}], \"heatmapgl\": [{\"colorbar\": {\"outlinewidth\": 0, \"ticks\": \"\"}, \"colorscale\": [[0.0, \"#0d0887\"], [0.1111111111111111, \"#46039f\"], [0.2222222222222222, \"#7201a8\"], [0.3333333333333333, \"#9c179e\"], [0.4444444444444444, \"#bd3786\"], [0.5555555555555556, \"#d8576b\"], [0.6666666666666666, \"#ed7953\"], [0.7777777777777778, \"#fb9f3a\"], [0.8888888888888888, \"#fdca26\"], [1.0, \"#f0f921\"]], \"type\": \"heatmapgl\"}], \"histogram\": [{\"marker\": {\"colorbar\": {\"outlinewidth\": 0, \"ticks\": \"\"}}, \"type\": \"histogram\"}], \"histogram2d\": [{\"colorbar\": {\"outlinewidth\": 0, \"ticks\": \"\"}, \"colorscale\": [[0.0, \"#0d0887\"], [0.1111111111111111, \"#46039f\"], [0.2222222222222222, \"#7201a8\"], [0.3333333333333333, \"#9c179e\"], [0.4444444444444444, \"#bd3786\"], [0.5555555555555556, \"#d8576b\"], [0.6666666666666666, \"#ed7953\"], [0.7777777777777778, \"#fb9f3a\"], [0.8888888888888888, \"#fdca26\"], [1.0, \"#f0f921\"]], \"type\": \"histogram2d\"}], \"histogram2dcontour\": [{\"colorbar\": {\"outlinewidth\": 0, \"ticks\": \"\"}, \"colorscale\": [[0.0, \"#0d0887\"], [0.1111111111111111, \"#46039f\"], [0.2222222222222222, \"#7201a8\"], [0.3333333333333333, \"#9c179e\"], [0.4444444444444444, \"#bd3786\"], [0.5555555555555556, \"#d8576b\"], [0.6666666666666666, \"#ed7953\"], [0.7777777777777778, \"#fb9f3a\"], [0.8888888888888888, \"#fdca26\"], [1.0, \"#f0f921\"]], \"type\": \"histogram2dcontour\"}], \"mesh3d\": [{\"colorbar\": {\"outlinewidth\": 0, \"ticks\": \"\"}, \"type\": \"mesh3d\"}], \"parcoords\": [{\"line\": {\"colorbar\": {\"outlinewidth\": 0, \"ticks\": \"\"}}, \"type\": \"parcoords\"}], \"pie\": [{\"automargin\": true, \"type\": \"pie\"}], \"scatter\": [{\"marker\": {\"colorbar\": {\"outlinewidth\": 0, \"ticks\": \"\"}}, \"type\": \"scatter\"}], \"scatter3d\": [{\"line\": {\"colorbar\": {\"outlinewidth\": 0, \"ticks\": \"\"}}, \"marker\": {\"colorbar\": {\"outlinewidth\": 0, \"ticks\": \"\"}}, \"type\": \"scatter3d\"}], \"scattercarpet\": [{\"marker\": {\"colorbar\": {\"outlinewidth\": 0, \"ticks\": \"\"}}, \"type\": \"scattercarpet\"}], \"scattergeo\": [{\"marker\": {\"colorbar\": {\"outlinewidth\": 0, \"ticks\": \"\"}}, \"type\": \"scattergeo\"}], \"scattergl\": [{\"marker\": {\"colorbar\": {\"outlinewidth\": 0, \"ticks\": \"\"}}, \"type\": \"scattergl\"}], \"scattermapbox\": [{\"marker\": {\"colorbar\": {\"outlinewidth\": 0, \"ticks\": \"\"}}, \"type\": \"scattermapbox\"}], \"scatterpolar\": [{\"marker\": {\"colorbar\": {\"outlinewidth\": 0, \"ticks\": \"\"}}, \"type\": \"scatterpolar\"}], \"scatterpolargl\": [{\"marker\": {\"colorbar\": {\"outlinewidth\": 0, \"ticks\": \"\"}}, \"type\": \"scatterpolargl\"}], \"scatterternary\": [{\"marker\": {\"colorbar\": {\"outlinewidth\": 0, \"ticks\": \"\"}}, \"type\": \"scatterternary\"}], \"surface\": [{\"colorbar\": {\"outlinewidth\": 0, \"ticks\": \"\"}, \"colorscale\": [[0.0, \"#0d0887\"], [0.1111111111111111, \"#46039f\"], [0.2222222222222222, \"#7201a8\"], [0.3333333333333333, \"#9c179e\"], [0.4444444444444444, \"#bd3786\"], [0.5555555555555556, \"#d8576b\"], [0.6666666666666666, \"#ed7953\"], [0.7777777777777778, \"#fb9f3a\"], [0.8888888888888888, \"#fdca26\"], [1.0, \"#f0f921\"]], \"type\": \"surface\"}], \"table\": [{\"cells\": {\"fill\": {\"color\": \"#EBF0F8\"}, \"line\": {\"color\": \"white\"}}, \"header\": {\"fill\": {\"color\": \"#C8D4E3\"}, \"line\": {\"color\": \"white\"}}, \"type\": \"table\"}]}, \"layout\": {\"annotationdefaults\": {\"arrowcolor\": \"#2a3f5f\", \"arrowhead\": 0, \"arrowwidth\": 1}, \"coloraxis\": {\"colorbar\": {\"outlinewidth\": 0, \"ticks\": \"\"}}, \"colorscale\": {\"diverging\": [[0, \"#8e0152\"], [0.1, \"#c51b7d\"], [0.2, \"#de77ae\"], [0.3, \"#f1b6da\"], [0.4, \"#fde0ef\"], [0.5, \"#f7f7f7\"], [0.6, \"#e6f5d0\"], [0.7, \"#b8e186\"], [0.8, \"#7fbc41\"], [0.9, \"#4d9221\"], [1, \"#276419\"]], \"sequential\": [[0.0, \"#0d0887\"], [0.1111111111111111, \"#46039f\"], [0.2222222222222222, \"#7201a8\"], [0.3333333333333333, \"#9c179e\"], [0.4444444444444444, \"#bd3786\"], [0.5555555555555556, \"#d8576b\"], [0.6666666666666666, \"#ed7953\"], [0.7777777777777778, \"#fb9f3a\"], [0.8888888888888888, \"#fdca26\"], [1.0, \"#f0f921\"]], \"sequentialminus\": [[0.0, \"#0d0887\"], [0.1111111111111111, \"#46039f\"], [0.2222222222222222, \"#7201a8\"], [0.3333333333333333, \"#9c179e\"], [0.4444444444444444, \"#bd3786\"], [0.5555555555555556, \"#d8576b\"], [0.6666666666666666, \"#ed7953\"], [0.7777777777777778, \"#fb9f3a\"], [0.8888888888888888, \"#fdca26\"], [1.0, \"#f0f921\"]]}, \"colorway\": [\"#636efa\", \"#EF553B\", \"#00cc96\", \"#ab63fa\", \"#FFA15A\", \"#19d3f3\", \"#FF6692\", \"#B6E880\", \"#FF97FF\", \"#FECB52\"], \"font\": {\"color\": \"#2a3f5f\"}, \"geo\": {\"bgcolor\": \"white\", \"lakecolor\": \"white\", \"landcolor\": \"#E5ECF6\", \"showlakes\": true, \"showland\": true, \"subunitcolor\": \"white\"}, \"hoverlabel\": {\"align\": \"left\"}, \"hovermode\": \"closest\", \"mapbox\": {\"style\": \"light\"}, \"paper_bgcolor\": \"white\", \"plot_bgcolor\": \"#E5ECF6\", \"polar\": {\"angularaxis\": {\"gridcolor\": \"white\", \"linecolor\": \"white\", \"ticks\": \"\"}, \"bgcolor\": \"#E5ECF6\", \"radialaxis\": {\"gridcolor\": \"white\", \"linecolor\": \"white\", \"ticks\": \"\"}}, \"scene\": {\"xaxis\": {\"backgroundcolor\": \"#E5ECF6\", \"gridcolor\": \"white\", \"gridwidth\": 2, \"linecolor\": \"white\", \"showbackground\": true, \"ticks\": \"\", \"zerolinecolor\": \"white\"}, \"yaxis\": {\"backgroundcolor\": \"#E5ECF6\", \"gridcolor\": \"white\", \"gridwidth\": 2, \"linecolor\": \"white\", \"showbackground\": true, \"ticks\": \"\", \"zerolinecolor\": \"white\"}, \"zaxis\": {\"backgroundcolor\": \"#E5ECF6\", \"gridcolor\": \"white\", \"gridwidth\": 2, \"linecolor\": \"white\", \"showbackground\": true, \"ticks\": \"\", \"zerolinecolor\": \"white\"}}, \"shapedefaults\": {\"line\": {\"color\": \"#2a3f5f\"}}, \"ternary\": {\"aaxis\": {\"gridcolor\": \"white\", \"linecolor\": \"white\", \"ticks\": \"\"}, \"baxis\": {\"gridcolor\": \"white\", \"linecolor\": \"white\", \"ticks\": \"\"}, \"bgcolor\": \"#E5ECF6\", \"caxis\": {\"gridcolor\": \"white\", \"linecolor\": \"white\", \"ticks\": \"\"}}, \"title\": {\"x\": 0.05}, \"xaxis\": {\"automargin\": true, \"gridcolor\": \"white\", \"linecolor\": \"white\", \"ticks\": \"\", \"title\": {\"standoff\": 15}, \"zerolinecolor\": \"white\", \"zerolinewidth\": 2}, \"yaxis\": {\"automargin\": true, \"gridcolor\": \"white\", \"linecolor\": \"white\", \"ticks\": \"\", \"title\": {\"standoff\": 15}, \"zerolinecolor\": \"white\", \"zerolinewidth\": 2}}}, \"xaxis\": {\"anchor\": \"y\", \"domain\": [0.0, 1.0], \"title\": {\"text\": \"0\"}}, \"yaxis\": {\"anchor\": \"x\", \"domain\": [0.0, 1.0], \"title\": {\"text\": \"1\"}}},\n",
       "                        {\"responsive\": true}\n",
       "                    ).then(function(){\n",
       "                            \n",
       "var gd = document.getElementById('9663fd18-a341-49e4-9ffc-b9c537d0e312');\n",
       "var x = new MutationObserver(function (mutations, observer) {{\n",
       "        var display = window.getComputedStyle(gd).display;\n",
       "        if (!display || display === 'none') {{\n",
       "            console.log([gd, 'removed!']);\n",
       "            Plotly.purge(gd);\n",
       "            observer.disconnect();\n",
       "        }}\n",
       "}});\n",
       "\n",
       "// Listen for the removal of the full notebook cells\n",
       "var notebookContainer = gd.closest('#notebook-container');\n",
       "if (notebookContainer) {{\n",
       "    x.observe(notebookContainer, {childList: true});\n",
       "}}\n",
       "\n",
       "// Listen for the clearing of the current output cell\n",
       "var outputEl = gd.closest('.output');\n",
       "if (outputEl) {{\n",
       "    x.observe(outputEl, {childList: true});\n",
       "}}\n",
       "\n",
       "                        })\n",
       "                };\n",
       "                });\n",
       "            </script>\n",
       "        </div>"
      ]
     },
     "metadata": {},
     "output_type": "display_data"
    }
   ],
   "source": [
    "for days in uniqe:\n",
    "    df_small=create_small_table(df_big,days)\n",
    "    df_small.dropna(axis=1,thresh= 4, inplace=True)\n",
    "    df_small.dropna(axis=0, inplace=True)\n",
    "    col=df_small.columns.drop(['group','Leaf WP (MPa)','WUE'])\n",
    "    try: \n",
    "        col=col.columns.drop('FvFm')\n",
    "    except:\n",
    "        print ('FvFm wasnt mesured')\n",
    "    X = df_small[col]\n",
    "    print (days, list(col))\n",
    "    try:\n",
    "        pca = PCA(n_components=2)\n",
    "        components = pca.fit_transform(X)\n",
    "        fig = px.scatter(components, x=0, y=1, color=df_small['group'])\n",
    "        fig.show()\n",
    "    except:\n",
    "        print ('one paramater')"
   ]
  },
  {
   "cell_type": "code",
   "execution_count": 9,
   "metadata": {},
   "outputs": [
    {
     "name": "stdout",
     "output_type": "stream",
     "text": [
      "A\n",
      "E\n",
      "FvFm\n",
      "gsw\n",
      "Leaf WP (MPa)\n",
      "Osmotic potantional (MPa)\n",
      "Turgor pressure\n",
      "WUE\n",
      "insert the columns you want to check (split with , without space: \n"
     ]
    }
   ],
   "source": [
    "for days in uniqe:\n",
    "    df_small=create_small_table(df_big,days)\n",
    "for col in df_small.columns:\n",
    "    if not col=='group':\n",
    "        print (col)\n",
    "l=input('insert the columns you want to check (split with , without space: ')\n",
    "l=list(l.split(','))"
   ]
  },
  {
   "cell_type": "code",
   "execution_count": 20,
   "metadata": {},
   "outputs": [
    {
     "ename": "NameError",
     "evalue": "name 'create_small_table' is not defined",
     "output_type": "error",
     "traceback": [
      "\u001b[1;31m---------------------------------------------------------------------------\u001b[0m",
      "\u001b[1;31mNameError\u001b[0m                                 Traceback (most recent call last)",
      "\u001b[1;32m<ipython-input-20-6e8dfe62c88b>\u001b[0m in \u001b[0;36m<module>\u001b[1;34m\u001b[0m\n\u001b[1;32m----> 1\u001b[1;33m \u001b[0mcreate_small_table\u001b[0m\u001b[1;33m(\u001b[0m\u001b[0mdf_big\u001b[0m\u001b[1;33m,\u001b[0m\u001b[0mdays\u001b[0m\u001b[1;33m)\u001b[0m\u001b[1;33m\u001b[0m\u001b[1;33m\u001b[0m\u001b[0m\n\u001b[0m",
      "\u001b[1;31mNameError\u001b[0m: name 'create_small_table' is not defined"
     ]
    }
   ],
   "source": [
    "create_small_table(df_big,days)"
   ]
  },
  {
   "cell_type": "code",
   "execution_count": 136,
   "metadata": {},
   "outputs": [],
   "source": [
    "df_small.dropna(axis=1,inplace=True)"
   ]
  },
  {
   "cell_type": "code",
   "execution_count": 138,
   "metadata": {},
   "outputs": [
    {
     "data": {
      "text/plain": [
       "Index(['A', 'group', 'E', 'gsw', 'Leaf WP (MPa)', 'Osmotic potantional (MPa)',\n",
       "       'Turgor pressure', 'WUE'],\n",
       "      dtype='object')"
      ]
     },
     "execution_count": 138,
     "metadata": {},
     "output_type": "execute_result"
    }
   ],
   "source": [
    "df_small.columns"
   ]
  },
  {
   "cell_type": "code",
   "execution_count": 103,
   "metadata": {},
   "outputs": [],
   "source": [
    "index=df_small.index.tolist()\n",
    "for i in range(len(index)):\n",
    "    index[i]=index[i].split('_')[0]"
   ]
  },
  {
   "cell_type": "code",
   "execution_count": 142,
   "metadata": {
    "scrolled": true
   },
   "outputs": [
    {
     "data": {
      "application/vnd.plotly.v1+json": {
       "config": {
        "plotlyServerURL": "https://plot.ly"
       },
       "data": [
        {
         "hovertemplate": "color=Flooding DR<br>0=%{x}<br>1=%{y}<extra></extra>",
         "legendgroup": "Flooding DR",
         "marker": {
          "color": "#636efa",
          "symbol": "circle"
         },
         "mode": "markers",
         "name": "Flooding DR",
         "orientation": "v",
         "showlegend": true,
         "type": "scatter",
         "x": [
          -1.6677696130444153,
          -1.410020221535696,
          -0.2715158223367956,
          1.724482726116953,
          -0.41583079026631303,
          -0.6888712122321917,
          0.3054358194800518,
          -0.6037297528052448,
          -0.5061197905177832,
          -1.198504861291931
         ],
         "xaxis": "x",
         "y": [
          -0.12891092480800495,
          0.09806029909646219,
          -0.11787027348787504,
          -0.32163286447388595,
          -0.21514453517916238,
          -0.18146891962705256,
          -0.35595666137910614,
          0.06804972622816344,
          -0.0759275904051466,
          -0.1705824160406222
         ],
         "yaxis": "y"
        },
        {
         "hovertemplate": "color=Control DR<br>0=%{x}<br>1=%{y}<extra></extra>",
         "legendgroup": "Control DR",
         "marker": {
          "color": "#EF553B",
          "symbol": "circle"
         },
         "mode": "markers",
         "name": "Control DR",
         "orientation": "v",
         "showlegend": true,
         "type": "scatter",
         "x": [
          -1.07483977360122,
          -2.751389111170388,
          -1.9878005746129404,
          -0.5367785658790054,
          1.033417773298652,
          0.16909466408295656,
          -0.5919403291416405,
          -0.3366185762529063,
          -0.8537025751896927
         ],
         "xaxis": "x",
         "y": [
          0.12036365831212965,
          0.20258030788834913,
          0.0280576496431911,
          0.381936768898182,
          0.360753238096915,
          -0.02409161830538867,
          -0.06765607037634157,
          -0.14019265456890706,
          -0.0989861404253478
         ],
         "yaxis": "y"
        },
        {
         "hovertemplate": "color=Flooding Cycle 8<br>0=%{x}<br>1=%{y}<extra></extra>",
         "legendgroup": "Flooding Cycle 8",
         "marker": {
          "color": "#00cc96",
          "symbol": "circle"
         },
         "mode": "markers",
         "name": "Flooding Cycle 8",
         "orientation": "v",
         "showlegend": true,
         "type": "scatter",
         "x": [
          1.8942377715339436,
          -0.8999235334257033,
          3.232590247649911,
          0.36837407486955887,
          1.7000592431704349,
          -1.0410338039452707,
          -0.23695032616173894,
          0.883538192107959,
          0.37069487304068116,
          1.3159346713051767
         ],
         "xaxis": "x",
         "y": [
          -0.10002593122353041,
          0.12775443471279962,
          0.6691252983507415,
          0.02958665108412809,
          -0.24594622128827542,
          0.03077640224675529,
          0.3604682873861172,
          -0.13872435196659305,
          -0.01734149153678514,
          0.10466721301475429
         ],
         "yaxis": "y"
        },
        {
         "hovertemplate": "color=Control Cycle 8<br>0=%{x}<br>1=%{y}<extra></extra>",
         "legendgroup": "Control Cycle 8",
         "marker": {
          "color": "#ab63fa",
          "symbol": "circle"
         },
         "mode": "markers",
         "name": "Control Cycle 8",
         "orientation": "v",
         "showlegend": true,
         "type": "scatter",
         "x": [
          1.0672090691123588,
          1.3868778927264043,
          3.17430002892531,
          1.00546007630198,
          1.492091939660205,
          2.163314125787752,
          -1.494870123361038,
          -0.6248487238935725,
          2.216264915970384
         ],
         "xaxis": "x",
         "y": [
          0.1745948413612721,
          -0.16877285460801714,
          0.20677512310820934,
          -0.07534274787573761,
          0.04618476916575885,
          0.09341255319754632,
          0.12392206718045826,
          0.1503322056065074,
          -0.08662505615321267
         ],
         "yaxis": "y"
        },
        {
         "hovertemplate": "color=Flooding Cycle 0<br>0=%{x}<br>1=%{y}<extra></extra>",
         "legendgroup": "Flooding Cycle 0",
         "marker": {
          "color": "#FFA15A",
          "symbol": "circle"
         },
         "mode": "markers",
         "name": "Flooding Cycle 0",
         "orientation": "v",
         "showlegend": true,
         "type": "scatter",
         "x": [
          -2.315080643057086,
          -1.0318781841643916,
          -1.7415049778445117,
          1.3313592917913284,
          1.4423185690243088,
          0.7495767944023656,
          1.5598337575872043,
          -0.9986192603864387,
          -0.6362821880054277,
          -0.458620777026927
         ],
         "xaxis": "x",
         "y": [
          0.11080063012471145,
          -0.0866763689223573,
          -0.03986158836200183,
          -0.320146250848485,
          -0.0825922310797326,
          -0.24565886972355508,
          0.0471180355758414,
          -0.14260316984361437,
          0.05225385528935073,
          0.20196060540244512
         ],
         "yaxis": "y"
        },
        {
         "hovertemplate": "color=Control Cycle 0<br>0=%{x}<br>1=%{y}<extra></extra>",
         "legendgroup": "Control Cycle 0",
         "marker": {
          "color": "#19d3f3",
          "symbol": "circle"
         },
         "mode": "markers",
         "name": "Control Cycle 0",
         "orientation": "v",
         "showlegend": true,
         "type": "scatter",
         "x": [
          -0.4844165174272327,
          -0.18761941324070505,
          -2.4895884979388243,
          -2.085633166840806,
          1.2462644307435145,
          0.9460795933364822,
          -1.2359421673616189,
          0.519455452025404,
          -0.44002212009182945
         ],
         "xaxis": "x",
         "y": [
          -0.13065577186743574,
          0.10339749872785581,
          0.043869408577482755,
          0.08803324721514875,
          -0.3405081931355107,
          0.20438269429395534,
          -0.009481763330230977,
          0.03284050023100132,
          -0.13267443917431396
         ],
         "yaxis": "y"
        }
       ],
       "layout": {
        "legend": {
         "title": {
          "text": "color"
         },
         "tracegroupgap": 0
        },
        "margin": {
         "t": 60
        },
        "template": {
         "data": {
          "bar": [
           {
            "error_x": {
             "color": "#2a3f5f"
            },
            "error_y": {
             "color": "#2a3f5f"
            },
            "marker": {
             "line": {
              "color": "#E5ECF6",
              "width": 0.5
             }
            },
            "type": "bar"
           }
          ],
          "barpolar": [
           {
            "marker": {
             "line": {
              "color": "#E5ECF6",
              "width": 0.5
             }
            },
            "type": "barpolar"
           }
          ],
          "carpet": [
           {
            "aaxis": {
             "endlinecolor": "#2a3f5f",
             "gridcolor": "white",
             "linecolor": "white",
             "minorgridcolor": "white",
             "startlinecolor": "#2a3f5f"
            },
            "baxis": {
             "endlinecolor": "#2a3f5f",
             "gridcolor": "white",
             "linecolor": "white",
             "minorgridcolor": "white",
             "startlinecolor": "#2a3f5f"
            },
            "type": "carpet"
           }
          ],
          "choropleth": [
           {
            "colorbar": {
             "outlinewidth": 0,
             "ticks": ""
            },
            "type": "choropleth"
           }
          ],
          "contour": [
           {
            "colorbar": {
             "outlinewidth": 0,
             "ticks": ""
            },
            "colorscale": [
             [
              0,
              "#0d0887"
             ],
             [
              0.1111111111111111,
              "#46039f"
             ],
             [
              0.2222222222222222,
              "#7201a8"
             ],
             [
              0.3333333333333333,
              "#9c179e"
             ],
             [
              0.4444444444444444,
              "#bd3786"
             ],
             [
              0.5555555555555556,
              "#d8576b"
             ],
             [
              0.6666666666666666,
              "#ed7953"
             ],
             [
              0.7777777777777778,
              "#fb9f3a"
             ],
             [
              0.8888888888888888,
              "#fdca26"
             ],
             [
              1,
              "#f0f921"
             ]
            ],
            "type": "contour"
           }
          ],
          "contourcarpet": [
           {
            "colorbar": {
             "outlinewidth": 0,
             "ticks": ""
            },
            "type": "contourcarpet"
           }
          ],
          "heatmap": [
           {
            "colorbar": {
             "outlinewidth": 0,
             "ticks": ""
            },
            "colorscale": [
             [
              0,
              "#0d0887"
             ],
             [
              0.1111111111111111,
              "#46039f"
             ],
             [
              0.2222222222222222,
              "#7201a8"
             ],
             [
              0.3333333333333333,
              "#9c179e"
             ],
             [
              0.4444444444444444,
              "#bd3786"
             ],
             [
              0.5555555555555556,
              "#d8576b"
             ],
             [
              0.6666666666666666,
              "#ed7953"
             ],
             [
              0.7777777777777778,
              "#fb9f3a"
             ],
             [
              0.8888888888888888,
              "#fdca26"
             ],
             [
              1,
              "#f0f921"
             ]
            ],
            "type": "heatmap"
           }
          ],
          "heatmapgl": [
           {
            "colorbar": {
             "outlinewidth": 0,
             "ticks": ""
            },
            "colorscale": [
             [
              0,
              "#0d0887"
             ],
             [
              0.1111111111111111,
              "#46039f"
             ],
             [
              0.2222222222222222,
              "#7201a8"
             ],
             [
              0.3333333333333333,
              "#9c179e"
             ],
             [
              0.4444444444444444,
              "#bd3786"
             ],
             [
              0.5555555555555556,
              "#d8576b"
             ],
             [
              0.6666666666666666,
              "#ed7953"
             ],
             [
              0.7777777777777778,
              "#fb9f3a"
             ],
             [
              0.8888888888888888,
              "#fdca26"
             ],
             [
              1,
              "#f0f921"
             ]
            ],
            "type": "heatmapgl"
           }
          ],
          "histogram": [
           {
            "marker": {
             "colorbar": {
              "outlinewidth": 0,
              "ticks": ""
             }
            },
            "type": "histogram"
           }
          ],
          "histogram2d": [
           {
            "colorbar": {
             "outlinewidth": 0,
             "ticks": ""
            },
            "colorscale": [
             [
              0,
              "#0d0887"
             ],
             [
              0.1111111111111111,
              "#46039f"
             ],
             [
              0.2222222222222222,
              "#7201a8"
             ],
             [
              0.3333333333333333,
              "#9c179e"
             ],
             [
              0.4444444444444444,
              "#bd3786"
             ],
             [
              0.5555555555555556,
              "#d8576b"
             ],
             [
              0.6666666666666666,
              "#ed7953"
             ],
             [
              0.7777777777777778,
              "#fb9f3a"
             ],
             [
              0.8888888888888888,
              "#fdca26"
             ],
             [
              1,
              "#f0f921"
             ]
            ],
            "type": "histogram2d"
           }
          ],
          "histogram2dcontour": [
           {
            "colorbar": {
             "outlinewidth": 0,
             "ticks": ""
            },
            "colorscale": [
             [
              0,
              "#0d0887"
             ],
             [
              0.1111111111111111,
              "#46039f"
             ],
             [
              0.2222222222222222,
              "#7201a8"
             ],
             [
              0.3333333333333333,
              "#9c179e"
             ],
             [
              0.4444444444444444,
              "#bd3786"
             ],
             [
              0.5555555555555556,
              "#d8576b"
             ],
             [
              0.6666666666666666,
              "#ed7953"
             ],
             [
              0.7777777777777778,
              "#fb9f3a"
             ],
             [
              0.8888888888888888,
              "#fdca26"
             ],
             [
              1,
              "#f0f921"
             ]
            ],
            "type": "histogram2dcontour"
           }
          ],
          "mesh3d": [
           {
            "colorbar": {
             "outlinewidth": 0,
             "ticks": ""
            },
            "type": "mesh3d"
           }
          ],
          "parcoords": [
           {
            "line": {
             "colorbar": {
              "outlinewidth": 0,
              "ticks": ""
             }
            },
            "type": "parcoords"
           }
          ],
          "pie": [
           {
            "automargin": true,
            "type": "pie"
           }
          ],
          "scatter": [
           {
            "marker": {
             "colorbar": {
              "outlinewidth": 0,
              "ticks": ""
             }
            },
            "type": "scatter"
           }
          ],
          "scatter3d": [
           {
            "line": {
             "colorbar": {
              "outlinewidth": 0,
              "ticks": ""
             }
            },
            "marker": {
             "colorbar": {
              "outlinewidth": 0,
              "ticks": ""
             }
            },
            "type": "scatter3d"
           }
          ],
          "scattercarpet": [
           {
            "marker": {
             "colorbar": {
              "outlinewidth": 0,
              "ticks": ""
             }
            },
            "type": "scattercarpet"
           }
          ],
          "scattergeo": [
           {
            "marker": {
             "colorbar": {
              "outlinewidth": 0,
              "ticks": ""
             }
            },
            "type": "scattergeo"
           }
          ],
          "scattergl": [
           {
            "marker": {
             "colorbar": {
              "outlinewidth": 0,
              "ticks": ""
             }
            },
            "type": "scattergl"
           }
          ],
          "scattermapbox": [
           {
            "marker": {
             "colorbar": {
              "outlinewidth": 0,
              "ticks": ""
             }
            },
            "type": "scattermapbox"
           }
          ],
          "scatterpolar": [
           {
            "marker": {
             "colorbar": {
              "outlinewidth": 0,
              "ticks": ""
             }
            },
            "type": "scatterpolar"
           }
          ],
          "scatterpolargl": [
           {
            "marker": {
             "colorbar": {
              "outlinewidth": 0,
              "ticks": ""
             }
            },
            "type": "scatterpolargl"
           }
          ],
          "scatterternary": [
           {
            "marker": {
             "colorbar": {
              "outlinewidth": 0,
              "ticks": ""
             }
            },
            "type": "scatterternary"
           }
          ],
          "surface": [
           {
            "colorbar": {
             "outlinewidth": 0,
             "ticks": ""
            },
            "colorscale": [
             [
              0,
              "#0d0887"
             ],
             [
              0.1111111111111111,
              "#46039f"
             ],
             [
              0.2222222222222222,
              "#7201a8"
             ],
             [
              0.3333333333333333,
              "#9c179e"
             ],
             [
              0.4444444444444444,
              "#bd3786"
             ],
             [
              0.5555555555555556,
              "#d8576b"
             ],
             [
              0.6666666666666666,
              "#ed7953"
             ],
             [
              0.7777777777777778,
              "#fb9f3a"
             ],
             [
              0.8888888888888888,
              "#fdca26"
             ],
             [
              1,
              "#f0f921"
             ]
            ],
            "type": "surface"
           }
          ],
          "table": [
           {
            "cells": {
             "fill": {
              "color": "#EBF0F8"
             },
             "line": {
              "color": "white"
             }
            },
            "header": {
             "fill": {
              "color": "#C8D4E3"
             },
             "line": {
              "color": "white"
             }
            },
            "type": "table"
           }
          ]
         },
         "layout": {
          "annotationdefaults": {
           "arrowcolor": "#2a3f5f",
           "arrowhead": 0,
           "arrowwidth": 1
          },
          "coloraxis": {
           "colorbar": {
            "outlinewidth": 0,
            "ticks": ""
           }
          },
          "colorscale": {
           "diverging": [
            [
             0,
             "#8e0152"
            ],
            [
             0.1,
             "#c51b7d"
            ],
            [
             0.2,
             "#de77ae"
            ],
            [
             0.3,
             "#f1b6da"
            ],
            [
             0.4,
             "#fde0ef"
            ],
            [
             0.5,
             "#f7f7f7"
            ],
            [
             0.6,
             "#e6f5d0"
            ],
            [
             0.7,
             "#b8e186"
            ],
            [
             0.8,
             "#7fbc41"
            ],
            [
             0.9,
             "#4d9221"
            ],
            [
             1,
             "#276419"
            ]
           ],
           "sequential": [
            [
             0,
             "#0d0887"
            ],
            [
             0.1111111111111111,
             "#46039f"
            ],
            [
             0.2222222222222222,
             "#7201a8"
            ],
            [
             0.3333333333333333,
             "#9c179e"
            ],
            [
             0.4444444444444444,
             "#bd3786"
            ],
            [
             0.5555555555555556,
             "#d8576b"
            ],
            [
             0.6666666666666666,
             "#ed7953"
            ],
            [
             0.7777777777777778,
             "#fb9f3a"
            ],
            [
             0.8888888888888888,
             "#fdca26"
            ],
            [
             1,
             "#f0f921"
            ]
           ],
           "sequentialminus": [
            [
             0,
             "#0d0887"
            ],
            [
             0.1111111111111111,
             "#46039f"
            ],
            [
             0.2222222222222222,
             "#7201a8"
            ],
            [
             0.3333333333333333,
             "#9c179e"
            ],
            [
             0.4444444444444444,
             "#bd3786"
            ],
            [
             0.5555555555555556,
             "#d8576b"
            ],
            [
             0.6666666666666666,
             "#ed7953"
            ],
            [
             0.7777777777777778,
             "#fb9f3a"
            ],
            [
             0.8888888888888888,
             "#fdca26"
            ],
            [
             1,
             "#f0f921"
            ]
           ]
          },
          "colorway": [
           "#636efa",
           "#EF553B",
           "#00cc96",
           "#ab63fa",
           "#FFA15A",
           "#19d3f3",
           "#FF6692",
           "#B6E880",
           "#FF97FF",
           "#FECB52"
          ],
          "font": {
           "color": "#2a3f5f"
          },
          "geo": {
           "bgcolor": "white",
           "lakecolor": "white",
           "landcolor": "#E5ECF6",
           "showlakes": true,
           "showland": true,
           "subunitcolor": "white"
          },
          "hoverlabel": {
           "align": "left"
          },
          "hovermode": "closest",
          "mapbox": {
           "style": "light"
          },
          "paper_bgcolor": "white",
          "plot_bgcolor": "#E5ECF6",
          "polar": {
           "angularaxis": {
            "gridcolor": "white",
            "linecolor": "white",
            "ticks": ""
           },
           "bgcolor": "#E5ECF6",
           "radialaxis": {
            "gridcolor": "white",
            "linecolor": "white",
            "ticks": ""
           }
          },
          "scene": {
           "xaxis": {
            "backgroundcolor": "#E5ECF6",
            "gridcolor": "white",
            "gridwidth": 2,
            "linecolor": "white",
            "showbackground": true,
            "ticks": "",
            "zerolinecolor": "white"
           },
           "yaxis": {
            "backgroundcolor": "#E5ECF6",
            "gridcolor": "white",
            "gridwidth": 2,
            "linecolor": "white",
            "showbackground": true,
            "ticks": "",
            "zerolinecolor": "white"
           },
           "zaxis": {
            "backgroundcolor": "#E5ECF6",
            "gridcolor": "white",
            "gridwidth": 2,
            "linecolor": "white",
            "showbackground": true,
            "ticks": "",
            "zerolinecolor": "white"
           }
          },
          "shapedefaults": {
           "line": {
            "color": "#2a3f5f"
           }
          },
          "ternary": {
           "aaxis": {
            "gridcolor": "white",
            "linecolor": "white",
            "ticks": ""
           },
           "baxis": {
            "gridcolor": "white",
            "linecolor": "white",
            "ticks": ""
           },
           "bgcolor": "#E5ECF6",
           "caxis": {
            "gridcolor": "white",
            "linecolor": "white",
            "ticks": ""
           }
          },
          "title": {
           "x": 0.05
          },
          "xaxis": {
           "automargin": true,
           "gridcolor": "white",
           "linecolor": "white",
           "ticks": "",
           "title": {
            "standoff": 15
           },
           "zerolinecolor": "white",
           "zerolinewidth": 2
          },
          "yaxis": {
           "automargin": true,
           "gridcolor": "white",
           "linecolor": "white",
           "ticks": "",
           "title": {
            "standoff": 15
           },
           "zerolinecolor": "white",
           "zerolinewidth": 2
          }
         }
        },
        "xaxis": {
         "anchor": "y",
         "domain": [
          0,
          1
         ],
         "title": {
          "text": "0"
         }
        },
        "yaxis": {
         "anchor": "x",
         "domain": [
          0,
          1
         ],
         "title": {
          "text": "1"
         }
        }
       }
      },
      "text/html": [
       "<div>\n",
       "        \n",
       "        \n",
       "            <div id=\"61a9136b-284d-428a-ab29-a13bab299231\" class=\"plotly-graph-div\" style=\"height:525px; width:100%;\"></div>\n",
       "            <script type=\"text/javascript\">\n",
       "                require([\"plotly\"], function(Plotly) {\n",
       "                    window.PLOTLYENV=window.PLOTLYENV || {};\n",
       "                    \n",
       "                if (document.getElementById(\"61a9136b-284d-428a-ab29-a13bab299231\")) {\n",
       "                    Plotly.newPlot(\n",
       "                        '61a9136b-284d-428a-ab29-a13bab299231',\n",
       "                        [{\"hovertemplate\": \"color=Flooding DR<br>0=%{x}<br>1=%{y}<extra></extra>\", \"legendgroup\": \"Flooding DR\", \"marker\": {\"color\": \"#636efa\", \"symbol\": \"circle\"}, \"mode\": \"markers\", \"name\": \"Flooding DR\", \"orientation\": \"v\", \"showlegend\": true, \"type\": \"scatter\", \"x\": [-1.6677696130444153, -1.410020221535696, -0.2715158223367956, 1.724482726116953, -0.41583079026631303, -0.6888712122321917, 0.3054358194800518, -0.6037297528052448, -0.5061197905177832, -1.198504861291931], \"xaxis\": \"x\", \"y\": [-0.12891092480800495, 0.09806029909646219, -0.11787027348787504, -0.32163286447388595, -0.21514453517916238, -0.18146891962705256, -0.35595666137910614, 0.06804972622816344, -0.0759275904051466, -0.1705824160406222], \"yaxis\": \"y\"}, {\"hovertemplate\": \"color=Control DR<br>0=%{x}<br>1=%{y}<extra></extra>\", \"legendgroup\": \"Control DR\", \"marker\": {\"color\": \"#EF553B\", \"symbol\": \"circle\"}, \"mode\": \"markers\", \"name\": \"Control DR\", \"orientation\": \"v\", \"showlegend\": true, \"type\": \"scatter\", \"x\": [-1.07483977360122, -2.751389111170388, -1.9878005746129404, -0.5367785658790054, 1.033417773298652, 0.16909466408295656, -0.5919403291416405, -0.3366185762529063, -0.8537025751896927], \"xaxis\": \"x\", \"y\": [0.12036365831212965, 0.20258030788834913, 0.0280576496431911, 0.381936768898182, 0.360753238096915, -0.02409161830538867, -0.06765607037634157, -0.14019265456890706, -0.0989861404253478], \"yaxis\": \"y\"}, {\"hovertemplate\": \"color=Flooding Cycle 8<br>0=%{x}<br>1=%{y}<extra></extra>\", \"legendgroup\": \"Flooding Cycle 8\", \"marker\": {\"color\": \"#00cc96\", \"symbol\": \"circle\"}, \"mode\": \"markers\", \"name\": \"Flooding Cycle 8\", \"orientation\": \"v\", \"showlegend\": true, \"type\": \"scatter\", \"x\": [1.8942377715339436, -0.8999235334257033, 3.232590247649911, 0.36837407486955887, 1.7000592431704349, -1.0410338039452707, -0.23695032616173894, 0.883538192107959, 0.37069487304068116, 1.3159346713051767], \"xaxis\": \"x\", \"y\": [-0.10002593122353041, 0.12775443471279962, 0.6691252983507415, 0.02958665108412809, -0.24594622128827542, 0.03077640224675529, 0.3604682873861172, -0.13872435196659305, -0.01734149153678514, 0.10466721301475429], \"yaxis\": \"y\"}, {\"hovertemplate\": \"color=Control Cycle 8<br>0=%{x}<br>1=%{y}<extra></extra>\", \"legendgroup\": \"Control Cycle 8\", \"marker\": {\"color\": \"#ab63fa\", \"symbol\": \"circle\"}, \"mode\": \"markers\", \"name\": \"Control Cycle 8\", \"orientation\": \"v\", \"showlegend\": true, \"type\": \"scatter\", \"x\": [1.0672090691123588, 1.3868778927264043, 3.17430002892531, 1.00546007630198, 1.492091939660205, 2.163314125787752, -1.494870123361038, -0.6248487238935725, 2.216264915970384], \"xaxis\": \"x\", \"y\": [0.1745948413612721, -0.16877285460801714, 0.20677512310820934, -0.07534274787573761, 0.04618476916575885, 0.09341255319754632, 0.12392206718045826, 0.1503322056065074, -0.08662505615321267], \"yaxis\": \"y\"}, {\"hovertemplate\": \"color=Flooding Cycle 0<br>0=%{x}<br>1=%{y}<extra></extra>\", \"legendgroup\": \"Flooding Cycle 0\", \"marker\": {\"color\": \"#FFA15A\", \"symbol\": \"circle\"}, \"mode\": \"markers\", \"name\": \"Flooding Cycle 0\", \"orientation\": \"v\", \"showlegend\": true, \"type\": \"scatter\", \"x\": [-2.315080643057086, -1.0318781841643916, -1.7415049778445117, 1.3313592917913284, 1.4423185690243088, 0.7495767944023656, 1.5598337575872043, -0.9986192603864387, -0.6362821880054277, -0.458620777026927], \"xaxis\": \"x\", \"y\": [0.11080063012471145, -0.0866763689223573, -0.03986158836200183, -0.320146250848485, -0.0825922310797326, -0.24565886972355508, 0.0471180355758414, -0.14260316984361437, 0.05225385528935073, 0.20196060540244512], \"yaxis\": \"y\"}, {\"hovertemplate\": \"color=Control Cycle 0<br>0=%{x}<br>1=%{y}<extra></extra>\", \"legendgroup\": \"Control Cycle 0\", \"marker\": {\"color\": \"#19d3f3\", \"symbol\": \"circle\"}, \"mode\": \"markers\", \"name\": \"Control Cycle 0\", \"orientation\": \"v\", \"showlegend\": true, \"type\": \"scatter\", \"x\": [-0.4844165174272327, -0.18761941324070505, -2.4895884979388243, -2.085633166840806, 1.2462644307435145, 0.9460795933364822, -1.2359421673616189, 0.519455452025404, -0.44002212009182945], \"xaxis\": \"x\", \"y\": [-0.13065577186743574, 0.10339749872785581, 0.043869408577482755, 0.08803324721514875, -0.3405081931355107, 0.20438269429395534, -0.009481763330230977, 0.03284050023100132, -0.13267443917431396], \"yaxis\": \"y\"}],\n",
       "                        {\"legend\": {\"title\": {\"text\": \"color\"}, \"tracegroupgap\": 0}, \"margin\": {\"t\": 60}, \"template\": {\"data\": {\"bar\": [{\"error_x\": {\"color\": \"#2a3f5f\"}, \"error_y\": {\"color\": \"#2a3f5f\"}, \"marker\": {\"line\": {\"color\": \"#E5ECF6\", \"width\": 0.5}}, \"type\": \"bar\"}], \"barpolar\": [{\"marker\": {\"line\": {\"color\": \"#E5ECF6\", \"width\": 0.5}}, \"type\": \"barpolar\"}], \"carpet\": [{\"aaxis\": {\"endlinecolor\": \"#2a3f5f\", \"gridcolor\": \"white\", \"linecolor\": \"white\", \"minorgridcolor\": \"white\", \"startlinecolor\": \"#2a3f5f\"}, \"baxis\": {\"endlinecolor\": \"#2a3f5f\", \"gridcolor\": \"white\", \"linecolor\": \"white\", \"minorgridcolor\": \"white\", \"startlinecolor\": \"#2a3f5f\"}, \"type\": \"carpet\"}], \"choropleth\": [{\"colorbar\": {\"outlinewidth\": 0, \"ticks\": \"\"}, \"type\": \"choropleth\"}], \"contour\": [{\"colorbar\": {\"outlinewidth\": 0, \"ticks\": \"\"}, \"colorscale\": [[0.0, \"#0d0887\"], [0.1111111111111111, \"#46039f\"], [0.2222222222222222, \"#7201a8\"], [0.3333333333333333, \"#9c179e\"], [0.4444444444444444, \"#bd3786\"], [0.5555555555555556, \"#d8576b\"], [0.6666666666666666, \"#ed7953\"], [0.7777777777777778, \"#fb9f3a\"], [0.8888888888888888, \"#fdca26\"], [1.0, \"#f0f921\"]], \"type\": \"contour\"}], \"contourcarpet\": [{\"colorbar\": {\"outlinewidth\": 0, \"ticks\": \"\"}, \"type\": \"contourcarpet\"}], \"heatmap\": [{\"colorbar\": {\"outlinewidth\": 0, \"ticks\": \"\"}, \"colorscale\": [[0.0, \"#0d0887\"], [0.1111111111111111, \"#46039f\"], [0.2222222222222222, \"#7201a8\"], [0.3333333333333333, \"#9c179e\"], [0.4444444444444444, \"#bd3786\"], [0.5555555555555556, \"#d8576b\"], [0.6666666666666666, \"#ed7953\"], [0.7777777777777778, \"#fb9f3a\"], [0.8888888888888888, \"#fdca26\"], [1.0, \"#f0f921\"]], \"type\": \"heatmap\"}], \"heatmapgl\": [{\"colorbar\": {\"outlinewidth\": 0, \"ticks\": \"\"}, \"colorscale\": [[0.0, \"#0d0887\"], [0.1111111111111111, \"#46039f\"], [0.2222222222222222, \"#7201a8\"], [0.3333333333333333, \"#9c179e\"], [0.4444444444444444, \"#bd3786\"], [0.5555555555555556, \"#d8576b\"], [0.6666666666666666, \"#ed7953\"], [0.7777777777777778, \"#fb9f3a\"], [0.8888888888888888, \"#fdca26\"], [1.0, \"#f0f921\"]], \"type\": \"heatmapgl\"}], \"histogram\": [{\"marker\": {\"colorbar\": {\"outlinewidth\": 0, \"ticks\": \"\"}}, \"type\": \"histogram\"}], \"histogram2d\": [{\"colorbar\": {\"outlinewidth\": 0, \"ticks\": \"\"}, \"colorscale\": [[0.0, \"#0d0887\"], [0.1111111111111111, \"#46039f\"], [0.2222222222222222, \"#7201a8\"], [0.3333333333333333, \"#9c179e\"], [0.4444444444444444, \"#bd3786\"], [0.5555555555555556, \"#d8576b\"], [0.6666666666666666, \"#ed7953\"], [0.7777777777777778, \"#fb9f3a\"], [0.8888888888888888, \"#fdca26\"], [1.0, \"#f0f921\"]], \"type\": \"histogram2d\"}], \"histogram2dcontour\": [{\"colorbar\": {\"outlinewidth\": 0, \"ticks\": \"\"}, \"colorscale\": [[0.0, \"#0d0887\"], [0.1111111111111111, \"#46039f\"], [0.2222222222222222, \"#7201a8\"], [0.3333333333333333, \"#9c179e\"], [0.4444444444444444, \"#bd3786\"], [0.5555555555555556, \"#d8576b\"], [0.6666666666666666, \"#ed7953\"], [0.7777777777777778, \"#fb9f3a\"], [0.8888888888888888, \"#fdca26\"], [1.0, \"#f0f921\"]], \"type\": \"histogram2dcontour\"}], \"mesh3d\": [{\"colorbar\": {\"outlinewidth\": 0, \"ticks\": \"\"}, \"type\": \"mesh3d\"}], \"parcoords\": [{\"line\": {\"colorbar\": {\"outlinewidth\": 0, \"ticks\": \"\"}}, \"type\": \"parcoords\"}], \"pie\": [{\"automargin\": true, \"type\": \"pie\"}], \"scatter\": [{\"marker\": {\"colorbar\": {\"outlinewidth\": 0, \"ticks\": \"\"}}, \"type\": \"scatter\"}], \"scatter3d\": [{\"line\": {\"colorbar\": {\"outlinewidth\": 0, \"ticks\": \"\"}}, \"marker\": {\"colorbar\": {\"outlinewidth\": 0, \"ticks\": \"\"}}, \"type\": \"scatter3d\"}], \"scattercarpet\": [{\"marker\": {\"colorbar\": {\"outlinewidth\": 0, \"ticks\": \"\"}}, \"type\": \"scattercarpet\"}], \"scattergeo\": [{\"marker\": {\"colorbar\": {\"outlinewidth\": 0, \"ticks\": \"\"}}, \"type\": \"scattergeo\"}], \"scattergl\": [{\"marker\": {\"colorbar\": {\"outlinewidth\": 0, \"ticks\": \"\"}}, \"type\": \"scattergl\"}], \"scattermapbox\": [{\"marker\": {\"colorbar\": {\"outlinewidth\": 0, \"ticks\": \"\"}}, \"type\": \"scattermapbox\"}], \"scatterpolar\": [{\"marker\": {\"colorbar\": {\"outlinewidth\": 0, \"ticks\": \"\"}}, \"type\": \"scatterpolar\"}], \"scatterpolargl\": [{\"marker\": {\"colorbar\": {\"outlinewidth\": 0, \"ticks\": \"\"}}, \"type\": \"scatterpolargl\"}], \"scatterternary\": [{\"marker\": {\"colorbar\": {\"outlinewidth\": 0, \"ticks\": \"\"}}, \"type\": \"scatterternary\"}], \"surface\": [{\"colorbar\": {\"outlinewidth\": 0, \"ticks\": \"\"}, \"colorscale\": [[0.0, \"#0d0887\"], [0.1111111111111111, \"#46039f\"], [0.2222222222222222, \"#7201a8\"], [0.3333333333333333, \"#9c179e\"], [0.4444444444444444, \"#bd3786\"], [0.5555555555555556, \"#d8576b\"], [0.6666666666666666, \"#ed7953\"], [0.7777777777777778, \"#fb9f3a\"], [0.8888888888888888, \"#fdca26\"], [1.0, \"#f0f921\"]], \"type\": \"surface\"}], \"table\": [{\"cells\": {\"fill\": {\"color\": \"#EBF0F8\"}, \"line\": {\"color\": \"white\"}}, \"header\": {\"fill\": {\"color\": \"#C8D4E3\"}, \"line\": {\"color\": \"white\"}}, \"type\": \"table\"}]}, \"layout\": {\"annotationdefaults\": {\"arrowcolor\": \"#2a3f5f\", \"arrowhead\": 0, \"arrowwidth\": 1}, \"coloraxis\": {\"colorbar\": {\"outlinewidth\": 0, \"ticks\": \"\"}}, \"colorscale\": {\"diverging\": [[0, \"#8e0152\"], [0.1, \"#c51b7d\"], [0.2, \"#de77ae\"], [0.3, \"#f1b6da\"], [0.4, \"#fde0ef\"], [0.5, \"#f7f7f7\"], [0.6, \"#e6f5d0\"], [0.7, \"#b8e186\"], [0.8, \"#7fbc41\"], [0.9, \"#4d9221\"], [1, \"#276419\"]], \"sequential\": [[0.0, \"#0d0887\"], [0.1111111111111111, \"#46039f\"], [0.2222222222222222, \"#7201a8\"], [0.3333333333333333, \"#9c179e\"], [0.4444444444444444, \"#bd3786\"], [0.5555555555555556, \"#d8576b\"], [0.6666666666666666, \"#ed7953\"], [0.7777777777777778, \"#fb9f3a\"], [0.8888888888888888, \"#fdca26\"], [1.0, \"#f0f921\"]], \"sequentialminus\": [[0.0, \"#0d0887\"], [0.1111111111111111, \"#46039f\"], [0.2222222222222222, \"#7201a8\"], [0.3333333333333333, \"#9c179e\"], [0.4444444444444444, \"#bd3786\"], [0.5555555555555556, \"#d8576b\"], [0.6666666666666666, \"#ed7953\"], [0.7777777777777778, \"#fb9f3a\"], [0.8888888888888888, \"#fdca26\"], [1.0, \"#f0f921\"]]}, \"colorway\": [\"#636efa\", \"#EF553B\", \"#00cc96\", \"#ab63fa\", \"#FFA15A\", \"#19d3f3\", \"#FF6692\", \"#B6E880\", \"#FF97FF\", \"#FECB52\"], \"font\": {\"color\": \"#2a3f5f\"}, \"geo\": {\"bgcolor\": \"white\", \"lakecolor\": \"white\", \"landcolor\": \"#E5ECF6\", \"showlakes\": true, \"showland\": true, \"subunitcolor\": \"white\"}, \"hoverlabel\": {\"align\": \"left\"}, \"hovermode\": \"closest\", \"mapbox\": {\"style\": \"light\"}, \"paper_bgcolor\": \"white\", \"plot_bgcolor\": \"#E5ECF6\", \"polar\": {\"angularaxis\": {\"gridcolor\": \"white\", \"linecolor\": \"white\", \"ticks\": \"\"}, \"bgcolor\": \"#E5ECF6\", \"radialaxis\": {\"gridcolor\": \"white\", \"linecolor\": \"white\", \"ticks\": \"\"}}, \"scene\": {\"xaxis\": {\"backgroundcolor\": \"#E5ECF6\", \"gridcolor\": \"white\", \"gridwidth\": 2, \"linecolor\": \"white\", \"showbackground\": true, \"ticks\": \"\", \"zerolinecolor\": \"white\"}, \"yaxis\": {\"backgroundcolor\": \"#E5ECF6\", \"gridcolor\": \"white\", \"gridwidth\": 2, \"linecolor\": \"white\", \"showbackground\": true, \"ticks\": \"\", \"zerolinecolor\": \"white\"}, \"zaxis\": {\"backgroundcolor\": \"#E5ECF6\", \"gridcolor\": \"white\", \"gridwidth\": 2, \"linecolor\": \"white\", \"showbackground\": true, \"ticks\": \"\", \"zerolinecolor\": \"white\"}}, \"shapedefaults\": {\"line\": {\"color\": \"#2a3f5f\"}}, \"ternary\": {\"aaxis\": {\"gridcolor\": \"white\", \"linecolor\": \"white\", \"ticks\": \"\"}, \"baxis\": {\"gridcolor\": \"white\", \"linecolor\": \"white\", \"ticks\": \"\"}, \"bgcolor\": \"#E5ECF6\", \"caxis\": {\"gridcolor\": \"white\", \"linecolor\": \"white\", \"ticks\": \"\"}}, \"title\": {\"x\": 0.05}, \"xaxis\": {\"automargin\": true, \"gridcolor\": \"white\", \"linecolor\": \"white\", \"ticks\": \"\", \"title\": {\"standoff\": 15}, \"zerolinecolor\": \"white\", \"zerolinewidth\": 2}, \"yaxis\": {\"automargin\": true, \"gridcolor\": \"white\", \"linecolor\": \"white\", \"ticks\": \"\", \"title\": {\"standoff\": 15}, \"zerolinecolor\": \"white\", \"zerolinewidth\": 2}}}, \"xaxis\": {\"anchor\": \"y\", \"domain\": [0.0, 1.0], \"title\": {\"text\": \"0\"}}, \"yaxis\": {\"anchor\": \"x\", \"domain\": [0.0, 1.0], \"title\": {\"text\": \"1\"}}},\n",
       "                        {\"responsive\": true}\n",
       "                    ).then(function(){\n",
       "                            \n",
       "var gd = document.getElementById('61a9136b-284d-428a-ab29-a13bab299231');\n",
       "var x = new MutationObserver(function (mutations, observer) {{\n",
       "        var display = window.getComputedStyle(gd).display;\n",
       "        if (!display || display === 'none') {{\n",
       "            console.log([gd, 'removed!']);\n",
       "            Plotly.purge(gd);\n",
       "            observer.disconnect();\n",
       "        }}\n",
       "}});\n",
       "\n",
       "// Listen for the removal of the full notebook cells\n",
       "var notebookContainer = gd.closest('#notebook-container');\n",
       "if (notebookContainer) {{\n",
       "    x.observe(notebookContainer, {childList: true});\n",
       "}}\n",
       "\n",
       "// Listen for the clearing of the current output cell\n",
       "var outputEl = gd.closest('.output');\n",
       "if (outputEl) {{\n",
       "    x.observe(outputEl, {childList: true});\n",
       "}}\n",
       "\n",
       "                        })\n",
       "                };\n",
       "                });\n",
       "            </script>\n",
       "        </div>"
      ]
     },
     "metadata": {},
     "output_type": "display_data"
    }
   ],
   "source": [
    "X = df_small[['A', 'E', 'gsw', 'Leaf WP (MPa)', 'Osmotic potantional (MPa)',\n",
    "       'Turgor pressure', 'WUE']]\n",
    "\n",
    "pca = PCA(n_components=2)\n",
    "components = pca.fit_transform(X)\n",
    "\n",
    "fig = px.scatter(components, x=0, y=1, color=df_small['group'])\n",
    "fig.show()"
   ]
  },
  {
   "cell_type": "code",
   "execution_count": 141,
   "metadata": {},
   "outputs": [
    {
     "data": {
      "application/vnd.plotly.v1+json": {
       "config": {
        "plotlyServerURL": "https://plot.ly"
       },
       "data": [
        {
         "diagonal": {
          "visible": false
         },
         "dimensions": [
          {
           "axis": {
            "matches": true
           },
           "label": "A",
           "values": [
            7.795212152149674,
            7.577531413608726,
            6.418039530325975,
            4.413565814666191,
            6.535748196705535,
            6.800719106839056,
            5.811419727460192,
            6.774455667562503,
            6.646172934646862,
            7.336124575471819
           ]
          },
          {
           "axis": {
            "matches": true
           },
           "label": "E",
           "values": [
            0.005107079422091414,
            0.001413234754585301,
            0.002593853449859481,
            0.001967690531843474,
            0.005127587092540764,
            0.006603427367822498,
            0.00480443672561615,
            0.0005612820313111245,
            0.003525444436304839,
            0.003206649194144917
           ]
          },
          {
           "axis": {
            "matches": true
           },
           "label": "gsw",
           "values": [
            0.5509755902931277,
            0.1358530670069439,
            0.2581058819133677,
            0.1932513548190087,
            0.5808409918261526,
            0.7357900885621815,
            0.496373939366294,
            0.05404672781388564,
            0.3956986402151417,
            0.3519303862239239
           ]
          },
          {
           "axis": {
            "matches": true
           },
           "label": "Leaf WP (MPa)",
           "values": [
            -0.16,
            -0.165,
            -0.165,
            -0.16,
            -0.2,
            -0.27,
            -0.24,
            -0.18,
            -0.23,
            -0.27
           ]
          },
          {
           "axis": {
            "matches": true
           },
           "label": "Osmotic potantional (MPa)",
           "values": [
            -0.925,
            -1.035,
            -0.96,
            -0.905,
            -0.955,
            -1.0275,
            -0.8975,
            -1.05,
            -1.035,
            -0.9425
           ]
          },
          {
           "axis": {
            "matches": true
           },
           "label": "Turgor pressure",
           "values": [
            0.765,
            0.8699999999999999,
            0.7949999999999999,
            0.745,
            0.7549999999999999,
            0.7575000000000001,
            0.6575,
            0.8700000000000001,
            0.8049999999999999,
            0.6725
           ]
          },
          {
           "axis": {
            "matches": true
           },
           "label": "WUE",
           "values": [
            0.0006551559242275457,
            0.0001865033184880275,
            0.0004041504321690799,
            0.0004458278440767504,
            0.0007845447740972363,
            0.0009709895768495785,
            0.0008267234085526754,
            8.2852713022931e-05,
            0.0005304472921441007,
            0.0004371039724252069
           ]
          }
         ],
         "hovertemplate": "group=Flooding DR<br>%{xaxis.title.text}=%{x}<br>%{yaxis.title.text}=%{y}<extra></extra>",
         "legendgroup": "Flooding DR",
         "marker": {
          "color": "#636efa",
          "symbol": "circle"
         },
         "name": "Flooding DR",
         "showlegend": true,
         "type": "splom"
        },
        {
         "diagonal": {
          "visible": false
         },
         "dimensions": [
          {
           "axis": {
            "matches": true
           },
           "label": "A",
           "values": [
            7.233651493406817,
            8.874783971140987,
            8.133749562192094,
            6.725983316757748,
            5.148891181498444,
            5.991288242143065,
            6.731709621453352,
            6.486276503248807,
            6.976173531001312
           ]
          },
          {
           "axis": {
            "matches": true
           },
           "label": "E",
           "values": [
            0.002801598013153272,
            0.007929118948875527,
            0.004107516657644451,
            0.0005342026786812391,
            0.001226558216542804,
            0.001235588500457628,
            0.003792267054746881,
            0.001964519053463724,
            0.005812345543040054
           ]
          },
          {
           "axis": {
            "matches": true
           },
           "label": "gsw",
           "values": [
            0.2877872156749888,
            0.9181877991174185,
            0.4088395607488517,
            0.05172955769371703,
            0.1277916748628502,
            0.1245926500998309,
            0.4094654607206596,
            0.1884393149876536,
            0.6485004905840219
           ]
          },
          {
           "axis": {
            "matches": true
           },
           "label": "Leaf WP (MPa)",
           "values": [
            -0.16,
            -0.125,
            -0.16,
            -0.12,
            -0.185,
            -0.245,
            -0.15,
            -0.265,
            -0.2
           ]
          },
          {
           "axis": {
            "matches": true
           },
           "label": "Osmotic potantional (MPa)",
           "values": [
            -1.0925,
            -1.1525,
            -0.9975,
            -1.25,
            -1.365,
            -1.07,
            -0.9975,
            -0.98,
            -1.0275
           ]
          },
          {
           "axis": {
            "matches": true
           },
           "label": "Turgor pressure",
           "values": [
            0.9325,
            1.0275,
            0.8375,
            1.13,
            1.18,
            0.8250000000000001,
            0.8475,
            0.715,
            0.8275000000000001
           ]
          },
          {
           "axis": {
            "matches": true
           },
           "label": "WUE",
           "values": [
            0.0003873006621492362,
            0.0008934436009551813,
            0.000504996696325311,
            7.942372936761176e-05,
            0.0002382179333970403,
            0.0002062308556224065,
            0.0005633438261598907,
            0.0003028731588114918,
            0.0008331710094668173
           ]
          }
         ],
         "hovertemplate": "group=Control DR<br>%{xaxis.title.text}=%{x}<br>%{yaxis.title.text}=%{y}<extra></extra>",
         "legendgroup": "Control DR",
         "marker": {
          "color": "#EF553B",
          "symbol": "circle"
         },
         "name": "Control DR",
         "showlegend": true,
         "type": "splom"
        },
        {
         "diagonal": {
          "visible": false
         },
         "dimensions": [
          {
           "axis": {
            "matches": true
           },
           "label": "A",
           "values": [
            4.266286207857529,
            7.063264219909526,
            2.973305223927939,
            5.783319466487349,
            4.452491194210172,
            7.190966134689926,
            6.423339013739838,
            5.262289109231633,
            5.782806720863714,
            4.853873751330778
           ]
          },
          {
           "axis": {
            "matches": true
           },
           "label": "E",
           "values": [
            0.0004214646144388447,
            0.002100545612386325,
            0.0002704403034986553,
            0.002928878290549836,
            0.0003696157229893566,
            0.003226645112246869,
            0.0007608336359568471,
            0.002384365597855512,
            0.002343559680884017,
            0.0009105317560983118
           ]
          },
          {
           "axis": {
            "matches": true
           },
           "label": "gsw",
           "values": [
            0.04416617174593564,
            0.2217774194880998,
            0.02584576353018609,
            0.3060056281336316,
            0.03736637846023343,
            0.3424158135632219,
            0.07285835666737807,
            0.2412750324957061,
            0.2347959328945327,
            0.08885004761556833
           ]
          },
          {
           "axis": {
            "matches": true
           },
           "label": "Leaf WP (MPa)",
           "values": [
            -0.2,
            -0.26,
            -0.265,
            -0.205,
            -0.195,
            -0.245,
            -0.18,
            -0.25,
            -0.275,
            -0.18
           ]
          },
          {
           "axis": {
            "matches": true
           },
           "label": "Osmotic potantional (MPa)",
           "values": [
            -1.07,
            -1.1475,
            -1.73,
            -1.13,
            -0.95,
            -1.0825,
            -1.285,
            -1.0475,
            -1.12,
            -1.185
           ]
          },
          {
           "axis": {
            "matches": true
           },
           "label": "Turgor pressure",
           "values": [
            0.8700000000000001,
            0.8875,
            1.465,
            0.9249999999999999,
            0.7549999999999999,
            0.8375,
            1.105,
            0.7975000000000001,
            0.8450000000000001,
            1.005
           ]
          },
          {
           "axis": {
            "matches": true
           },
           "label": "WUE",
           "values": [
            9.878957807908028e-05,
            0.0002973902075566459,
            9.095611890843324e-05,
            0.0005064355008437338,
            8.301324064828899e-05,
            0.0004487081501720912,
            0.0001184483076993736,
            0.0004531042571706333,
            0.0004052633598195004,
            0.0001875886771568117
           ]
          }
         ],
         "hovertemplate": "group=Flooding Cycle 8<br>%{xaxis.title.text}=%{x}<br>%{yaxis.title.text}=%{y}<extra></extra>",
         "legendgroup": "Flooding Cycle 8",
         "marker": {
          "color": "#00cc96",
          "symbol": "circle"
         },
         "name": "Flooding Cycle 8",
         "showlegend": true,
         "type": "splom"
        },
        {
         "diagonal": {
          "visible": false
         },
         "dimensions": [
          {
           "axis": {
            "matches": true
           },
           "label": "A",
           "values": [
            5.107418208921234,
            4.766011543192754,
            3.001672976088936,
            5.140479047864244,
            4.662478832540896,
            3.992019920645462,
            7.657819742951014,
            6.779557828743283,
            3.944440065150274
           ]
          },
          {
           "axis": {
            "matches": true
           },
           "label": "E",
           "values": [
            0.0008127707722038456,
            0.001061346494667309,
            0.0007743363322945509,
            0.002842580371262124,
            0.002574894236697114,
            0.002770942368863418,
            0.002255867749066838,
            0.003456710364907986,
            0.0005125143085222796
           ]
          },
          {
           "axis": {
            "matches": true
           },
           "label": "gsw",
           "values": [
            0.08002869184006185,
            0.1041690928286527,
            0.07472243161338166,
            0.2981466251564386,
            0.2705378881684819,
            0.2963584736186017,
            0.2302825177787214,
            0.372487861727832,
            0.05225374540608357
           ]
          },
          {
           "axis": {
            "matches": true
           },
           "label": "Leaf WP (MPa)",
           "values": [
            -0.12,
            -0.15,
            -0.125,
            -0.11,
            -0.145,
            -0.175,
            -0.14,
            -0.3,
            -0.15
           ]
          },
          {
           "axis": {
            "matches": true
           },
           "label": "Osmotic potantional (MPa)",
           "values": [
            -1.19,
            -0.9775,
            -1.3275,
            -1.0375,
            -1.165,
            -1.255,
            -1.0525,
            -1.225,
            -1.0725
           ]
          },
          {
           "axis": {
            "matches": true
           },
           "label": "Turgor pressure",
           "values": [
            1.07,
            0.8275,
            1.2025,
            0.9275000000000001,
            1.02,
            1.08,
            0.9125,
            0.925,
            0.9225
           ]
          },
          {
           "axis": {
            "matches": true
           },
           "label": "WUE",
           "values": [
            0.0001591353476369258,
            0.0002226907100515147,
            0.000257968252525457,
            0.0005529796629446732,
            0.0005522586437768087,
            0.0006941203761366475,
            0.0002945835531246807,
            0.0005098725392167282,
            0.0001299333492351478
           ]
          }
         ],
         "hovertemplate": "group=Control Cycle 8<br>%{xaxis.title.text}=%{x}<br>%{yaxis.title.text}=%{y}<extra></extra>",
         "legendgroup": "Control Cycle 8",
         "marker": {
          "color": "#ab63fa",
          "symbol": "circle"
         },
         "name": "Control Cycle 8",
         "showlegend": true,
         "type": "splom"
        },
        {
         "diagonal": {
          "visible": false
         },
         "dimensions": [
          {
           "axis": {
            "matches": true
           },
           "label": "A",
           "values": [
            8.460321524540221,
            7.170924103528591,
            7.899725944214333,
            4.805027251457226,
            4.720378502616968,
            5.390776267613338,
            4.582237001040049,
            7.127133816780743,
            6.805566174033267,
            6.622731684423567
           ]
          },
          {
           "axis": {
            "matches": true
           },
           "label": "E",
           "values": [
            0.004603919265047048,
            0.003989062904527594,
            0.001456050529617123,
            0.002086824510908138,
            0.0003065165931874017,
            0.00221644789271023,
            0.004442576946175725,
            0.004974274086799107,
            0.0006265098880056428,
            0.002682167285253596
           ]
          },
          {
           "axis": {
            "matches": true
           },
           "label": "gsw",
           "values": [
            0.4960501243845724,
            0.4058818072741418,
            0.1550482385918577,
            0.2228514331632542,
            0.03055155519903706,
            0.231745596667249,
            0.4631619341840715,
            0.518118419669753,
            0.06327190368397441,
            0.2754779804680376
           ]
          },
          {
           "axis": {
            "matches": true
           },
           "label": "Leaf WP (MPa)",
           "values": [
            -0.16,
            -0.175,
            -0.29,
            -0.15,
            -0.125,
            -0.18,
            -0.16,
            -0.15,
            -0.125,
            -0.16
           ]
          },
          {
           "axis": {
            "matches": true
           },
           "label": "Osmotic potantional (MPa)",
           "values": [
            -1.055,
            -0.9725,
            -0.985,
            -0.885,
            -1.0175,
            -0.925,
            -1.21,
            -0.94,
            -1.01,
            -1.1825
           ]
          },
          {
           "axis": {
            "matches": true
           },
           "label": "Turgor pressure",
           "values": [
            0.8949999999999999,
            0.7975000000000001,
            0.6950000000000001,
            0.735,
            0.8925000000000001,
            0.7450000000000001,
            1.05,
            0.7899999999999999,
            0.885,
            1.0225
           ]
          },
          {
           "axis": {
            "matches": true
           },
           "label": "WUE",
           "values": [
            0.0005441778130645277,
            0.0005562829625493734,
            0.0001843165876765025,
            0.0004343002446604782,
            6.493474898622421e-05,
            0.0004111556077788254,
            0.0009695214248340657,
            0.0006979347118595197,
            9.205845215290097e-05,
            0.0004049941041038941
           ]
          }
         ],
         "hovertemplate": "group=Flooding Cycle 0<br>%{xaxis.title.text}=%{x}<br>%{yaxis.title.text}=%{y}<extra></extra>",
         "legendgroup": "Flooding Cycle 0",
         "marker": {
          "color": "#FFA15A",
          "symbol": "circle"
         },
         "name": "Flooding Cycle 0",
         "showlegend": true,
         "type": "splom"
        },
        {
         "diagonal": {
          "visible": false
         },
         "dimensions": [
          {
           "axis": {
            "matches": true
           },
           "label": "A",
           "values": [
            6.613815023891427,
            6.330792909113732,
            8.633628016393699,
            8.242886645882242,
            4.896695857158546,
            5.222825744359895,
            7.385987754417227,
            5.646339742992645,
            6.568508060327369
           ]
          },
          {
           "axis": {
            "matches": true
           },
           "label": "E",
           "values": [
            0.004741438713255158,
            0.004839621259979641,
            0.004653934834201206,
            0.002941990400697759,
            0.001118949900809124,
            0.002009650704408562,
            0.002855875298931834,
            0.0009013698939834329,
            0.004692786685977685
           ]
          },
          {
           "axis": {
            "matches": true
           },
           "label": "gsw",
           "values": [
            0.5120547204985658,
            0.5080197442497391,
            0.455877622202829,
            0.2896357023761211,
            0.1043429132295473,
            0.1955399204150293,
            0.3080313604496819,
            0.09233977468799956,
            0.5246429738206467
           ]
          },
          {
           "axis": {
            "matches": true
           },
           "label": "Leaf WP (MPa)",
           "values": [
            -0.145,
            -0.145,
            -0.145,
            -0.135,
            -0.125,
            -0.125,
            -0.12,
            -0.12,
            -0.11
           ]
          },
          {
           "axis": {
            "matches": true
           },
           "label": "Osmotic potantional (MPa)",
           "values": [
            -0.9725,
            -1.1575,
            -0.9825,
            -1.0025,
            -0.8325,
            -1.2275,
            -0.9725,
            -1.06,
            -0.9575
           ]
          },
          {
           "axis": {
            "matches": true
           },
           "label": "Turgor pressure",
           "values": [
            0.8275,
            1.0125,
            0.8375,
            0.8674999999999999,
            0.7075,
            1.1025,
            0.8525,
            0.9400000000000001,
            0.8475
           ]
          },
          {
           "axis": {
            "matches": true
           },
           "label": "WUE",
           "values": [
            0.0007168992020683089,
            0.000764457364102462,
            0.000539047411512776,
            0.0003569126359595688,
            0.0002285112111207226,
            0.000384782262088444,
            0.0003866612555949425,
            0.0001596379132343342,
            0.0007144372272786403
           ]
          }
         ],
         "hovertemplate": "group=Control Cycle 0<br>%{xaxis.title.text}=%{x}<br>%{yaxis.title.text}=%{y}<extra></extra>",
         "legendgroup": "Control Cycle 0",
         "marker": {
          "color": "#19d3f3",
          "symbol": "circle"
         },
         "name": "Control Cycle 0",
         "showlegend": true,
         "type": "splom"
        }
       ],
       "layout": {
        "dragmode": "select",
        "legend": {
         "title": {
          "text": "group"
         },
         "tracegroupgap": 0
        },
        "margin": {
         "t": 60
        },
        "template": {
         "data": {
          "bar": [
           {
            "error_x": {
             "color": "#2a3f5f"
            },
            "error_y": {
             "color": "#2a3f5f"
            },
            "marker": {
             "line": {
              "color": "#E5ECF6",
              "width": 0.5
             }
            },
            "type": "bar"
           }
          ],
          "barpolar": [
           {
            "marker": {
             "line": {
              "color": "#E5ECF6",
              "width": 0.5
             }
            },
            "type": "barpolar"
           }
          ],
          "carpet": [
           {
            "aaxis": {
             "endlinecolor": "#2a3f5f",
             "gridcolor": "white",
             "linecolor": "white",
             "minorgridcolor": "white",
             "startlinecolor": "#2a3f5f"
            },
            "baxis": {
             "endlinecolor": "#2a3f5f",
             "gridcolor": "white",
             "linecolor": "white",
             "minorgridcolor": "white",
             "startlinecolor": "#2a3f5f"
            },
            "type": "carpet"
           }
          ],
          "choropleth": [
           {
            "colorbar": {
             "outlinewidth": 0,
             "ticks": ""
            },
            "type": "choropleth"
           }
          ],
          "contour": [
           {
            "colorbar": {
             "outlinewidth": 0,
             "ticks": ""
            },
            "colorscale": [
             [
              0,
              "#0d0887"
             ],
             [
              0.1111111111111111,
              "#46039f"
             ],
             [
              0.2222222222222222,
              "#7201a8"
             ],
             [
              0.3333333333333333,
              "#9c179e"
             ],
             [
              0.4444444444444444,
              "#bd3786"
             ],
             [
              0.5555555555555556,
              "#d8576b"
             ],
             [
              0.6666666666666666,
              "#ed7953"
             ],
             [
              0.7777777777777778,
              "#fb9f3a"
             ],
             [
              0.8888888888888888,
              "#fdca26"
             ],
             [
              1,
              "#f0f921"
             ]
            ],
            "type": "contour"
           }
          ],
          "contourcarpet": [
           {
            "colorbar": {
             "outlinewidth": 0,
             "ticks": ""
            },
            "type": "contourcarpet"
           }
          ],
          "heatmap": [
           {
            "colorbar": {
             "outlinewidth": 0,
             "ticks": ""
            },
            "colorscale": [
             [
              0,
              "#0d0887"
             ],
             [
              0.1111111111111111,
              "#46039f"
             ],
             [
              0.2222222222222222,
              "#7201a8"
             ],
             [
              0.3333333333333333,
              "#9c179e"
             ],
             [
              0.4444444444444444,
              "#bd3786"
             ],
             [
              0.5555555555555556,
              "#d8576b"
             ],
             [
              0.6666666666666666,
              "#ed7953"
             ],
             [
              0.7777777777777778,
              "#fb9f3a"
             ],
             [
              0.8888888888888888,
              "#fdca26"
             ],
             [
              1,
              "#f0f921"
             ]
            ],
            "type": "heatmap"
           }
          ],
          "heatmapgl": [
           {
            "colorbar": {
             "outlinewidth": 0,
             "ticks": ""
            },
            "colorscale": [
             [
              0,
              "#0d0887"
             ],
             [
              0.1111111111111111,
              "#46039f"
             ],
             [
              0.2222222222222222,
              "#7201a8"
             ],
             [
              0.3333333333333333,
              "#9c179e"
             ],
             [
              0.4444444444444444,
              "#bd3786"
             ],
             [
              0.5555555555555556,
              "#d8576b"
             ],
             [
              0.6666666666666666,
              "#ed7953"
             ],
             [
              0.7777777777777778,
              "#fb9f3a"
             ],
             [
              0.8888888888888888,
              "#fdca26"
             ],
             [
              1,
              "#f0f921"
             ]
            ],
            "type": "heatmapgl"
           }
          ],
          "histogram": [
           {
            "marker": {
             "colorbar": {
              "outlinewidth": 0,
              "ticks": ""
             }
            },
            "type": "histogram"
           }
          ],
          "histogram2d": [
           {
            "colorbar": {
             "outlinewidth": 0,
             "ticks": ""
            },
            "colorscale": [
             [
              0,
              "#0d0887"
             ],
             [
              0.1111111111111111,
              "#46039f"
             ],
             [
              0.2222222222222222,
              "#7201a8"
             ],
             [
              0.3333333333333333,
              "#9c179e"
             ],
             [
              0.4444444444444444,
              "#bd3786"
             ],
             [
              0.5555555555555556,
              "#d8576b"
             ],
             [
              0.6666666666666666,
              "#ed7953"
             ],
             [
              0.7777777777777778,
              "#fb9f3a"
             ],
             [
              0.8888888888888888,
              "#fdca26"
             ],
             [
              1,
              "#f0f921"
             ]
            ],
            "type": "histogram2d"
           }
          ],
          "histogram2dcontour": [
           {
            "colorbar": {
             "outlinewidth": 0,
             "ticks": ""
            },
            "colorscale": [
             [
              0,
              "#0d0887"
             ],
             [
              0.1111111111111111,
              "#46039f"
             ],
             [
              0.2222222222222222,
              "#7201a8"
             ],
             [
              0.3333333333333333,
              "#9c179e"
             ],
             [
              0.4444444444444444,
              "#bd3786"
             ],
             [
              0.5555555555555556,
              "#d8576b"
             ],
             [
              0.6666666666666666,
              "#ed7953"
             ],
             [
              0.7777777777777778,
              "#fb9f3a"
             ],
             [
              0.8888888888888888,
              "#fdca26"
             ],
             [
              1,
              "#f0f921"
             ]
            ],
            "type": "histogram2dcontour"
           }
          ],
          "mesh3d": [
           {
            "colorbar": {
             "outlinewidth": 0,
             "ticks": ""
            },
            "type": "mesh3d"
           }
          ],
          "parcoords": [
           {
            "line": {
             "colorbar": {
              "outlinewidth": 0,
              "ticks": ""
             }
            },
            "type": "parcoords"
           }
          ],
          "pie": [
           {
            "automargin": true,
            "type": "pie"
           }
          ],
          "scatter": [
           {
            "marker": {
             "colorbar": {
              "outlinewidth": 0,
              "ticks": ""
             }
            },
            "type": "scatter"
           }
          ],
          "scatter3d": [
           {
            "line": {
             "colorbar": {
              "outlinewidth": 0,
              "ticks": ""
             }
            },
            "marker": {
             "colorbar": {
              "outlinewidth": 0,
              "ticks": ""
             }
            },
            "type": "scatter3d"
           }
          ],
          "scattercarpet": [
           {
            "marker": {
             "colorbar": {
              "outlinewidth": 0,
              "ticks": ""
             }
            },
            "type": "scattercarpet"
           }
          ],
          "scattergeo": [
           {
            "marker": {
             "colorbar": {
              "outlinewidth": 0,
              "ticks": ""
             }
            },
            "type": "scattergeo"
           }
          ],
          "scattergl": [
           {
            "marker": {
             "colorbar": {
              "outlinewidth": 0,
              "ticks": ""
             }
            },
            "type": "scattergl"
           }
          ],
          "scattermapbox": [
           {
            "marker": {
             "colorbar": {
              "outlinewidth": 0,
              "ticks": ""
             }
            },
            "type": "scattermapbox"
           }
          ],
          "scatterpolar": [
           {
            "marker": {
             "colorbar": {
              "outlinewidth": 0,
              "ticks": ""
             }
            },
            "type": "scatterpolar"
           }
          ],
          "scatterpolargl": [
           {
            "marker": {
             "colorbar": {
              "outlinewidth": 0,
              "ticks": ""
             }
            },
            "type": "scatterpolargl"
           }
          ],
          "scatterternary": [
           {
            "marker": {
             "colorbar": {
              "outlinewidth": 0,
              "ticks": ""
             }
            },
            "type": "scatterternary"
           }
          ],
          "surface": [
           {
            "colorbar": {
             "outlinewidth": 0,
             "ticks": ""
            },
            "colorscale": [
             [
              0,
              "#0d0887"
             ],
             [
              0.1111111111111111,
              "#46039f"
             ],
             [
              0.2222222222222222,
              "#7201a8"
             ],
             [
              0.3333333333333333,
              "#9c179e"
             ],
             [
              0.4444444444444444,
              "#bd3786"
             ],
             [
              0.5555555555555556,
              "#d8576b"
             ],
             [
              0.6666666666666666,
              "#ed7953"
             ],
             [
              0.7777777777777778,
              "#fb9f3a"
             ],
             [
              0.8888888888888888,
              "#fdca26"
             ],
             [
              1,
              "#f0f921"
             ]
            ],
            "type": "surface"
           }
          ],
          "table": [
           {
            "cells": {
             "fill": {
              "color": "#EBF0F8"
             },
             "line": {
              "color": "white"
             }
            },
            "header": {
             "fill": {
              "color": "#C8D4E3"
             },
             "line": {
              "color": "white"
             }
            },
            "type": "table"
           }
          ]
         },
         "layout": {
          "annotationdefaults": {
           "arrowcolor": "#2a3f5f",
           "arrowhead": 0,
           "arrowwidth": 1
          },
          "coloraxis": {
           "colorbar": {
            "outlinewidth": 0,
            "ticks": ""
           }
          },
          "colorscale": {
           "diverging": [
            [
             0,
             "#8e0152"
            ],
            [
             0.1,
             "#c51b7d"
            ],
            [
             0.2,
             "#de77ae"
            ],
            [
             0.3,
             "#f1b6da"
            ],
            [
             0.4,
             "#fde0ef"
            ],
            [
             0.5,
             "#f7f7f7"
            ],
            [
             0.6,
             "#e6f5d0"
            ],
            [
             0.7,
             "#b8e186"
            ],
            [
             0.8,
             "#7fbc41"
            ],
            [
             0.9,
             "#4d9221"
            ],
            [
             1,
             "#276419"
            ]
           ],
           "sequential": [
            [
             0,
             "#0d0887"
            ],
            [
             0.1111111111111111,
             "#46039f"
            ],
            [
             0.2222222222222222,
             "#7201a8"
            ],
            [
             0.3333333333333333,
             "#9c179e"
            ],
            [
             0.4444444444444444,
             "#bd3786"
            ],
            [
             0.5555555555555556,
             "#d8576b"
            ],
            [
             0.6666666666666666,
             "#ed7953"
            ],
            [
             0.7777777777777778,
             "#fb9f3a"
            ],
            [
             0.8888888888888888,
             "#fdca26"
            ],
            [
             1,
             "#f0f921"
            ]
           ],
           "sequentialminus": [
            [
             0,
             "#0d0887"
            ],
            [
             0.1111111111111111,
             "#46039f"
            ],
            [
             0.2222222222222222,
             "#7201a8"
            ],
            [
             0.3333333333333333,
             "#9c179e"
            ],
            [
             0.4444444444444444,
             "#bd3786"
            ],
            [
             0.5555555555555556,
             "#d8576b"
            ],
            [
             0.6666666666666666,
             "#ed7953"
            ],
            [
             0.7777777777777778,
             "#fb9f3a"
            ],
            [
             0.8888888888888888,
             "#fdca26"
            ],
            [
             1,
             "#f0f921"
            ]
           ]
          },
          "colorway": [
           "#636efa",
           "#EF553B",
           "#00cc96",
           "#ab63fa",
           "#FFA15A",
           "#19d3f3",
           "#FF6692",
           "#B6E880",
           "#FF97FF",
           "#FECB52"
          ],
          "font": {
           "color": "#2a3f5f"
          },
          "geo": {
           "bgcolor": "white",
           "lakecolor": "white",
           "landcolor": "#E5ECF6",
           "showlakes": true,
           "showland": true,
           "subunitcolor": "white"
          },
          "hoverlabel": {
           "align": "left"
          },
          "hovermode": "closest",
          "mapbox": {
           "style": "light"
          },
          "paper_bgcolor": "white",
          "plot_bgcolor": "#E5ECF6",
          "polar": {
           "angularaxis": {
            "gridcolor": "white",
            "linecolor": "white",
            "ticks": ""
           },
           "bgcolor": "#E5ECF6",
           "radialaxis": {
            "gridcolor": "white",
            "linecolor": "white",
            "ticks": ""
           }
          },
          "scene": {
           "xaxis": {
            "backgroundcolor": "#E5ECF6",
            "gridcolor": "white",
            "gridwidth": 2,
            "linecolor": "white",
            "showbackground": true,
            "ticks": "",
            "zerolinecolor": "white"
           },
           "yaxis": {
            "backgroundcolor": "#E5ECF6",
            "gridcolor": "white",
            "gridwidth": 2,
            "linecolor": "white",
            "showbackground": true,
            "ticks": "",
            "zerolinecolor": "white"
           },
           "zaxis": {
            "backgroundcolor": "#E5ECF6",
            "gridcolor": "white",
            "gridwidth": 2,
            "linecolor": "white",
            "showbackground": true,
            "ticks": "",
            "zerolinecolor": "white"
           }
          },
          "shapedefaults": {
           "line": {
            "color": "#2a3f5f"
           }
          },
          "ternary": {
           "aaxis": {
            "gridcolor": "white",
            "linecolor": "white",
            "ticks": ""
           },
           "baxis": {
            "gridcolor": "white",
            "linecolor": "white",
            "ticks": ""
           },
           "bgcolor": "#E5ECF6",
           "caxis": {
            "gridcolor": "white",
            "linecolor": "white",
            "ticks": ""
           }
          },
          "title": {
           "x": 0.05
          },
          "xaxis": {
           "automargin": true,
           "gridcolor": "white",
           "linecolor": "white",
           "ticks": "",
           "title": {
            "standoff": 15
           },
           "zerolinecolor": "white",
           "zerolinewidth": 2
          },
          "yaxis": {
           "automargin": true,
           "gridcolor": "white",
           "linecolor": "white",
           "ticks": "",
           "title": {
            "standoff": 15
           },
           "zerolinecolor": "white",
           "zerolinewidth": 2
          }
         }
        }
       }
      },
      "text/html": [
       "<div>\n",
       "        \n",
       "        \n",
       "            <div id=\"ae8159cf-f9d6-4908-af39-41bddd2c8048\" class=\"plotly-graph-div\" style=\"height:525px; width:100%;\"></div>\n",
       "            <script type=\"text/javascript\">\n",
       "                require([\"plotly\"], function(Plotly) {\n",
       "                    window.PLOTLYENV=window.PLOTLYENV || {};\n",
       "                    \n",
       "                if (document.getElementById(\"ae8159cf-f9d6-4908-af39-41bddd2c8048\")) {\n",
       "                    Plotly.newPlot(\n",
       "                        'ae8159cf-f9d6-4908-af39-41bddd2c8048',\n",
       "                        [{\"diagonal\": {\"visible\": false}, \"dimensions\": [{\"axis\": {\"matches\": true}, \"label\": \"A\", \"values\": [7.795212152149674, 7.577531413608726, 6.418039530325975, 4.413565814666191, 6.535748196705535, 6.800719106839056, 5.811419727460192, 6.774455667562503, 6.646172934646862, 7.336124575471819]}, {\"axis\": {\"matches\": true}, \"label\": \"E\", \"values\": [0.005107079422091414, 0.001413234754585301, 0.002593853449859481, 0.001967690531843474, 0.005127587092540764, 0.006603427367822498, 0.00480443672561615, 0.0005612820313111245, 0.003525444436304839, 0.003206649194144917]}, {\"axis\": {\"matches\": true}, \"label\": \"gsw\", \"values\": [0.5509755902931277, 0.1358530670069439, 0.2581058819133677, 0.1932513548190087, 0.5808409918261526, 0.7357900885621815, 0.496373939366294, 0.05404672781388564, 0.3956986402151417, 0.3519303862239239]}, {\"axis\": {\"matches\": true}, \"label\": \"Leaf WP (MPa)\", \"values\": [-0.16, -0.165, -0.165, -0.16, -0.2, -0.27, -0.24, -0.18, -0.23, -0.27]}, {\"axis\": {\"matches\": true}, \"label\": \"Osmotic potantional (MPa)\", \"values\": [-0.925, -1.035, -0.96, -0.905, -0.955, -1.0275, -0.8975, -1.05, -1.035, -0.9425]}, {\"axis\": {\"matches\": true}, \"label\": \"Turgor pressure\", \"values\": [0.765, 0.8699999999999999, 0.7949999999999999, 0.745, 0.7549999999999999, 0.7575000000000001, 0.6575, 0.8700000000000001, 0.8049999999999999, 0.6725]}, {\"axis\": {\"matches\": true}, \"label\": \"WUE\", \"values\": [0.0006551559242275457, 0.0001865033184880275, 0.0004041504321690799, 0.0004458278440767504, 0.0007845447740972363, 0.0009709895768495785, 0.0008267234085526754, 8.2852713022931e-05, 0.0005304472921441007, 0.0004371039724252069]}], \"hovertemplate\": \"group=Flooding DR<br>%{xaxis.title.text}=%{x}<br>%{yaxis.title.text}=%{y}<extra></extra>\", \"legendgroup\": \"Flooding DR\", \"marker\": {\"color\": \"#636efa\", \"symbol\": \"circle\"}, \"name\": \"Flooding DR\", \"showlegend\": true, \"type\": \"splom\"}, {\"diagonal\": {\"visible\": false}, \"dimensions\": [{\"axis\": {\"matches\": true}, \"label\": \"A\", \"values\": [7.233651493406817, 8.874783971140987, 8.133749562192094, 6.725983316757748, 5.148891181498444, 5.991288242143065, 6.731709621453352, 6.486276503248807, 6.976173531001312]}, {\"axis\": {\"matches\": true}, \"label\": \"E\", \"values\": [0.002801598013153272, 0.007929118948875527, 0.004107516657644451, 0.0005342026786812391, 0.001226558216542804, 0.001235588500457628, 0.003792267054746881, 0.001964519053463724, 0.005812345543040054]}, {\"axis\": {\"matches\": true}, \"label\": \"gsw\", \"values\": [0.2877872156749888, 0.9181877991174185, 0.4088395607488517, 0.05172955769371703, 0.1277916748628502, 0.1245926500998309, 0.4094654607206596, 0.1884393149876536, 0.6485004905840219]}, {\"axis\": {\"matches\": true}, \"label\": \"Leaf WP (MPa)\", \"values\": [-0.16, -0.125, -0.16, -0.12, -0.185, -0.245, -0.15, -0.265, -0.2]}, {\"axis\": {\"matches\": true}, \"label\": \"Osmotic potantional (MPa)\", \"values\": [-1.0925, -1.1525, -0.9975, -1.25, -1.365, -1.07, -0.9975, -0.98, -1.0275]}, {\"axis\": {\"matches\": true}, \"label\": \"Turgor pressure\", \"values\": [0.9325, 1.0275, 0.8375, 1.13, 1.18, 0.8250000000000001, 0.8475, 0.715, 0.8275000000000001]}, {\"axis\": {\"matches\": true}, \"label\": \"WUE\", \"values\": [0.0003873006621492362, 0.0008934436009551813, 0.000504996696325311, 7.942372936761176e-05, 0.0002382179333970403, 0.0002062308556224065, 0.0005633438261598907, 0.0003028731588114918, 0.0008331710094668173]}], \"hovertemplate\": \"group=Control DR<br>%{xaxis.title.text}=%{x}<br>%{yaxis.title.text}=%{y}<extra></extra>\", \"legendgroup\": \"Control DR\", \"marker\": {\"color\": \"#EF553B\", \"symbol\": \"circle\"}, \"name\": \"Control DR\", \"showlegend\": true, \"type\": \"splom\"}, {\"diagonal\": {\"visible\": false}, \"dimensions\": [{\"axis\": {\"matches\": true}, \"label\": \"A\", \"values\": [4.266286207857529, 7.063264219909526, 2.973305223927939, 5.783319466487349, 4.452491194210172, 7.190966134689926, 6.423339013739838, 5.262289109231633, 5.782806720863714, 4.853873751330778]}, {\"axis\": {\"matches\": true}, \"label\": \"E\", \"values\": [0.0004214646144388447, 0.002100545612386325, 0.0002704403034986553, 0.002928878290549836, 0.0003696157229893566, 0.003226645112246869, 0.0007608336359568471, 0.002384365597855512, 0.002343559680884017, 0.0009105317560983118]}, {\"axis\": {\"matches\": true}, \"label\": \"gsw\", \"values\": [0.04416617174593564, 0.2217774194880998, 0.02584576353018609, 0.3060056281336316, 0.03736637846023343, 0.3424158135632219, 0.07285835666737807, 0.2412750324957061, 0.2347959328945327, 0.08885004761556833]}, {\"axis\": {\"matches\": true}, \"label\": \"Leaf WP (MPa)\", \"values\": [-0.2, -0.26, -0.265, -0.205, -0.195, -0.245, -0.18, -0.25, -0.275, -0.18]}, {\"axis\": {\"matches\": true}, \"label\": \"Osmotic potantional (MPa)\", \"values\": [-1.07, -1.1475, -1.73, -1.13, -0.95, -1.0825, -1.285, -1.0475, -1.12, -1.185]}, {\"axis\": {\"matches\": true}, \"label\": \"Turgor pressure\", \"values\": [0.8700000000000001, 0.8875, 1.465, 0.9249999999999999, 0.7549999999999999, 0.8375, 1.105, 0.7975000000000001, 0.8450000000000001, 1.005]}, {\"axis\": {\"matches\": true}, \"label\": \"WUE\", \"values\": [9.878957807908028e-05, 0.0002973902075566459, 9.095611890843324e-05, 0.0005064355008437338, 8.301324064828899e-05, 0.0004487081501720912, 0.0001184483076993736, 0.0004531042571706333, 0.0004052633598195004, 0.0001875886771568117]}], \"hovertemplate\": \"group=Flooding Cycle 8<br>%{xaxis.title.text}=%{x}<br>%{yaxis.title.text}=%{y}<extra></extra>\", \"legendgroup\": \"Flooding Cycle 8\", \"marker\": {\"color\": \"#00cc96\", \"symbol\": \"circle\"}, \"name\": \"Flooding Cycle 8\", \"showlegend\": true, \"type\": \"splom\"}, {\"diagonal\": {\"visible\": false}, \"dimensions\": [{\"axis\": {\"matches\": true}, \"label\": \"A\", \"values\": [5.107418208921234, 4.766011543192754, 3.001672976088936, 5.140479047864244, 4.662478832540896, 3.992019920645462, 7.657819742951014, 6.779557828743283, 3.944440065150274]}, {\"axis\": {\"matches\": true}, \"label\": \"E\", \"values\": [0.0008127707722038456, 0.001061346494667309, 0.0007743363322945509, 0.002842580371262124, 0.002574894236697114, 0.002770942368863418, 0.002255867749066838, 0.003456710364907986, 0.0005125143085222796]}, {\"axis\": {\"matches\": true}, \"label\": \"gsw\", \"values\": [0.08002869184006185, 0.1041690928286527, 0.07472243161338166, 0.2981466251564386, 0.2705378881684819, 0.2963584736186017, 0.2302825177787214, 0.372487861727832, 0.05225374540608357]}, {\"axis\": {\"matches\": true}, \"label\": \"Leaf WP (MPa)\", \"values\": [-0.12, -0.15, -0.125, -0.11, -0.145, -0.175, -0.14, -0.3, -0.15]}, {\"axis\": {\"matches\": true}, \"label\": \"Osmotic potantional (MPa)\", \"values\": [-1.19, -0.9775, -1.3275, -1.0375, -1.165, -1.255, -1.0525, -1.225, -1.0725]}, {\"axis\": {\"matches\": true}, \"label\": \"Turgor pressure\", \"values\": [1.07, 0.8275, 1.2025, 0.9275000000000001, 1.02, 1.08, 0.9125, 0.925, 0.9225]}, {\"axis\": {\"matches\": true}, \"label\": \"WUE\", \"values\": [0.0001591353476369258, 0.0002226907100515147, 0.000257968252525457, 0.0005529796629446732, 0.0005522586437768087, 0.0006941203761366475, 0.0002945835531246807, 0.0005098725392167282, 0.0001299333492351478]}], \"hovertemplate\": \"group=Control Cycle 8<br>%{xaxis.title.text}=%{x}<br>%{yaxis.title.text}=%{y}<extra></extra>\", \"legendgroup\": \"Control Cycle 8\", \"marker\": {\"color\": \"#ab63fa\", \"symbol\": \"circle\"}, \"name\": \"Control Cycle 8\", \"showlegend\": true, \"type\": \"splom\"}, {\"diagonal\": {\"visible\": false}, \"dimensions\": [{\"axis\": {\"matches\": true}, \"label\": \"A\", \"values\": [8.460321524540221, 7.170924103528591, 7.899725944214333, 4.805027251457226, 4.720378502616968, 5.390776267613338, 4.582237001040049, 7.127133816780743, 6.805566174033267, 6.622731684423567]}, {\"axis\": {\"matches\": true}, \"label\": \"E\", \"values\": [0.004603919265047048, 0.003989062904527594, 0.001456050529617123, 0.002086824510908138, 0.0003065165931874017, 0.00221644789271023, 0.004442576946175725, 0.004974274086799107, 0.0006265098880056428, 0.002682167285253596]}, {\"axis\": {\"matches\": true}, \"label\": \"gsw\", \"values\": [0.4960501243845724, 0.4058818072741418, 0.1550482385918577, 0.2228514331632542, 0.03055155519903706, 0.231745596667249, 0.4631619341840715, 0.518118419669753, 0.06327190368397441, 0.2754779804680376]}, {\"axis\": {\"matches\": true}, \"label\": \"Leaf WP (MPa)\", \"values\": [-0.16, -0.175, -0.29, -0.15, -0.125, -0.18, -0.16, -0.15, -0.125, -0.16]}, {\"axis\": {\"matches\": true}, \"label\": \"Osmotic potantional (MPa)\", \"values\": [-1.055, -0.9725, -0.985, -0.885, -1.0175, -0.925, -1.21, -0.94, -1.01, -1.1825]}, {\"axis\": {\"matches\": true}, \"label\": \"Turgor pressure\", \"values\": [0.8949999999999999, 0.7975000000000001, 0.6950000000000001, 0.735, 0.8925000000000001, 0.7450000000000001, 1.05, 0.7899999999999999, 0.885, 1.0225]}, {\"axis\": {\"matches\": true}, \"label\": \"WUE\", \"values\": [0.0005441778130645277, 0.0005562829625493734, 0.0001843165876765025, 0.0004343002446604782, 6.493474898622421e-05, 0.0004111556077788254, 0.0009695214248340657, 0.0006979347118595197, 9.205845215290097e-05, 0.0004049941041038941]}], \"hovertemplate\": \"group=Flooding Cycle 0<br>%{xaxis.title.text}=%{x}<br>%{yaxis.title.text}=%{y}<extra></extra>\", \"legendgroup\": \"Flooding Cycle 0\", \"marker\": {\"color\": \"#FFA15A\", \"symbol\": \"circle\"}, \"name\": \"Flooding Cycle 0\", \"showlegend\": true, \"type\": \"splom\"}, {\"diagonal\": {\"visible\": false}, \"dimensions\": [{\"axis\": {\"matches\": true}, \"label\": \"A\", \"values\": [6.613815023891427, 6.330792909113732, 8.633628016393699, 8.242886645882242, 4.896695857158546, 5.222825744359895, 7.385987754417227, 5.646339742992645, 6.568508060327369]}, {\"axis\": {\"matches\": true}, \"label\": \"E\", \"values\": [0.004741438713255158, 0.004839621259979641, 0.004653934834201206, 0.002941990400697759, 0.001118949900809124, 0.002009650704408562, 0.002855875298931834, 0.0009013698939834329, 0.004692786685977685]}, {\"axis\": {\"matches\": true}, \"label\": \"gsw\", \"values\": [0.5120547204985658, 0.5080197442497391, 0.455877622202829, 0.2896357023761211, 0.1043429132295473, 0.1955399204150293, 0.3080313604496819, 0.09233977468799956, 0.5246429738206467]}, {\"axis\": {\"matches\": true}, \"label\": \"Leaf WP (MPa)\", \"values\": [-0.145, -0.145, -0.145, -0.135, -0.125, -0.125, -0.12, -0.12, -0.11]}, {\"axis\": {\"matches\": true}, \"label\": \"Osmotic potantional (MPa)\", \"values\": [-0.9725, -1.1575, -0.9825, -1.0025, -0.8325, -1.2275, -0.9725, -1.06, -0.9575]}, {\"axis\": {\"matches\": true}, \"label\": \"Turgor pressure\", \"values\": [0.8275, 1.0125, 0.8375, 0.8674999999999999, 0.7075, 1.1025, 0.8525, 0.9400000000000001, 0.8475]}, {\"axis\": {\"matches\": true}, \"label\": \"WUE\", \"values\": [0.0007168992020683089, 0.000764457364102462, 0.000539047411512776, 0.0003569126359595688, 0.0002285112111207226, 0.000384782262088444, 0.0003866612555949425, 0.0001596379132343342, 0.0007144372272786403]}], \"hovertemplate\": \"group=Control Cycle 0<br>%{xaxis.title.text}=%{x}<br>%{yaxis.title.text}=%{y}<extra></extra>\", \"legendgroup\": \"Control Cycle 0\", \"marker\": {\"color\": \"#19d3f3\", \"symbol\": \"circle\"}, \"name\": \"Control Cycle 0\", \"showlegend\": true, \"type\": \"splom\"}],\n",
       "                        {\"dragmode\": \"select\", \"legend\": {\"title\": {\"text\": \"group\"}, \"tracegroupgap\": 0}, \"margin\": {\"t\": 60}, \"template\": {\"data\": {\"bar\": [{\"error_x\": {\"color\": \"#2a3f5f\"}, \"error_y\": {\"color\": \"#2a3f5f\"}, \"marker\": {\"line\": {\"color\": \"#E5ECF6\", \"width\": 0.5}}, \"type\": \"bar\"}], \"barpolar\": [{\"marker\": {\"line\": {\"color\": \"#E5ECF6\", \"width\": 0.5}}, \"type\": \"barpolar\"}], \"carpet\": [{\"aaxis\": {\"endlinecolor\": \"#2a3f5f\", \"gridcolor\": \"white\", \"linecolor\": \"white\", \"minorgridcolor\": \"white\", \"startlinecolor\": \"#2a3f5f\"}, \"baxis\": {\"endlinecolor\": \"#2a3f5f\", \"gridcolor\": \"white\", \"linecolor\": \"white\", \"minorgridcolor\": \"white\", \"startlinecolor\": \"#2a3f5f\"}, \"type\": \"carpet\"}], \"choropleth\": [{\"colorbar\": {\"outlinewidth\": 0, \"ticks\": \"\"}, \"type\": \"choropleth\"}], \"contour\": [{\"colorbar\": {\"outlinewidth\": 0, \"ticks\": \"\"}, \"colorscale\": [[0.0, \"#0d0887\"], [0.1111111111111111, \"#46039f\"], [0.2222222222222222, \"#7201a8\"], [0.3333333333333333, \"#9c179e\"], [0.4444444444444444, \"#bd3786\"], [0.5555555555555556, \"#d8576b\"], [0.6666666666666666, \"#ed7953\"], [0.7777777777777778, \"#fb9f3a\"], [0.8888888888888888, \"#fdca26\"], [1.0, \"#f0f921\"]], \"type\": \"contour\"}], \"contourcarpet\": [{\"colorbar\": {\"outlinewidth\": 0, \"ticks\": \"\"}, \"type\": \"contourcarpet\"}], \"heatmap\": [{\"colorbar\": {\"outlinewidth\": 0, \"ticks\": \"\"}, \"colorscale\": [[0.0, \"#0d0887\"], [0.1111111111111111, \"#46039f\"], [0.2222222222222222, \"#7201a8\"], [0.3333333333333333, \"#9c179e\"], [0.4444444444444444, \"#bd3786\"], [0.5555555555555556, \"#d8576b\"], [0.6666666666666666, \"#ed7953\"], [0.7777777777777778, \"#fb9f3a\"], [0.8888888888888888, \"#fdca26\"], [1.0, \"#f0f921\"]], \"type\": \"heatmap\"}], \"heatmapgl\": [{\"colorbar\": {\"outlinewidth\": 0, \"ticks\": \"\"}, \"colorscale\": [[0.0, \"#0d0887\"], [0.1111111111111111, \"#46039f\"], [0.2222222222222222, \"#7201a8\"], [0.3333333333333333, \"#9c179e\"], [0.4444444444444444, \"#bd3786\"], [0.5555555555555556, \"#d8576b\"], [0.6666666666666666, \"#ed7953\"], [0.7777777777777778, \"#fb9f3a\"], [0.8888888888888888, \"#fdca26\"], [1.0, \"#f0f921\"]], \"type\": \"heatmapgl\"}], \"histogram\": [{\"marker\": {\"colorbar\": {\"outlinewidth\": 0, \"ticks\": \"\"}}, \"type\": \"histogram\"}], \"histogram2d\": [{\"colorbar\": {\"outlinewidth\": 0, \"ticks\": \"\"}, \"colorscale\": [[0.0, \"#0d0887\"], [0.1111111111111111, \"#46039f\"], [0.2222222222222222, \"#7201a8\"], [0.3333333333333333, \"#9c179e\"], [0.4444444444444444, \"#bd3786\"], [0.5555555555555556, \"#d8576b\"], [0.6666666666666666, \"#ed7953\"], [0.7777777777777778, \"#fb9f3a\"], [0.8888888888888888, \"#fdca26\"], [1.0, \"#f0f921\"]], \"type\": \"histogram2d\"}], \"histogram2dcontour\": [{\"colorbar\": {\"outlinewidth\": 0, \"ticks\": \"\"}, \"colorscale\": [[0.0, \"#0d0887\"], [0.1111111111111111, \"#46039f\"], [0.2222222222222222, \"#7201a8\"], [0.3333333333333333, \"#9c179e\"], [0.4444444444444444, \"#bd3786\"], [0.5555555555555556, \"#d8576b\"], [0.6666666666666666, \"#ed7953\"], [0.7777777777777778, \"#fb9f3a\"], [0.8888888888888888, \"#fdca26\"], [1.0, \"#f0f921\"]], \"type\": \"histogram2dcontour\"}], \"mesh3d\": [{\"colorbar\": {\"outlinewidth\": 0, \"ticks\": \"\"}, \"type\": \"mesh3d\"}], \"parcoords\": [{\"line\": {\"colorbar\": {\"outlinewidth\": 0, \"ticks\": \"\"}}, \"type\": \"parcoords\"}], \"pie\": [{\"automargin\": true, \"type\": \"pie\"}], \"scatter\": [{\"marker\": {\"colorbar\": {\"outlinewidth\": 0, \"ticks\": \"\"}}, \"type\": \"scatter\"}], \"scatter3d\": [{\"line\": {\"colorbar\": {\"outlinewidth\": 0, \"ticks\": \"\"}}, \"marker\": {\"colorbar\": {\"outlinewidth\": 0, \"ticks\": \"\"}}, \"type\": \"scatter3d\"}], \"scattercarpet\": [{\"marker\": {\"colorbar\": {\"outlinewidth\": 0, \"ticks\": \"\"}}, \"type\": \"scattercarpet\"}], \"scattergeo\": [{\"marker\": {\"colorbar\": {\"outlinewidth\": 0, \"ticks\": \"\"}}, \"type\": \"scattergeo\"}], \"scattergl\": [{\"marker\": {\"colorbar\": {\"outlinewidth\": 0, \"ticks\": \"\"}}, \"type\": \"scattergl\"}], \"scattermapbox\": [{\"marker\": {\"colorbar\": {\"outlinewidth\": 0, \"ticks\": \"\"}}, \"type\": \"scattermapbox\"}], \"scatterpolar\": [{\"marker\": {\"colorbar\": {\"outlinewidth\": 0, \"ticks\": \"\"}}, \"type\": \"scatterpolar\"}], \"scatterpolargl\": [{\"marker\": {\"colorbar\": {\"outlinewidth\": 0, \"ticks\": \"\"}}, \"type\": \"scatterpolargl\"}], \"scatterternary\": [{\"marker\": {\"colorbar\": {\"outlinewidth\": 0, \"ticks\": \"\"}}, \"type\": \"scatterternary\"}], \"surface\": [{\"colorbar\": {\"outlinewidth\": 0, \"ticks\": \"\"}, \"colorscale\": [[0.0, \"#0d0887\"], [0.1111111111111111, \"#46039f\"], [0.2222222222222222, \"#7201a8\"], [0.3333333333333333, \"#9c179e\"], [0.4444444444444444, \"#bd3786\"], [0.5555555555555556, \"#d8576b\"], [0.6666666666666666, \"#ed7953\"], [0.7777777777777778, \"#fb9f3a\"], [0.8888888888888888, \"#fdca26\"], [1.0, \"#f0f921\"]], \"type\": \"surface\"}], \"table\": [{\"cells\": {\"fill\": {\"color\": \"#EBF0F8\"}, \"line\": {\"color\": \"white\"}}, \"header\": {\"fill\": {\"color\": \"#C8D4E3\"}, \"line\": {\"color\": \"white\"}}, \"type\": \"table\"}]}, \"layout\": {\"annotationdefaults\": {\"arrowcolor\": \"#2a3f5f\", \"arrowhead\": 0, \"arrowwidth\": 1}, \"coloraxis\": {\"colorbar\": {\"outlinewidth\": 0, \"ticks\": \"\"}}, \"colorscale\": {\"diverging\": [[0, \"#8e0152\"], [0.1, \"#c51b7d\"], [0.2, \"#de77ae\"], [0.3, \"#f1b6da\"], [0.4, \"#fde0ef\"], [0.5, \"#f7f7f7\"], [0.6, \"#e6f5d0\"], [0.7, \"#b8e186\"], [0.8, \"#7fbc41\"], [0.9, \"#4d9221\"], [1, \"#276419\"]], \"sequential\": [[0.0, \"#0d0887\"], [0.1111111111111111, \"#46039f\"], [0.2222222222222222, \"#7201a8\"], [0.3333333333333333, \"#9c179e\"], [0.4444444444444444, \"#bd3786\"], [0.5555555555555556, \"#d8576b\"], [0.6666666666666666, \"#ed7953\"], [0.7777777777777778, \"#fb9f3a\"], [0.8888888888888888, \"#fdca26\"], [1.0, \"#f0f921\"]], \"sequentialminus\": [[0.0, \"#0d0887\"], [0.1111111111111111, \"#46039f\"], [0.2222222222222222, \"#7201a8\"], [0.3333333333333333, \"#9c179e\"], [0.4444444444444444, \"#bd3786\"], [0.5555555555555556, \"#d8576b\"], [0.6666666666666666, \"#ed7953\"], [0.7777777777777778, \"#fb9f3a\"], [0.8888888888888888, \"#fdca26\"], [1.0, \"#f0f921\"]]}, \"colorway\": [\"#636efa\", \"#EF553B\", \"#00cc96\", \"#ab63fa\", \"#FFA15A\", \"#19d3f3\", \"#FF6692\", \"#B6E880\", \"#FF97FF\", \"#FECB52\"], \"font\": {\"color\": \"#2a3f5f\"}, \"geo\": {\"bgcolor\": \"white\", \"lakecolor\": \"white\", \"landcolor\": \"#E5ECF6\", \"showlakes\": true, \"showland\": true, \"subunitcolor\": \"white\"}, \"hoverlabel\": {\"align\": \"left\"}, \"hovermode\": \"closest\", \"mapbox\": {\"style\": \"light\"}, \"paper_bgcolor\": \"white\", \"plot_bgcolor\": \"#E5ECF6\", \"polar\": {\"angularaxis\": {\"gridcolor\": \"white\", \"linecolor\": \"white\", \"ticks\": \"\"}, \"bgcolor\": \"#E5ECF6\", \"radialaxis\": {\"gridcolor\": \"white\", \"linecolor\": \"white\", \"ticks\": \"\"}}, \"scene\": {\"xaxis\": {\"backgroundcolor\": \"#E5ECF6\", \"gridcolor\": \"white\", \"gridwidth\": 2, \"linecolor\": \"white\", \"showbackground\": true, \"ticks\": \"\", \"zerolinecolor\": \"white\"}, \"yaxis\": {\"backgroundcolor\": \"#E5ECF6\", \"gridcolor\": \"white\", \"gridwidth\": 2, \"linecolor\": \"white\", \"showbackground\": true, \"ticks\": \"\", \"zerolinecolor\": \"white\"}, \"zaxis\": {\"backgroundcolor\": \"#E5ECF6\", \"gridcolor\": \"white\", \"gridwidth\": 2, \"linecolor\": \"white\", \"showbackground\": true, \"ticks\": \"\", \"zerolinecolor\": \"white\"}}, \"shapedefaults\": {\"line\": {\"color\": \"#2a3f5f\"}}, \"ternary\": {\"aaxis\": {\"gridcolor\": \"white\", \"linecolor\": \"white\", \"ticks\": \"\"}, \"baxis\": {\"gridcolor\": \"white\", \"linecolor\": \"white\", \"ticks\": \"\"}, \"bgcolor\": \"#E5ECF6\", \"caxis\": {\"gridcolor\": \"white\", \"linecolor\": \"white\", \"ticks\": \"\"}}, \"title\": {\"x\": 0.05}, \"xaxis\": {\"automargin\": true, \"gridcolor\": \"white\", \"linecolor\": \"white\", \"ticks\": \"\", \"title\": {\"standoff\": 15}, \"zerolinecolor\": \"white\", \"zerolinewidth\": 2}, \"yaxis\": {\"automargin\": true, \"gridcolor\": \"white\", \"linecolor\": \"white\", \"ticks\": \"\", \"title\": {\"standoff\": 15}, \"zerolinecolor\": \"white\", \"zerolinewidth\": 2}}}},\n",
       "                        {\"responsive\": true}\n",
       "                    ).then(function(){\n",
       "                            \n",
       "var gd = document.getElementById('ae8159cf-f9d6-4908-af39-41bddd2c8048');\n",
       "var x = new MutationObserver(function (mutations, observer) {{\n",
       "        var display = window.getComputedStyle(gd).display;\n",
       "        if (!display || display === 'none') {{\n",
       "            console.log([gd, 'removed!']);\n",
       "            Plotly.purge(gd);\n",
       "            observer.disconnect();\n",
       "        }}\n",
       "}});\n",
       "\n",
       "// Listen for the removal of the full notebook cells\n",
       "var notebookContainer = gd.closest('#notebook-container');\n",
       "if (notebookContainer) {{\n",
       "    x.observe(notebookContainer, {childList: true});\n",
       "}}\n",
       "\n",
       "// Listen for the clearing of the current output cell\n",
       "var outputEl = gd.closest('.output');\n",
       "if (outputEl) {{\n",
       "    x.observe(outputEl, {childList: true});\n",
       "}}\n",
       "\n",
       "                        })\n",
       "                };\n",
       "                });\n",
       "            </script>\n",
       "        </div>"
      ]
     },
     "metadata": {},
     "output_type": "display_data"
    }
   ],
   "source": [
    "features = ['A', 'E', 'gsw', 'Leaf WP (MPa)', 'Osmotic potantional (MPa)',\n",
    "       'Turgor pressure', 'WUE']\n",
    "fig = px.scatter_matrix(\n",
    "    df_small,\n",
    "    dimensions=features,\n",
    "    color= 'group'\n",
    ")\n",
    "fig.update_traces(diagonal_visible=False)\n",
    "fig.show()\n"
   ]
  },
  {
   "cell_type": "code",
   "execution_count": 9,
   "metadata": {},
   "outputs": [],
   "source": [
    "import plotly.express as px\n",
    "from sklearn.decomposition import PCA"
   ]
  },
  {
   "cell_type": "code",
   "execution_count": 146,
   "metadata": {},
   "outputs": [
    {
     "name": "stdout",
     "output_type": "stream",
     "text": [
      "Shoot\n",
      "Root\n",
      "ShootRoot\n"
     ]
    }
   ],
   "source": [
    "for col in index_day.columns[3:]:\n",
    "    print (col)\n",
    "    Create_graph_pic (index_day,'all_points', col ,dates=dates,)\n",
    "    Create_graph_pic (outliers,'removed_outliers', col ,dates=dates,)\n",
    "    #print (col)"
   ]
  },
  {
   "cell_type": "code",
   "execution_count": 28,
   "metadata": {},
   "outputs": [
    {
     "data": {
      "application/vnd.plotly.v1+json": {
       "config": {
        "plotlyServerURL": "https://plot.ly"
       },
       "data": [
        {
         "alignmentgroup": "True",
         "boxpoints": "all",
         "hovertemplate": "<b>%{hovertext}</b><br><br>Treatment=Flooding<br>Line=%{x}<br>Avrage Spad=%{y}<extra></extra>",
         "hovertext": [
          1,
          2,
          3,
          4,
          5,
          6,
          7,
          8,
          9,
          10,
          22,
          23,
          24,
          25,
          26,
          27,
          29,
          30,
          41,
          42,
          43,
          44,
          45,
          46,
          47,
          48,
          49,
          50
         ],
         "legendgroup": "Flooding",
         "marker": {
          "color": "#636efa"
         },
         "name": "Flooding",
         "notched": false,
         "offsetgroup": "Flooding",
         "orientation": "v",
         "quartilemethod": "exclusive",
         "showlegend": true,
         "type": "box",
         "x": [
          "DR",
          "DR",
          "DR",
          "DR",
          "DR",
          "DR",
          "DR",
          "DR",
          "DR",
          "DR",
          "Cycle 8",
          "Cycle 8",
          "Cycle 8",
          "Cycle 8",
          "Cycle 8",
          "Cycle 8",
          "Cycle 8",
          "Cycle 8",
          "Cycle 0",
          "Cycle 0",
          "Cycle 0",
          "Cycle 0",
          "Cycle 0",
          "Cycle 0",
          "Cycle 0",
          "Cycle 0",
          "Cycle 0",
          "Cycle 0"
         ],
         "x0": " ",
         "xaxis": "x",
         "y": [
          1.1333333333333333,
          20.833333333333332,
          4.6000000000000005,
          14.933333333333332,
          9.066666666666668,
          16.666666666666668,
          1.366666666666667,
          9.533333333333333,
          10.966666666666667,
          20.86666666666667,
          1.2666666666666666,
          1.3,
          3.7000000000000006,
          5.1000000000000005,
          1.2,
          4.3,
          5.266666666666667,
          3.8333333333333335,
          13.5,
          20.099999999999998,
          5.466666666666666,
          5.3999999999999995,
          3.3333333333333335,
          14.5,
          16.366666666666667,
          8.5,
          1.9333333333333333,
          5.433333333333334
         ],
         "y0": " ",
         "yaxis": "y"
        },
        {
         "alignmentgroup": "True",
         "boxpoints": "all",
         "hovertemplate": "<b>%{hovertext}</b><br><br>Treatment=Control<br>Line=%{x}<br>Avrage Spad=%{y}<extra></extra>",
         "hovertext": [
          11,
          12,
          13,
          15,
          16,
          17,
          18,
          19,
          31,
          32,
          33,
          34,
          35,
          36,
          37,
          38,
          52,
          54,
          55,
          56,
          57,
          58,
          59
         ],
         "legendgroup": "Control",
         "marker": {
          "color": "#EF553B"
         },
         "name": "Control",
         "notched": false,
         "offsetgroup": "Control",
         "orientation": "v",
         "quartilemethod": "exclusive",
         "showlegend": true,
         "type": "box",
         "x": [
          "DR",
          "DR",
          "DR",
          "DR",
          "DR",
          "DR",
          "DR",
          "DR",
          "Cycle 8",
          "Cycle 8",
          "Cycle 8",
          "Cycle 8",
          "Cycle 8",
          "Cycle 8",
          "Cycle 8",
          "Cycle 8",
          "Cycle 0",
          "Cycle 0",
          "Cycle 0",
          "Cycle 0",
          "Cycle 0",
          "Cycle 0",
          "Cycle 0"
         ],
         "x0": " ",
         "xaxis": "x",
         "y": [
          28.133333333333336,
          19.066666666666666,
          24.100000000000005,
          26.3,
          19.46666666666667,
          22.8,
          17.266666666666666,
          32.56666666666666,
          19.599999999999998,
          27.133333333333336,
          24.7,
          23.933333333333334,
          19.933333333333334,
          16.966666666666665,
          25.2,
          25.599999999999998,
          17.533333333333335,
          17.666666666666668,
          18.9,
          21.133333333333333,
          23.033333333333335,
          17.3,
          21.633333333333336
         ],
         "y0": " ",
         "yaxis": "y"
        }
       ],
       "layout": {
        "boxmode": "group",
        "legend": {
         "title": {
          "text": "Treatment"
         },
         "tracegroupgap": 0
        },
        "margin": {
         "t": 60
        },
        "template": {
         "data": {
          "bar": [
           {
            "error_x": {
             "color": "#2a3f5f"
            },
            "error_y": {
             "color": "#2a3f5f"
            },
            "marker": {
             "line": {
              "color": "#E5ECF6",
              "width": 0.5
             }
            },
            "type": "bar"
           }
          ],
          "barpolar": [
           {
            "marker": {
             "line": {
              "color": "#E5ECF6",
              "width": 0.5
             }
            },
            "type": "barpolar"
           }
          ],
          "carpet": [
           {
            "aaxis": {
             "endlinecolor": "#2a3f5f",
             "gridcolor": "white",
             "linecolor": "white",
             "minorgridcolor": "white",
             "startlinecolor": "#2a3f5f"
            },
            "baxis": {
             "endlinecolor": "#2a3f5f",
             "gridcolor": "white",
             "linecolor": "white",
             "minorgridcolor": "white",
             "startlinecolor": "#2a3f5f"
            },
            "type": "carpet"
           }
          ],
          "choropleth": [
           {
            "colorbar": {
             "outlinewidth": 0,
             "ticks": ""
            },
            "type": "choropleth"
           }
          ],
          "contour": [
           {
            "colorbar": {
             "outlinewidth": 0,
             "ticks": ""
            },
            "colorscale": [
             [
              0,
              "#0d0887"
             ],
             [
              0.1111111111111111,
              "#46039f"
             ],
             [
              0.2222222222222222,
              "#7201a8"
             ],
             [
              0.3333333333333333,
              "#9c179e"
             ],
             [
              0.4444444444444444,
              "#bd3786"
             ],
             [
              0.5555555555555556,
              "#d8576b"
             ],
             [
              0.6666666666666666,
              "#ed7953"
             ],
             [
              0.7777777777777778,
              "#fb9f3a"
             ],
             [
              0.8888888888888888,
              "#fdca26"
             ],
             [
              1,
              "#f0f921"
             ]
            ],
            "type": "contour"
           }
          ],
          "contourcarpet": [
           {
            "colorbar": {
             "outlinewidth": 0,
             "ticks": ""
            },
            "type": "contourcarpet"
           }
          ],
          "heatmap": [
           {
            "colorbar": {
             "outlinewidth": 0,
             "ticks": ""
            },
            "colorscale": [
             [
              0,
              "#0d0887"
             ],
             [
              0.1111111111111111,
              "#46039f"
             ],
             [
              0.2222222222222222,
              "#7201a8"
             ],
             [
              0.3333333333333333,
              "#9c179e"
             ],
             [
              0.4444444444444444,
              "#bd3786"
             ],
             [
              0.5555555555555556,
              "#d8576b"
             ],
             [
              0.6666666666666666,
              "#ed7953"
             ],
             [
              0.7777777777777778,
              "#fb9f3a"
             ],
             [
              0.8888888888888888,
              "#fdca26"
             ],
             [
              1,
              "#f0f921"
             ]
            ],
            "type": "heatmap"
           }
          ],
          "heatmapgl": [
           {
            "colorbar": {
             "outlinewidth": 0,
             "ticks": ""
            },
            "colorscale": [
             [
              0,
              "#0d0887"
             ],
             [
              0.1111111111111111,
              "#46039f"
             ],
             [
              0.2222222222222222,
              "#7201a8"
             ],
             [
              0.3333333333333333,
              "#9c179e"
             ],
             [
              0.4444444444444444,
              "#bd3786"
             ],
             [
              0.5555555555555556,
              "#d8576b"
             ],
             [
              0.6666666666666666,
              "#ed7953"
             ],
             [
              0.7777777777777778,
              "#fb9f3a"
             ],
             [
              0.8888888888888888,
              "#fdca26"
             ],
             [
              1,
              "#f0f921"
             ]
            ],
            "type": "heatmapgl"
           }
          ],
          "histogram": [
           {
            "marker": {
             "colorbar": {
              "outlinewidth": 0,
              "ticks": ""
             }
            },
            "type": "histogram"
           }
          ],
          "histogram2d": [
           {
            "colorbar": {
             "outlinewidth": 0,
             "ticks": ""
            },
            "colorscale": [
             [
              0,
              "#0d0887"
             ],
             [
              0.1111111111111111,
              "#46039f"
             ],
             [
              0.2222222222222222,
              "#7201a8"
             ],
             [
              0.3333333333333333,
              "#9c179e"
             ],
             [
              0.4444444444444444,
              "#bd3786"
             ],
             [
              0.5555555555555556,
              "#d8576b"
             ],
             [
              0.6666666666666666,
              "#ed7953"
             ],
             [
              0.7777777777777778,
              "#fb9f3a"
             ],
             [
              0.8888888888888888,
              "#fdca26"
             ],
             [
              1,
              "#f0f921"
             ]
            ],
            "type": "histogram2d"
           }
          ],
          "histogram2dcontour": [
           {
            "colorbar": {
             "outlinewidth": 0,
             "ticks": ""
            },
            "colorscale": [
             [
              0,
              "#0d0887"
             ],
             [
              0.1111111111111111,
              "#46039f"
             ],
             [
              0.2222222222222222,
              "#7201a8"
             ],
             [
              0.3333333333333333,
              "#9c179e"
             ],
             [
              0.4444444444444444,
              "#bd3786"
             ],
             [
              0.5555555555555556,
              "#d8576b"
             ],
             [
              0.6666666666666666,
              "#ed7953"
             ],
             [
              0.7777777777777778,
              "#fb9f3a"
             ],
             [
              0.8888888888888888,
              "#fdca26"
             ],
             [
              1,
              "#f0f921"
             ]
            ],
            "type": "histogram2dcontour"
           }
          ],
          "mesh3d": [
           {
            "colorbar": {
             "outlinewidth": 0,
             "ticks": ""
            },
            "type": "mesh3d"
           }
          ],
          "parcoords": [
           {
            "line": {
             "colorbar": {
              "outlinewidth": 0,
              "ticks": ""
             }
            },
            "type": "parcoords"
           }
          ],
          "pie": [
           {
            "automargin": true,
            "type": "pie"
           }
          ],
          "scatter": [
           {
            "marker": {
             "colorbar": {
              "outlinewidth": 0,
              "ticks": ""
             }
            },
            "type": "scatter"
           }
          ],
          "scatter3d": [
           {
            "line": {
             "colorbar": {
              "outlinewidth": 0,
              "ticks": ""
             }
            },
            "marker": {
             "colorbar": {
              "outlinewidth": 0,
              "ticks": ""
             }
            },
            "type": "scatter3d"
           }
          ],
          "scattercarpet": [
           {
            "marker": {
             "colorbar": {
              "outlinewidth": 0,
              "ticks": ""
             }
            },
            "type": "scattercarpet"
           }
          ],
          "scattergeo": [
           {
            "marker": {
             "colorbar": {
              "outlinewidth": 0,
              "ticks": ""
             }
            },
            "type": "scattergeo"
           }
          ],
          "scattergl": [
           {
            "marker": {
             "colorbar": {
              "outlinewidth": 0,
              "ticks": ""
             }
            },
            "type": "scattergl"
           }
          ],
          "scattermapbox": [
           {
            "marker": {
             "colorbar": {
              "outlinewidth": 0,
              "ticks": ""
             }
            },
            "type": "scattermapbox"
           }
          ],
          "scatterpolar": [
           {
            "marker": {
             "colorbar": {
              "outlinewidth": 0,
              "ticks": ""
             }
            },
            "type": "scatterpolar"
           }
          ],
          "scatterpolargl": [
           {
            "marker": {
             "colorbar": {
              "outlinewidth": 0,
              "ticks": ""
             }
            },
            "type": "scatterpolargl"
           }
          ],
          "scatterternary": [
           {
            "marker": {
             "colorbar": {
              "outlinewidth": 0,
              "ticks": ""
             }
            },
            "type": "scatterternary"
           }
          ],
          "surface": [
           {
            "colorbar": {
             "outlinewidth": 0,
             "ticks": ""
            },
            "colorscale": [
             [
              0,
              "#0d0887"
             ],
             [
              0.1111111111111111,
              "#46039f"
             ],
             [
              0.2222222222222222,
              "#7201a8"
             ],
             [
              0.3333333333333333,
              "#9c179e"
             ],
             [
              0.4444444444444444,
              "#bd3786"
             ],
             [
              0.5555555555555556,
              "#d8576b"
             ],
             [
              0.6666666666666666,
              "#ed7953"
             ],
             [
              0.7777777777777778,
              "#fb9f3a"
             ],
             [
              0.8888888888888888,
              "#fdca26"
             ],
             [
              1,
              "#f0f921"
             ]
            ],
            "type": "surface"
           }
          ],
          "table": [
           {
            "cells": {
             "fill": {
              "color": "#EBF0F8"
             },
             "line": {
              "color": "white"
             }
            },
            "header": {
             "fill": {
              "color": "#C8D4E3"
             },
             "line": {
              "color": "white"
             }
            },
            "type": "table"
           }
          ]
         },
         "layout": {
          "annotationdefaults": {
           "arrowcolor": "#2a3f5f",
           "arrowhead": 0,
           "arrowwidth": 1
          },
          "coloraxis": {
           "colorbar": {
            "outlinewidth": 0,
            "ticks": ""
           }
          },
          "colorscale": {
           "diverging": [
            [
             0,
             "#8e0152"
            ],
            [
             0.1,
             "#c51b7d"
            ],
            [
             0.2,
             "#de77ae"
            ],
            [
             0.3,
             "#f1b6da"
            ],
            [
             0.4,
             "#fde0ef"
            ],
            [
             0.5,
             "#f7f7f7"
            ],
            [
             0.6,
             "#e6f5d0"
            ],
            [
             0.7,
             "#b8e186"
            ],
            [
             0.8,
             "#7fbc41"
            ],
            [
             0.9,
             "#4d9221"
            ],
            [
             1,
             "#276419"
            ]
           ],
           "sequential": [
            [
             0,
             "#0d0887"
            ],
            [
             0.1111111111111111,
             "#46039f"
            ],
            [
             0.2222222222222222,
             "#7201a8"
            ],
            [
             0.3333333333333333,
             "#9c179e"
            ],
            [
             0.4444444444444444,
             "#bd3786"
            ],
            [
             0.5555555555555556,
             "#d8576b"
            ],
            [
             0.6666666666666666,
             "#ed7953"
            ],
            [
             0.7777777777777778,
             "#fb9f3a"
            ],
            [
             0.8888888888888888,
             "#fdca26"
            ],
            [
             1,
             "#f0f921"
            ]
           ],
           "sequentialminus": [
            [
             0,
             "#0d0887"
            ],
            [
             0.1111111111111111,
             "#46039f"
            ],
            [
             0.2222222222222222,
             "#7201a8"
            ],
            [
             0.3333333333333333,
             "#9c179e"
            ],
            [
             0.4444444444444444,
             "#bd3786"
            ],
            [
             0.5555555555555556,
             "#d8576b"
            ],
            [
             0.6666666666666666,
             "#ed7953"
            ],
            [
             0.7777777777777778,
             "#fb9f3a"
            ],
            [
             0.8888888888888888,
             "#fdca26"
            ],
            [
             1,
             "#f0f921"
            ]
           ]
          },
          "colorway": [
           "#636efa",
           "#EF553B",
           "#00cc96",
           "#ab63fa",
           "#FFA15A",
           "#19d3f3",
           "#FF6692",
           "#B6E880",
           "#FF97FF",
           "#FECB52"
          ],
          "font": {
           "color": "#2a3f5f"
          },
          "geo": {
           "bgcolor": "white",
           "lakecolor": "white",
           "landcolor": "#E5ECF6",
           "showlakes": true,
           "showland": true,
           "subunitcolor": "white"
          },
          "hoverlabel": {
           "align": "left"
          },
          "hovermode": "closest",
          "mapbox": {
           "style": "light"
          },
          "paper_bgcolor": "white",
          "plot_bgcolor": "#E5ECF6",
          "polar": {
           "angularaxis": {
            "gridcolor": "white",
            "linecolor": "white",
            "ticks": ""
           },
           "bgcolor": "#E5ECF6",
           "radialaxis": {
            "gridcolor": "white",
            "linecolor": "white",
            "ticks": ""
           }
          },
          "scene": {
           "xaxis": {
            "backgroundcolor": "#E5ECF6",
            "gridcolor": "white",
            "gridwidth": 2,
            "linecolor": "white",
            "showbackground": true,
            "ticks": "",
            "zerolinecolor": "white"
           },
           "yaxis": {
            "backgroundcolor": "#E5ECF6",
            "gridcolor": "white",
            "gridwidth": 2,
            "linecolor": "white",
            "showbackground": true,
            "ticks": "",
            "zerolinecolor": "white"
           },
           "zaxis": {
            "backgroundcolor": "#E5ECF6",
            "gridcolor": "white",
            "gridwidth": 2,
            "linecolor": "white",
            "showbackground": true,
            "ticks": "",
            "zerolinecolor": "white"
           }
          },
          "shapedefaults": {
           "line": {
            "color": "#2a3f5f"
           }
          },
          "ternary": {
           "aaxis": {
            "gridcolor": "white",
            "linecolor": "white",
            "ticks": ""
           },
           "baxis": {
            "gridcolor": "white",
            "linecolor": "white",
            "ticks": ""
           },
           "bgcolor": "#E5ECF6",
           "caxis": {
            "gridcolor": "white",
            "linecolor": "white",
            "ticks": ""
           }
          },
          "title": {
           "x": 0.05
          },
          "xaxis": {
           "automargin": true,
           "gridcolor": "white",
           "linecolor": "white",
           "ticks": "",
           "title": {
            "standoff": 15
           },
           "zerolinecolor": "white",
           "zerolinewidth": 2
          },
          "yaxis": {
           "automargin": true,
           "gridcolor": "white",
           "linecolor": "white",
           "ticks": "",
           "title": {
            "standoff": 15
           },
           "zerolinecolor": "white",
           "zerolinewidth": 2
          }
         }
        },
        "xaxis": {
         "anchor": "y",
         "domain": [
          0,
          1
         ],
         "title": {
          "text": "Line"
         }
        },
        "yaxis": {
         "anchor": "x",
         "domain": [
          0,
          1
         ],
         "title": {
          "text": "Avrage Spad"
         }
        }
       }
      },
      "text/html": [
       "<div>\n",
       "        \n",
       "        \n",
       "            <div id=\"082f1036-5d2c-4b2f-833f-09af9ee9ee2c\" class=\"plotly-graph-div\" style=\"height:525px; width:100%;\"></div>\n",
       "            <script type=\"text/javascript\">\n",
       "                require([\"plotly\"], function(Plotly) {\n",
       "                    window.PLOTLYENV=window.PLOTLYENV || {};\n",
       "                    \n",
       "                if (document.getElementById(\"082f1036-5d2c-4b2f-833f-09af9ee9ee2c\")) {\n",
       "                    Plotly.newPlot(\n",
       "                        '082f1036-5d2c-4b2f-833f-09af9ee9ee2c',\n",
       "                        [{\"alignmentgroup\": \"True\", \"boxpoints\": \"all\", \"hovertemplate\": \"<b>%{hovertext}</b><br><br>Treatment=Flooding<br>Line=%{x}<br>Avrage Spad=%{y}<extra></extra>\", \"hovertext\": [1.0, 2.0, 3.0, 4.0, 5.0, 6.0, 7.0, 8.0, 9.0, 10.0, 22.0, 23.0, 24.0, 25.0, 26.0, 27.0, 29.0, 30.0, 41.0, 42.0, 43.0, 44.0, 45.0, 46.0, 47.0, 48.0, 49.0, 50.0], \"legendgroup\": \"Flooding\", \"marker\": {\"color\": \"#636efa\"}, \"name\": \"Flooding\", \"notched\": false, \"offsetgroup\": \"Flooding\", \"orientation\": \"v\", \"quartilemethod\": \"exclusive\", \"showlegend\": true, \"type\": \"box\", \"x\": [\"DR\", \"DR\", \"DR\", \"DR\", \"DR\", \"DR\", \"DR\", \"DR\", \"DR\", \"DR\", \"Cycle 8\", \"Cycle 8\", \"Cycle 8\", \"Cycle 8\", \"Cycle 8\", \"Cycle 8\", \"Cycle 8\", \"Cycle 8\", \"Cycle 0\", \"Cycle 0\", \"Cycle 0\", \"Cycle 0\", \"Cycle 0\", \"Cycle 0\", \"Cycle 0\", \"Cycle 0\", \"Cycle 0\", \"Cycle 0\"], \"x0\": \" \", \"xaxis\": \"x\", \"y\": [1.1333333333333333, 20.833333333333332, 4.6000000000000005, 14.933333333333332, 9.066666666666668, 16.666666666666668, 1.366666666666667, 9.533333333333333, 10.966666666666667, 20.86666666666667, 1.2666666666666666, 1.3, 3.7000000000000006, 5.1000000000000005, 1.2, 4.3, 5.266666666666667, 3.8333333333333335, 13.5, 20.099999999999998, 5.466666666666666, 5.3999999999999995, 3.3333333333333335, 14.5, 16.366666666666667, 8.5, 1.9333333333333333, 5.433333333333334], \"y0\": \" \", \"yaxis\": \"y\"}, {\"alignmentgroup\": \"True\", \"boxpoints\": \"all\", \"hovertemplate\": \"<b>%{hovertext}</b><br><br>Treatment=Control<br>Line=%{x}<br>Avrage Spad=%{y}<extra></extra>\", \"hovertext\": [11.0, 12.0, 13.0, 15.0, 16.0, 17.0, 18.0, 19.0, 31.0, 32.0, 33.0, 34.0, 35.0, 36.0, 37.0, 38.0, 52.0, 54.0, 55.0, 56.0, 57.0, 58.0, 59.0], \"legendgroup\": \"Control\", \"marker\": {\"color\": \"#EF553B\"}, \"name\": \"Control\", \"notched\": false, \"offsetgroup\": \"Control\", \"orientation\": \"v\", \"quartilemethod\": \"exclusive\", \"showlegend\": true, \"type\": \"box\", \"x\": [\"DR\", \"DR\", \"DR\", \"DR\", \"DR\", \"DR\", \"DR\", \"DR\", \"Cycle 8\", \"Cycle 8\", \"Cycle 8\", \"Cycle 8\", \"Cycle 8\", \"Cycle 8\", \"Cycle 8\", \"Cycle 8\", \"Cycle 0\", \"Cycle 0\", \"Cycle 0\", \"Cycle 0\", \"Cycle 0\", \"Cycle 0\", \"Cycle 0\"], \"x0\": \" \", \"xaxis\": \"x\", \"y\": [28.133333333333336, 19.066666666666666, 24.100000000000005, 26.3, 19.46666666666667, 22.8, 17.266666666666666, 32.56666666666666, 19.599999999999998, 27.133333333333336, 24.7, 23.933333333333334, 19.933333333333334, 16.966666666666665, 25.2, 25.599999999999998, 17.533333333333335, 17.666666666666668, 18.9, 21.133333333333333, 23.033333333333335, 17.3, 21.633333333333336], \"y0\": \" \", \"yaxis\": \"y\"}],\n",
       "                        {\"boxmode\": \"group\", \"legend\": {\"title\": {\"text\": \"Treatment\"}, \"tracegroupgap\": 0}, \"margin\": {\"t\": 60}, \"template\": {\"data\": {\"bar\": [{\"error_x\": {\"color\": \"#2a3f5f\"}, \"error_y\": {\"color\": \"#2a3f5f\"}, \"marker\": {\"line\": {\"color\": \"#E5ECF6\", \"width\": 0.5}}, \"type\": \"bar\"}], \"barpolar\": [{\"marker\": {\"line\": {\"color\": \"#E5ECF6\", \"width\": 0.5}}, \"type\": \"barpolar\"}], \"carpet\": [{\"aaxis\": {\"endlinecolor\": \"#2a3f5f\", \"gridcolor\": \"white\", \"linecolor\": \"white\", \"minorgridcolor\": \"white\", \"startlinecolor\": \"#2a3f5f\"}, \"baxis\": {\"endlinecolor\": \"#2a3f5f\", \"gridcolor\": \"white\", \"linecolor\": \"white\", \"minorgridcolor\": \"white\", \"startlinecolor\": \"#2a3f5f\"}, \"type\": \"carpet\"}], \"choropleth\": [{\"colorbar\": {\"outlinewidth\": 0, \"ticks\": \"\"}, \"type\": \"choropleth\"}], \"contour\": [{\"colorbar\": {\"outlinewidth\": 0, \"ticks\": \"\"}, \"colorscale\": [[0.0, \"#0d0887\"], [0.1111111111111111, \"#46039f\"], [0.2222222222222222, \"#7201a8\"], [0.3333333333333333, \"#9c179e\"], [0.4444444444444444, \"#bd3786\"], [0.5555555555555556, \"#d8576b\"], [0.6666666666666666, \"#ed7953\"], [0.7777777777777778, \"#fb9f3a\"], [0.8888888888888888, \"#fdca26\"], [1.0, \"#f0f921\"]], \"type\": \"contour\"}], \"contourcarpet\": [{\"colorbar\": {\"outlinewidth\": 0, \"ticks\": \"\"}, \"type\": \"contourcarpet\"}], \"heatmap\": [{\"colorbar\": {\"outlinewidth\": 0, \"ticks\": \"\"}, \"colorscale\": [[0.0, \"#0d0887\"], [0.1111111111111111, \"#46039f\"], [0.2222222222222222, \"#7201a8\"], [0.3333333333333333, \"#9c179e\"], [0.4444444444444444, \"#bd3786\"], [0.5555555555555556, \"#d8576b\"], [0.6666666666666666, \"#ed7953\"], [0.7777777777777778, \"#fb9f3a\"], [0.8888888888888888, \"#fdca26\"], [1.0, \"#f0f921\"]], \"type\": \"heatmap\"}], \"heatmapgl\": [{\"colorbar\": {\"outlinewidth\": 0, \"ticks\": \"\"}, \"colorscale\": [[0.0, \"#0d0887\"], [0.1111111111111111, \"#46039f\"], [0.2222222222222222, \"#7201a8\"], [0.3333333333333333, \"#9c179e\"], [0.4444444444444444, \"#bd3786\"], [0.5555555555555556, \"#d8576b\"], [0.6666666666666666, \"#ed7953\"], [0.7777777777777778, \"#fb9f3a\"], [0.8888888888888888, \"#fdca26\"], [1.0, \"#f0f921\"]], \"type\": \"heatmapgl\"}], \"histogram\": [{\"marker\": {\"colorbar\": {\"outlinewidth\": 0, \"ticks\": \"\"}}, \"type\": \"histogram\"}], \"histogram2d\": [{\"colorbar\": {\"outlinewidth\": 0, \"ticks\": \"\"}, \"colorscale\": [[0.0, \"#0d0887\"], [0.1111111111111111, \"#46039f\"], [0.2222222222222222, \"#7201a8\"], [0.3333333333333333, \"#9c179e\"], [0.4444444444444444, \"#bd3786\"], [0.5555555555555556, \"#d8576b\"], [0.6666666666666666, \"#ed7953\"], [0.7777777777777778, \"#fb9f3a\"], [0.8888888888888888, \"#fdca26\"], [1.0, \"#f0f921\"]], \"type\": \"histogram2d\"}], \"histogram2dcontour\": [{\"colorbar\": {\"outlinewidth\": 0, \"ticks\": \"\"}, \"colorscale\": [[0.0, \"#0d0887\"], [0.1111111111111111, \"#46039f\"], [0.2222222222222222, \"#7201a8\"], [0.3333333333333333, \"#9c179e\"], [0.4444444444444444, \"#bd3786\"], [0.5555555555555556, \"#d8576b\"], [0.6666666666666666, \"#ed7953\"], [0.7777777777777778, \"#fb9f3a\"], [0.8888888888888888, \"#fdca26\"], [1.0, \"#f0f921\"]], \"type\": \"histogram2dcontour\"}], \"mesh3d\": [{\"colorbar\": {\"outlinewidth\": 0, \"ticks\": \"\"}, \"type\": \"mesh3d\"}], \"parcoords\": [{\"line\": {\"colorbar\": {\"outlinewidth\": 0, \"ticks\": \"\"}}, \"type\": \"parcoords\"}], \"pie\": [{\"automargin\": true, \"type\": \"pie\"}], \"scatter\": [{\"marker\": {\"colorbar\": {\"outlinewidth\": 0, \"ticks\": \"\"}}, \"type\": \"scatter\"}], \"scatter3d\": [{\"line\": {\"colorbar\": {\"outlinewidth\": 0, \"ticks\": \"\"}}, \"marker\": {\"colorbar\": {\"outlinewidth\": 0, \"ticks\": \"\"}}, \"type\": \"scatter3d\"}], \"scattercarpet\": [{\"marker\": {\"colorbar\": {\"outlinewidth\": 0, \"ticks\": \"\"}}, \"type\": \"scattercarpet\"}], \"scattergeo\": [{\"marker\": {\"colorbar\": {\"outlinewidth\": 0, \"ticks\": \"\"}}, \"type\": \"scattergeo\"}], \"scattergl\": [{\"marker\": {\"colorbar\": {\"outlinewidth\": 0, \"ticks\": \"\"}}, \"type\": \"scattergl\"}], \"scattermapbox\": [{\"marker\": {\"colorbar\": {\"outlinewidth\": 0, \"ticks\": \"\"}}, \"type\": \"scattermapbox\"}], \"scatterpolar\": [{\"marker\": {\"colorbar\": {\"outlinewidth\": 0, \"ticks\": \"\"}}, \"type\": \"scatterpolar\"}], \"scatterpolargl\": [{\"marker\": {\"colorbar\": {\"outlinewidth\": 0, \"ticks\": \"\"}}, \"type\": \"scatterpolargl\"}], \"scatterternary\": [{\"marker\": {\"colorbar\": {\"outlinewidth\": 0, \"ticks\": \"\"}}, \"type\": \"scatterternary\"}], \"surface\": [{\"colorbar\": {\"outlinewidth\": 0, \"ticks\": \"\"}, \"colorscale\": [[0.0, \"#0d0887\"], [0.1111111111111111, \"#46039f\"], [0.2222222222222222, \"#7201a8\"], [0.3333333333333333, \"#9c179e\"], [0.4444444444444444, \"#bd3786\"], [0.5555555555555556, \"#d8576b\"], [0.6666666666666666, \"#ed7953\"], [0.7777777777777778, \"#fb9f3a\"], [0.8888888888888888, \"#fdca26\"], [1.0, \"#f0f921\"]], \"type\": \"surface\"}], \"table\": [{\"cells\": {\"fill\": {\"color\": \"#EBF0F8\"}, \"line\": {\"color\": \"white\"}}, \"header\": {\"fill\": {\"color\": \"#C8D4E3\"}, \"line\": {\"color\": \"white\"}}, \"type\": \"table\"}]}, \"layout\": {\"annotationdefaults\": {\"arrowcolor\": \"#2a3f5f\", \"arrowhead\": 0, \"arrowwidth\": 1}, \"coloraxis\": {\"colorbar\": {\"outlinewidth\": 0, \"ticks\": \"\"}}, \"colorscale\": {\"diverging\": [[0, \"#8e0152\"], [0.1, \"#c51b7d\"], [0.2, \"#de77ae\"], [0.3, \"#f1b6da\"], [0.4, \"#fde0ef\"], [0.5, \"#f7f7f7\"], [0.6, \"#e6f5d0\"], [0.7, \"#b8e186\"], [0.8, \"#7fbc41\"], [0.9, \"#4d9221\"], [1, \"#276419\"]], \"sequential\": [[0.0, \"#0d0887\"], [0.1111111111111111, \"#46039f\"], [0.2222222222222222, \"#7201a8\"], [0.3333333333333333, \"#9c179e\"], [0.4444444444444444, \"#bd3786\"], [0.5555555555555556, \"#d8576b\"], [0.6666666666666666, \"#ed7953\"], [0.7777777777777778, \"#fb9f3a\"], [0.8888888888888888, \"#fdca26\"], [1.0, \"#f0f921\"]], \"sequentialminus\": [[0.0, \"#0d0887\"], [0.1111111111111111, \"#46039f\"], [0.2222222222222222, \"#7201a8\"], [0.3333333333333333, \"#9c179e\"], [0.4444444444444444, \"#bd3786\"], [0.5555555555555556, \"#d8576b\"], [0.6666666666666666, \"#ed7953\"], [0.7777777777777778, \"#fb9f3a\"], [0.8888888888888888, \"#fdca26\"], [1.0, \"#f0f921\"]]}, \"colorway\": [\"#636efa\", \"#EF553B\", \"#00cc96\", \"#ab63fa\", \"#FFA15A\", \"#19d3f3\", \"#FF6692\", \"#B6E880\", \"#FF97FF\", \"#FECB52\"], \"font\": {\"color\": \"#2a3f5f\"}, \"geo\": {\"bgcolor\": \"white\", \"lakecolor\": \"white\", \"landcolor\": \"#E5ECF6\", \"showlakes\": true, \"showland\": true, \"subunitcolor\": \"white\"}, \"hoverlabel\": {\"align\": \"left\"}, \"hovermode\": \"closest\", \"mapbox\": {\"style\": \"light\"}, \"paper_bgcolor\": \"white\", \"plot_bgcolor\": \"#E5ECF6\", \"polar\": {\"angularaxis\": {\"gridcolor\": \"white\", \"linecolor\": \"white\", \"ticks\": \"\"}, \"bgcolor\": \"#E5ECF6\", \"radialaxis\": {\"gridcolor\": \"white\", \"linecolor\": \"white\", \"ticks\": \"\"}}, \"scene\": {\"xaxis\": {\"backgroundcolor\": \"#E5ECF6\", \"gridcolor\": \"white\", \"gridwidth\": 2, \"linecolor\": \"white\", \"showbackground\": true, \"ticks\": \"\", \"zerolinecolor\": \"white\"}, \"yaxis\": {\"backgroundcolor\": \"#E5ECF6\", \"gridcolor\": \"white\", \"gridwidth\": 2, \"linecolor\": \"white\", \"showbackground\": true, \"ticks\": \"\", \"zerolinecolor\": \"white\"}, \"zaxis\": {\"backgroundcolor\": \"#E5ECF6\", \"gridcolor\": \"white\", \"gridwidth\": 2, \"linecolor\": \"white\", \"showbackground\": true, \"ticks\": \"\", \"zerolinecolor\": \"white\"}}, \"shapedefaults\": {\"line\": {\"color\": \"#2a3f5f\"}}, \"ternary\": {\"aaxis\": {\"gridcolor\": \"white\", \"linecolor\": \"white\", \"ticks\": \"\"}, \"baxis\": {\"gridcolor\": \"white\", \"linecolor\": \"white\", \"ticks\": \"\"}, \"bgcolor\": \"#E5ECF6\", \"caxis\": {\"gridcolor\": \"white\", \"linecolor\": \"white\", \"ticks\": \"\"}}, \"title\": {\"x\": 0.05}, \"xaxis\": {\"automargin\": true, \"gridcolor\": \"white\", \"linecolor\": \"white\", \"ticks\": \"\", \"title\": {\"standoff\": 15}, \"zerolinecolor\": \"white\", \"zerolinewidth\": 2}, \"yaxis\": {\"automargin\": true, \"gridcolor\": \"white\", \"linecolor\": \"white\", \"ticks\": \"\", \"title\": {\"standoff\": 15}, \"zerolinecolor\": \"white\", \"zerolinewidth\": 2}}}, \"xaxis\": {\"anchor\": \"y\", \"domain\": [0.0, 1.0], \"title\": {\"text\": \"Line\"}}, \"yaxis\": {\"anchor\": \"x\", \"domain\": [0.0, 1.0], \"title\": {\"text\": \"Avrage Spad\"}}},\n",
       "                        {\"responsive\": true}\n",
       "                    ).then(function(){\n",
       "                            \n",
       "var gd = document.getElementById('082f1036-5d2c-4b2f-833f-09af9ee9ee2c');\n",
       "var x = new MutationObserver(function (mutations, observer) {{\n",
       "        var display = window.getComputedStyle(gd).display;\n",
       "        if (!display || display === 'none') {{\n",
       "            console.log([gd, 'removed!']);\n",
       "            Plotly.purge(gd);\n",
       "            observer.disconnect();\n",
       "        }}\n",
       "}});\n",
       "\n",
       "// Listen for the removal of the full notebook cells\n",
       "var notebookContainer = gd.closest('#notebook-container');\n",
       "if (notebookContainer) {{\n",
       "    x.observe(notebookContainer, {childList: true});\n",
       "}}\n",
       "\n",
       "// Listen for the clearing of the current output cell\n",
       "var outputEl = gd.closest('.output');\n",
       "if (outputEl) {{\n",
       "    x.observe(outputEl, {childList: true});\n",
       "}}\n",
       "\n",
       "                        })\n",
       "                };\n",
       "                });\n",
       "            </script>\n",
       "        </div>"
      ]
     },
     "metadata": {},
     "output_type": "display_data"
    }
   ],
   "source": [
    "box_plots (index_day.dropna(), 'Avrage Spad' ,dates=dates)\n",
    "Create_graph_pic (index_day.dropna(), 'Avrage Spad' ,dates=dates)"
   ]
  },
  {
   "cell_type": "code",
   "execution_count": 122,
   "metadata": {},
   "outputs": [
    {
     "name": "stdout",
     "output_type": "stream",
     "text": [
      "06.12.2020\n",
      "E\n",
      "A\n",
      "gsw\n",
      "FvFm\n",
      "WUE\n",
      "Osmotic potantional (MPa)\n",
      "Leaf WP (MPa)\n",
      "Turgor pressure\n",
      "10.12.2020\n",
      "E\n",
      "A\n",
      "gsw\n",
      "FvFm\n",
      "WUE\n",
      "Leaf WP (MPa)\n",
      "24.11.2020\n",
      "gsw\n",
      "WUE\n",
      "Osmotic potantional (MPa)\n",
      "Leaf WP (MPa)\n",
      "29.11.2020\n",
      "gsw\n",
      "FvFm\n",
      "WUE\n"
     ]
    }
   ],
   "source": [
    "whole_all={}\n",
    "clear_index=pd.read_excel(path+'\\\\index.xlsx',sheet_name='Clear', index_col='Plant number')\n",
    "for col in clear_index.columns[3:]:\n",
    "    whole_all[col]=pd.DataFrame(index=clear_index.index)\n",
    "    whole_all[col]['Treatment']=clear_index['Treatment']\n",
    "    whole_all[col]['Line']=clear_index['Line']\n",
    "for files_input in os.listdir(path+'\\\\output\\\\'):\n",
    "    print (files_input)\n",
    "    full_df=pd.read_excel(path+'\\\\output\\\\'+files_input+'\\\\full_excel_'+files_input+'.xlsx', sheet_name=files_input, index='Plant number'\n",
    ")\n",
    "    for col_whole in full_df.columns[4:-1]:\n",
    "        #for i in full_df.index:\n",
    "        print (col_whole)\n",
    "        whole_all[col_whole][files_input]=full_df[col_whole]"
   ]
  },
  {
   "cell_type": "code",
   "execution_count": 125,
   "metadata": {},
   "outputs": [
    {
     "name": "stdout",
     "output_type": "stream",
     "text": [
      "Treatment\n",
      "Line\n",
      "Treatment\n",
      "Line\n",
      "06.12.2020\n",
      "10.12.2020\n",
      "Treatment\n",
      "Line\n",
      "06.12.2020\n",
      "10.12.2020\n",
      "Treatment\n",
      "Line\n",
      "06.12.2020\n",
      "10.12.2020\n",
      "24.11.2020\n",
      "29.11.2020\n",
      "Treatment\n",
      "Line\n",
      "06.12.2020\n",
      "10.12.2020\n",
      "29.11.2020\n",
      "Treatment\n",
      "Line\n",
      "06.12.2020\n",
      "10.12.2020\n",
      "24.11.2020\n",
      "29.11.2020\n",
      "Treatment\n",
      "Line\n",
      "06.12.2020\n",
      "24.11.2020\n",
      "Treatment\n",
      "Line\n",
      "06.12.2020\n",
      "10.12.2020\n",
      "24.11.2020\n",
      "Treatment\n",
      "Line\n",
      "06.12.2020\n"
     ]
    }
   ],
   "source": [
    "fig = go.Figure()\n",
    "for key in whole_all:\n",
    "    fig = go.Figure()\n",
    "    for i in whole_all[key]:\n",
    "        print (i)\n",
    "    #fig.add_trace(go.Scatter(x=whole_all[key].columns, y=random_y0,\n",
    "                    #mode='markers',\n",
    "                   # name='markers'))"
   ]
  },
  {
   "cell_type": "code",
   "execution_count": 127,
   "metadata": {},
   "outputs": [
    {
     "data": {
      "text/plain": [
       "'Turgor pressure'"
      ]
     },
     "execution_count": 127,
     "metadata": {},
     "output_type": "execute_result"
    }
   ],
   "source": [
    "key"
   ]
  },
  {
   "cell_type": "code",
   "execution_count": null,
   "metadata": {},
   "outputs": [],
   "source": []
  }
 ],
 "metadata": {
  "kernelspec": {
   "display_name": "Python 3",
   "language": "python",
   "name": "python3"
  },
  "language_info": {
   "codemirror_mode": {
    "name": "ipython",
    "version": 3
   },
   "file_extension": ".py",
   "mimetype": "text/x-python",
   "name": "python",
   "nbconvert_exporter": "python",
   "pygments_lexer": "ipython3",
   "version": "3.7.4"
  }
 },
 "nbformat": 4,
 "nbformat_minor": 2
}
